{
 "cells": [
  {
   "cell_type": "markdown",
   "id": "11b54d98",
   "metadata": {},
   "source": [
    "# Travelling wave symmetries for a model of epithelial cell migration \n",
    "*Date:* 2022-11-17,<br>\n",
    "*Written by:* Johannes Borgqvist.<br>\n",
    "\n",
    "We analyse the following second order travelling wave ODE \n",
    "\n",
    "$$\\dfrac{\\mathrm{d}}{\\mathrm{d}z}\\left(\\dfrac{1}{u(z)}\\dfrac{\\mathrm{d}u}{\\mathrm{d}z}\\right)+c\\dfrac{\\mathrm{d}u}{\\mathrm{d}z}+f(u(z))=0.$$\n",
    "with $f(u)=c_0+c_1 u+c_2 u^2+c_3 u^3$. This is a generalisation of the model in [1] that describes *cell migration in an epithelial tissue*. \n",
    "\n",
    "\n",
    "By denoting derivatives by $\\mathrm{d}u/\\mathrm{d}z=u'$ this ODE can be re-written as follows:\n",
    "\\begin{equation}\n",
    "    u''-\\dfrac{(u')^2}{u}+cu'u+u f(u)=0.\n",
    "\\end{equation}\n",
    "Now, we are interested in an infinitesimal generator of the Lie group\n",
    "$$X=\\xi(z,u)\\partial_z+\\eta(z,u)\\partial_u$$\n",
    "which has a second prolongation given by\n",
    "$$X^{(2)}=\\xi(z,u)\\partial_z+\\eta(z,u)\\partial_u+\\eta^{(1)}(z,u,u')\\partial_{u'}+\\eta^{(2)}(z,u,u',u'')\\partial_{u''}.$$\n",
    "Here, the two prolonged infinitesimals $\\eta^{(1)}$ and $\\eta^{(2)}$ are given by [2]\n",
    "\\begin{align}\n",
    "    \\eta^{(1)}(z,u,u')&=\\eta_z+(\\eta_u-\\xi_z)u'-\\xi_u\\left(u'\\right)^2,\\\\\n",
    "    \\eta^{(2)}(z,u,u',u'')&=\\eta_{zz}+(2\\eta_{zu}-\\xi_{zz})u'+\\left(\\eta_{uu}-2\\xi_{zu}\\right)\\left(u'\\right)^2-\\xi_{uu}\\left(u'\\right)^3\\nonumber\\\\\n",
    "    &+\\left\\{\\eta_u - 2\\xi_z -3\\xi_u u'\\right\\}u''.    \n",
    "\\end{align}\n",
    "By calculating the prolonged infinitesimals $\\eta^{(1)}$ and $\\eta^{(2)}$, plugging these into this linearised symmetry condition, and then organising the resulting equation in terms of powers of $u'$ results in the following four so called *determining equations*\n",
    "\\begin{align}\n",
    "(u')^3:&\\quad\\xi_{uu}+\\dfrac{2}{u}\\xi_u&=0,\\label{eq:det_eq_1_l_2}\\\\\n",
    "(u')^2:&\\quad2c\\xi_u u^{2}+\\eta_{uu}-2\\xi_{zu}-\\dfrac{2\\eta_u}{u}+\\dfrac{2\\eta}{u^2}&=0,\\label{eq:det_eq_2_l_2}\\\\\n",
    "u':&\\quad cu^{2}\\xi_z+3u^{2}\\xi_u f(u)+2\\eta_{zu}-\\xi_{zz}-\\dfrac{4}{u}\\eta_z+2c u\\eta&=0,\\label{det_eq_3_l_2}\\\\\n",
    "1:&\\quad \\left(2u f(u)+u^2\\dfrac{\\mathrm{d}f}{\\mathrm{d}u}\\right)\\eta+cu^{2}\\eta_z+\\eta_{zz}+u^{2}f(u)(2\\xi_z-\\eta_u)&\\quad=0.\\label{det_eq_4_l_2}\n",
    "\\end{align}\n",
    "Now, we will treat these four equations systematically, and solve them one by one. We will use our friend *SymPy* to do this.\n",
    "\n",
    "**References**<br>\n",
    "[1] 2020, R.J. Murphy, P.R. Buenzli , R.E. Baker , M.J. Simpson, \"*Travelling waves in a free boundary mechanobiological model of an\n",
    "epithelial tissue*\", Applied Mathematics Letters, Elsevier.<br>\n",
    "[2] 2000, P.E. Hydon, \"*Symmetry methods for differential equations: a beginner's guide*\", Cambridge University Press, Volume 22."
   ]
  },
  {
   "cell_type": "code",
   "execution_count": 1,
   "id": "ce38b7fe",
   "metadata": {},
   "outputs": [],
   "source": [
    "# Import sympy which we will do all symbolic calculations in\n",
    "from sympy import *\n",
    "init_printing(use_latex='mathjax')"
   ]
  },
  {
   "cell_type": "markdown",
   "id": "15f44d0b",
   "metadata": {},
   "source": [
    "# Determining equation 1\n",
    "Ok, so we are interested in the following PDE\n",
    "$$\\xi_{uu}+\\dfrac{1}{u}\\xi_u=0.$$\n",
    "This one we solve by hand which gives us the following equation\n",
    "\\begin{equation}\n",
    "\\xi{(z,u)}=-\\dfrac{A(z)}{u}+B(z)\n",
    "\\label{eq:xi}\n",
    "\\end{equation}\n",
    "where $A,B\\in\\mathcal{C}^{\\infty}(\\mathbb{R})$. Let's verify this solution in SymPy."
   ]
  },
  {
   "cell_type": "code",
   "execution_count": 2,
   "id": "e32ea3b3",
   "metadata": {},
   "outputs": [
    {
     "name": "stdout",
     "output_type": "stream",
     "text": [
      "Validation of xi tangent (expecting the answer 0):\n",
      "0.\n"
     ]
    }
   ],
   "source": [
    "# Allocate our arbitrary functions\n",
    "A, B = symbols('A B')\n",
    "# Allocate our variable u\n",
    "u = symbols('u')\n",
    "# Define our candidate tangent\n",
    "xi = -(A/u)+B\n",
    "# Plug this solution into our PDE\n",
    "det_eq_xi = Derivative(xi,u,2).doit()+(2/u)*Derivative(xi,u).doit()\n",
    "# Print the solution\n",
    "print(\"Validation of xi tangent (expecting the answer 0):\")\n",
    "print(str(det_eq_xi)+\".\")"
   ]
  },
  {
   "cell_type": "markdown",
   "id": "2ecc0031",
   "metadata": {},
   "source": [
    "# Determining equation 2\n",
    "Ok, so given this tangent, we can now plug this into to the second determining equation which yields the following equation\n",
    "  $$\\eta_{uu}-2\\dfrac{\\eta_u}{u}+2\\dfrac{\\eta}{u^2}=2\\dfrac{A'(z)}{u^2}-2cA(z).$$\n",
    "for the unknown tangent $\\eta(z,u)$. We plugged this PDE into Wolphram Alpha, and out came the following suggested solution\n",
    "\n",
    "\\begin{equation}\n",
    "  \\eta{(z,u)}=C(z)u^2 + D(z)u-2cA(z)u^{2}\\ln{(u)}+A'(z).\n",
    "  \\label{eq:eta_l_2_sol}\n",
    "\\end{equation}\n",
    "where $C,D\\in\\mathcal{C}^{\\infty}(\\mathbb{R})$ are two new arbitrary functions. Again, let's try to verify this solution in SymPy."
   ]
  },
  {
   "cell_type": "code",
   "execution_count": 3,
   "id": "2bc73127",
   "metadata": {},
   "outputs": [
    {
     "name": "stdout",
     "output_type": "stream",
     "text": [
      "Validation of eta tangent (expecting the answer 0):\n",
      "0.\n"
     ]
    }
   ],
   "source": [
    "# Define two new symbols for the derivatives, and the two new arbitrary functions\n",
    "A_prime, C, D = symbols('A_prime C D')\n",
    "# Define our travelling wave constant\n",
    "c = symbols('c')\n",
    "# Define the inhomogeneous part\n",
    "inhomo = ((2*A_prime)/(u**2)) - 2*c*A\n",
    "# Define our second tangent eta\n",
    "eta = C*u**2 + D*u - 2*c*A*(u**2)*log(u) + A_prime\n",
    "# Now, define our PDE\n",
    "det_eq_eta = expand(simplify(Derivative(eta,u,2) - (2*Derivative(eta,u,1)/u) + (2*eta/u**2)-inhomo))\n",
    "# Print the solution\n",
    "print(\"Validation of eta tangent (expecting the answer 0):\")\n",
    "print(str(det_eq_eta)+\".\")"
   ]
  },
  {
   "cell_type": "markdown",
   "id": "6379b30c",
   "metadata": {},
   "source": [
    "# Determining equation 3\n",
    "Ok, so now we are moving on to the third determining equation. \n",
    "\n",
    "$$cu^{2}\\xi_z+3u^{2}\\xi_u f(u)+2\\eta_{zu}-\\xi_{zz}-\\dfrac{4}{u}\\eta_z+2c u\\eta=0.$$\n",
    "Let's see if we can expand this using *SymPy*. Here, the term $\\xi_{zu}$ forces us to introduce the term $B'(z)$ and the terms $\\eta_{z},\\eta_{zu}$ forces us to introduce $A''(z),C'(z),D'(z)$ and the term $\\xi_{zz}$ forces us to introduce $B''(z)$. "
   ]
  },
  {
   "cell_type": "code",
   "execution_count": 7,
   "id": "c6b089b4",
   "metadata": {},
   "outputs": [
    {
     "name": "stdout",
     "output_type": "stream",
     "text": [
      "The third determining equation is:\n",
      "\\begin{equation}\n",
      "K_{1} c u^{3} z - K_{1} c u^{3} - K_{1} u z + K_{2} c u^{3} - K_{2} u=0\\quad.\n",
      "\\label{eq:det_eq_3}\n",
      "\\end{equation}\n"
     ]
    }
   ],
   "source": [
    "# Define two new symbols for the derivatives, and the two new arbitrary functions\n",
    "A_bis, B_prime, B_bis, C_prime, D_prime = symbols('A_bis B_prime B_bis C_prime D_prime')\n",
    "# Define our derivatives of xi\n",
    "xi_z = xi.subs(A,A_prime).subs(B,B_prime)\n",
    "xi_u = Derivative(xi,u,1).doit()\n",
    "xi_zz = xi.subs(A,A_bis).subs(B,B_bis)\n",
    "# Define our derivatives of eta\n",
    "eta_z = eta.subs(A_prime,A_bis).subs(A,A_prime).subs(C,C_prime).subs(D,D_prime)\n",
    "eta_zu = Derivative(eta_z,u,1).doit()\n",
    "# Define our arbitrary reaction term\n",
    "c0, c1, c2, c3 = symbols('c0 c1 c2 c3')\n",
    "f = c0 + c1*u + c2*u**2 + c3*u**3\n",
    "# Now, we can construct our determining equation\n",
    "det_eq_3 = c*(u**2)*xi_z + 3*(u**2)*xi_u*f + 2*eta_zu - xi_zz - (4/u)*eta_z + 2*c*eta\n",
    "# Simplify by multiplying by u\n",
    "det_eq_3 = simplify(u*det_eq_3)\n",
    "# Print it in LaTeX\n",
    "print(\"The third determining equation is:\")\n",
    "print(latex(expand(det_eq_3),mode='equation').replace(\"\\\\begin{equation}\",\"\\\\begin{equation}\\n\").replace(\"\\\\end{equation}\",\"=0\\quad.\\n\\\\label{eq:det_eq_3}\\n\\\\end{equation}\").replace(\"A_{prime}\",\"A'(z)\").replace(\"A_{bis}\",\"A''(z)\").replace(\"B_{prime}\",\"B'(z)\").replace(\"B_{bis}\",\"B''(z)\").replace(\"C_{prime}\",\"C'(z)\").replace(\"D_{prime}\",\"D''(z)\").replace(\"A \",\"A(z) \").replace(\"2Ac\",\"2A(z)c\").replace(\"C c\",\"C(z) c\").replace(\"D c\",\"D(z) c\").replace(\"\\log\",\"\\ln\"))\n"
   ]
  },
  {
   "cell_type": "markdown",
   "id": "2843d26b",
   "metadata": {},
   "source": [
    "The third determining equation is:\n",
    "\\begin{equation}\n",
    "- 4 A(z) c^{2} u^{3} \\ln{\\left(u \\right)} + 3 A(z) c_{0} u + 3 A(z) c_{1} u^{2} + 3 A(z) c_{2} u^{3} + 3 A(z) c_{3} u^{4} - 3 A''(z) - 5 A'(z) c u^{2} + 2 A'(z) c u - B''(z) u + B'(z) c u^{3} + 2 C(z) c u^{3} + 2 D(z) c u^{2} - 2 D''(z) u=0\\quad.\n",
    "\\label{eq:det_eq_3}\n",
    "\\end{equation}\n",
    "By analysing this equation, we get that $A(z)=D(z)=0$, $B(z)=K_{1}z+K_{2}$, $C(z)=(-K_{1}/2)$. This results in the following tangents\n",
    "\\begin{align}\n",
    "  \\xi{(z,u)}&=K_{1}z+K_{2},\\\\\n",
    "  \\eta{(z,u)}&=-\\frac{K_{1}}{2}u^{2}.\n",
    "\\end{align}"
   ]
  },
  {
   "cell_type": "code",
   "execution_count": 8,
   "id": "c2683ac3",
   "metadata": {},
   "outputs": [
    {
     "name": "stdout",
     "output_type": "stream",
     "text": [
      "Our two tangents are given by\n",
      "\\begin{align}\n",
      "\\xi{(z,u)}&=K_{1} z + K_{2}\\,,\\\\\n",
      "\\eta{(z,u)}&=- \\frac{K_{1} u^{2}}{2}\\,.\n",
      "\\end{align}\n"
     ]
    }
   ],
   "source": [
    "# Allocate two arbitrary constants\n",
    "K1, K2 = symbols('K1 K2')\n",
    "# Define a symbol for the travelling wave variable\n",
    "z = symbols('z')\n",
    "# Set most coefficients to zero\n",
    "xi = xi.subs(A,0).subs(A_prime,0).subs(C,(-K1/2)).subs(D,0).subs(B,K1*z+K2)\n",
    "eta = eta.subs(A,0).subs(A_prime,0).subs(C,(-K1/2)).subs(D,0).subs(B,K1*z+K2)\n",
    "# Print these as equations as well\n",
    "print(\"Our two tangents are given by\")\n",
    "current_tangents_str = \"\\\\begin{align}\\n\"\n",
    "current_tangents_str += \"\\\\xi{(z,u)}&=\" + latex(xi) + \"\\\\,,\\\\\\\\\\n\"\n",
    "current_tangents_str += \"\\\\eta{(z,u)}&=\" + latex(eta) + \"\\\\,.\\n\"\n",
    "current_tangents_str += \"\\\\end{align}\"\n",
    "print(current_tangents_str)"
   ]
  },
  {
   "cell_type": "markdown",
   "metadata": {},
   "source": [
    "Our two tangents are given by\n",
    "\\begin{align}\n",
    "\\xi{(z,u)}&=K_{1} z + K_{2}\\,,\\\\\n",
    "\\eta{(z,u)}&=- \\frac{K_{1} u^{2}}{2}\\,.\n",
    "\\end{align}\n",
    "Let's see if we can plug these into the last determining equation and work something out for our two unknown constants $K_1$ and $K_2$. \n",
    "# Determining equation 4\n",
    "The fourth determining equation is given by\n",
    "$$\\left(2u f(u)+u^2\\dfrac{\\mathrm{d}f}{\\mathrm{d}u}\\right)\\eta+cu^{2}\\eta_z+\\eta_{zz}+u^{2}f(u)(2\\xi_z-\\eta_u)=0.$$\n",
    "Let's see if we can work with this.\n"
   ]
  },
  {
   "cell_type": "code",
   "execution_count": 9,
   "metadata": {},
   "outputs": [
    {
     "name": "stdout",
     "output_type": "stream",
     "text": [
      "Equations resulting from the fourth determining equation\n",
      "\\begin{align}\n",
      "u^{2}&:2 K_{1} c_{0}&=0,\\\\\n",
      "u^{3}&:2 K_{1} c_{1}&=0,\\\\\n",
      "u^{4}&:- \\frac{K_{1} c_{1}}{2} + 2 K_{1} c_{2}&=0,\\\\\n",
      "u^{5}&:- K_{1} c_{2} + 2 K_{1} c_{3}&=0,\\\\\n",
      "u^{6}&:- \\frac{3 K_{1} c_{3}}{2}&=0.\n",
      "\\end{align}\n"
     ]
    }
   ],
   "source": [
    "# Calculate all terms\n",
    "dfdu = Derivative(f,u).doit()\n",
    "eta_z = Derivative(eta,z).doit()\n",
    "eta_zz = Derivative(eta,z,2).doit()\n",
    "eta_u = Derivative(eta,u).doit()\n",
    "xi_z = Derivative(xi,z).doit()\n",
    "# Assemble the determining equation\n",
    "det_eq_4_l_2 = expand((2*u*f + (u**2)*dfdu)*eta + c*(u**2)*eta_z + eta_zz + (u**2)*f*(2*xi_z-eta_u))\n",
    "# Find some monomials\n",
    "monomials = [1, u, u**2, u**3, u**4, u**5, u**6]\n",
    "# Allocate our determining equations\n",
    "det_eq_4_l_2_decomposed = []\n",
    "# Loop over monomials and extract coefficient\n",
    "for monomial in monomials:\n",
    "    det_eq_4_copy = det_eq_4_l_2\n",
    "    if monomial == 1:\n",
    "        if det_eq_4_copy.subs(u,0)!=0:\n",
    "            det_eq_4_copy = det_eq_4_l_2\n",
    "            det_eq_4_l_2_decomposed.append((monomial,det_eq_4_copy.subs(u,0)))\n",
    "    else:\n",
    "        det_eq_4_copy = det_eq_4_l_2\n",
    "        coeff_temp = det_eq_4_copy.coeff(monomial)\n",
    "        coeff_temp = coeff_temp.subs(u,0)\n",
    "        if coeff_temp !=0: \n",
    "            det_eq_4_l_2_decomposed.append((monomial,coeff_temp))\n",
    "# Lastly we print all these equations\n",
    "print(\"Equations resulting from the fourth determining equation\")\n",
    "det_eq_str = \"\\\\begin{align}\\n\"\n",
    "for index,det_eq_4_part in enumerate(det_eq_4_l_2_decomposed):\n",
    "    if index == len(det_eq_4_l_2_decomposed)-1:\n",
    "        det_eq_str += latex(det_eq_4_part[0]) + \"&:\" + latex(det_eq_4_part[1]) + \"&=0.\\n\"\n",
    "    else:\n",
    "        det_eq_str += latex(det_eq_4_part[0]) + \"&:\" + latex(det_eq_4_part[1]) + \"&=0,\\\\\\\\\\n\"        \n",
    "det_eq_str += \"\\\\end{align}\"    \n",
    "# Lastly, print all equations\n",
    "print(det_eq_str)"
   ]
  },
  {
   "cell_type": "markdown",
   "metadata": {},
   "source": [
    "Equations resulting from the fourth determining equation\n",
    "\\begin{align}\n",
    "u^{2}&:2 K_{1} c_{0}&=0,\\\\\n",
    "u^{3}&:2 K_{1} c_{1}&=0,\\\\\n",
    "u^{4}&:- \\frac{K_{1} c_{1}}{2} + 2 K_{1} c_{2}&=0,\\\\\n",
    "u^{5}&:- K_{1} c_{2} + 2 K_{1} c_{3}&=0,\\\\\n",
    "u^{6}&:- \\frac{3 K_{1} c_{3}}{2}&=0.\n",
    "\\end{align}"
   ]
  },
  {
   "cell_type": "code",
   "execution_count": null,
   "metadata": {},
   "outputs": [],
   "source": []
  }
 ],
 "metadata": {
  "kernelspec": {
   "display_name": "Python 3 (ipykernel)",
   "language": "python",
   "name": "python3"
  },
  "language_info": {
   "codemirror_mode": {
    "name": "ipython",
    "version": 3
   },
   "file_extension": ".py",
   "mimetype": "text/x-python",
   "name": "python",
   "nbconvert_exporter": "python",
   "pygments_lexer": "ipython3",
   "version": "3.8.3"
  }
 },
 "nbformat": 4,
 "nbformat_minor": 5
}
