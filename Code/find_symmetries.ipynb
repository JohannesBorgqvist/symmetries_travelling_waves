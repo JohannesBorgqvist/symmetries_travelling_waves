{
 "cells": [
  {
   "cell_type": "markdown",
   "metadata": {},
   "source": [
    "# Travelling wave symmetries for a model of epithelial cell migration\n",
    "*Date:* 2022-09-01,<br>\n",
    "*Written by:* Johannes Borgqvist.<br>\n",
    "\n",
    "We analyse the following second order travelling wave ODE \n",
    "\n",
    "$$\\dfrac{\\mathrm{d}}{\\mathrm{d}z}\\left(\\dfrac{1}{u(z)^\\ell}\\dfrac{\\mathrm{d}u}{\\mathrm{d}z}\\right)+c\\dfrac{\\mathrm{d}u}{\\mathrm{d}z}+f(u(z))=0.$$\n",
    "with $f(u)=c_0+c_1 u+c_2 u^2+c_3 u^3$ and $\\ell$ is an arbitrary index. This is a generalisation of the model in [1] that describes *cell migration in an epithelial tissue*, and this particular model is retrieved by the choices $\\ell=2$ and $f(u)=u(1-u)$. \n",
    "\n",
    "\n",
    "By denoting derivatives by $\\mathrm{d}u/\\mathrm{d}z=u'$ this ODE can be re-written as follows:\n",
    "\\begin{equation}\n",
    "    u''-\\dfrac{\\ell(u')^2}{u}+cu'u^\\ell+u^\\ell f(u)=0.\n",
    "\\end{equation}\n",
    "Now, we are interested in an infinitesimal generator of the Lie group\n",
    "$$X=\\xi(z,u)\\partial_z+\\eta(z,u)\\partial_u$$\n",
    "which has a second prolongation given by\n",
    "$$X^{(2)}=\\xi(z,u)\\partial_z+\\eta(z,u)\\partial_u+\\eta^{(1)}(z,u,u')\\partial_{u'}+\\eta^{(2)}(z,u,u',u'')\\partial_{u''}.$$\n",
    "Here, the two prolonged infinitesimals $\\eta^{(1)}$ and $\\eta^{(2)}$ are given by [2]\n",
    "\\begin{align}\n",
    "    \\eta^{(1)}(z,u,u')&=\\eta_z+(\\eta_u-\\xi_z)u'-\\xi_u\\left(u'\\right)^2,\\\\\n",
    "    \\eta^{(2)}(z,u,u',u'')&=\\eta_{zz}+(2\\eta_{zu}-\\xi_{zz})u'+\\left(\\eta_{uu}-2\\xi_{zu}\\right)\\left(u'\\right)^2-\\xi_{uu}\\left(u'\\right)^3\\nonumber\\\\\n",
    "    &+\\left\\{\\eta_u - 2\\xi_z -3\\xi_u u'\\right\\}u''.    \n",
    "\\end{align}\n",
    "\n",
    "The linearised symmetry condition for our ODE of interest is given by\n",
    "\\begin{equation}\n",
    "\\begin{split}\n",
    "    \\eta^{(2)}+\\left(cu^{\\ell}-\\dfrac{2\\ell u'}{u}\\right)\\eta^{(1)}+\\left(\\dfrac{\\ell (u')^2}{u^2}+c\\ell u^{\\ell-1}u'+u^{\\ell-1}\\left(\\ell f(u)+u\\dfrac{\\mathrm{d}f}{\\mathrm{d}u}\\right)\\right)\\eta&=0\\\\\n",
    "    \\quad\\mathrm{whenever}\\quad u''-\\dfrac{\\ell(u')^2}{u}+cu'u^\\ell+u^\\ell f(u)=0.\n",
    "\\end{split}\n",
    "    \\label{eq:lin_sym}\n",
    "\\end{equation}\n",
    "By calculating the prolonged infinitesimals $\\eta^{(1)}$ and $\\eta^{(2)}$, plugging these into this linearised symmetry condition, and then organising the resulting equation in terms of powers of $u'$ results in the following four so called *determining equations*\n",
    "\\begin{align}\n",
    "(u')^3:&\\quad\\xi_{uu}+\\dfrac{\\ell}{u}\\xi_u&=0,\\label{eq:det_eq_1}\\\\\n",
    "(u')^2:&\\quad2c\\xi_u u^{\\ell}+\\eta_{uu}-2\\xi_{zu}-\\dfrac{(\\eta_u-2\\xi_z)\\ell}{u}+\\dfrac{\\ell\\eta}{u^2}&=0,\\label{eq:det_eq_2}\\\\\n",
    "u':&\\quad cu^{\\ell}\\xi_z+3u^{\\ell}\\xi_u f(u)+2\\eta_{zu}-\\xi_{zz}-\\dfrac{2\\ell}{u}\\eta_z+c\\ell u^{\\ell-1}\\eta&=0,\\label{det_eq_3}\\\\\n",
    "1:&\\quad u^{\\ell-1}\\left(\\ell f(u)+u\\dfrac{\\mathrm{d}f}{\\mathrm{d}u}\\right)\\eta+cu^{\\ell}\\eta_z+\\eta_{zz}+u^{\\ell}f(u)(2\\xi_z-\\eta_u)&\\quad=0.\\label{det_eq_4}\n",
    "\\end{align}\n",
    "Now, we will treat these four equations systematically, and solve them one by one. We will use our friend *SymPy* to do this.\n",
    "\n",
    "**References**<br>\n",
    "[1] 2020, R.J. Murphy, P.R. Buenzli , R.E. Baker , M.J. Simpson, \"*Travelling waves in a free boundary mechanobiological model of an\n",
    "epithelial tissue*\", Applied Mathematics Letters, Elsevier.<br>\n",
    "[2] 2000, P.E. Hydon, \"*Symmetry methods for differential equations: a beginner's guide*\", Cambridge University Press, Volume 22."
   ]
  },
  {
   "cell_type": "code",
   "execution_count": 1,
   "metadata": {},
   "outputs": [],
   "source": [
    "# Import sympy which we will do all symbolic calculations in\n",
    "from sympy import *"
   ]
  },
  {
   "cell_type": "markdown",
   "metadata": {},
   "source": [
    "# Determining equation 1\n",
    "Ok, so we are interested in the following PDE\n",
    "$$\\xi_{uu}+\\dfrac{\\ell}{u}\\xi_u=0.$$\n",
    "This one we solve by hand which gives us the following equation\n",
    "\\begin{equation}\n",
    "\\xi{(z,u)}=A(z)\\left(\\dfrac{1}{1-\\ell}\\right)u^{1-\\ell}-B(z)\n",
    "\\label{eq:xi}\n",
    "\\end{equation}\n",
    "where $A,B\\in\\mathcal{C}^{\\infty}(\\mathbb{R})$. Let's verify this solution in SymPy."
   ]
  },
  {
   "cell_type": "code",
   "execution_count": 19,
   "metadata": {},
   "outputs": [
    {
     "name": "stdout",
     "output_type": "stream",
     "text": [
      "Validation of xi tangent (expecting the answer 0):\n",
      "0.\n"
     ]
    }
   ],
   "source": [
    "# Allocate our arbitrary functions\n",
    "A, B = symbols('A B')\n",
    "# Allocate our index ell\n",
    "l = symbols('l')\n",
    "# Allocate our variable u\n",
    "u = symbols('u')\n",
    "# Define our candidate tangent\n",
    "xi = A*((1)/(1-l))*(u**(1-l))+B\n",
    "# Plug this solution into our PDE\n",
    "det_eq_xi = Derivative(xi,u,2).doit()+(l/u)*Derivative(xi,u).doit()\n",
    "# Print the solution\n",
    "print(\"Validation of xi tangent (expecting the answer 0):\")\n",
    "print(str(det_eq_xi)+\".\")"
   ]
  },
  {
   "cell_type": "markdown",
   "metadata": {},
   "source": [
    "# Determining equation 2\n",
    "Ok, so we are interested in solving the following PDE\n",
    "$$2c\\xi_u u^{\\ell}+\\eta_{uu}-2\\xi_{zu}-\\dfrac{(\\eta_u-2\\xi_z)\\ell}{u}+\\dfrac{\\ell\\eta}{u^2}=0$$\n",
    "for the unknown tangent $\\eta(z,u)$. We plugged this PDE into Wolphram Alpha, and out came the following suggested solution\n",
    "\n",
    "\\begin{equation}\n",
    "\\eta{(z,u)}=2cA(z)\\left(\\dfrac{1}{\\ell-2}\\right)u^2+A'(z)\\left(\\dfrac{2\\ell-1}{(\\ell-1)^2}\\right)u^{2-\\ell}+2B'(z)\\left(\\dfrac{\\ell}{\\ell-1}\\right)u\\ln(u)+C(z)u^{\\ell}+D(z)u\n",
    "\\label{eq:eta}\n",
    "\\end{equation}\n",
    "where $C,D\\in\\mathcal{C}^{\\infty}(\\mathbb{R})$ are two new arbitrary functions. Again, let's try to verify this solution in SymPy."
   ]
  },
  {
   "cell_type": "code",
   "execution_count": 18,
   "metadata": {
    "scrolled": true
   },
   "outputs": [
    {
     "name": "stdout",
     "output_type": "stream",
     "text": [
      "Validation of eta tangent (expecting the answer 0):\n",
      "0.\n"
     ]
    }
   ],
   "source": [
    "# Define two new symbols for the derivatives, and the two new arbitrary functions\n",
    "A_prime, B_prime, C, D = symbols('A_prime B_prime C D')\n",
    "# Define our travelling wave constant\n",
    "c = symbols('c')\n",
    "# Define our second tangent eta\n",
    "eta = 2*c*A*((1)/(l-2))*(u**2) + A_prime*((2*l-1)/((l-1)**3))*(u**(2-l))+2*B_prime*((l)/(l-1))*u*log(u)+C*(u**l)+D*u\n",
    "# Now, let's define our partial derivatives of xi in order to be able to define the inhomogeneous part of the PDE\n",
    "xi_z = xi.subs(A,A_prime).subs(B,B_prime)\n",
    "xi_u = A*(u**(-l))\n",
    "xi_zu = xi_u.subs(A,A_prime)\n",
    "# Inhomogenous part\n",
    "inhomo = 2*c*(u**l)*xi_u-2*xi_zu+((2*l)/(u))*xi_z\n",
    "# Now, define our PDE\n",
    "det_eq_eta = simplify(Derivative(eta,u,2).doit()-((l)/(u))*Derivative(eta,u).doit()+((l)/(u**2))*eta+inhomo)\n",
    "# Print the solution\n",
    "print(\"Validation of eta tangent (expecting the answer 0):\")\n",
    "print(str(det_eq_eta)+\".\")"
   ]
  },
  {
   "cell_type": "markdown",
   "metadata": {},
   "source": [
    "\n",
    "Validation of eta tangent (expecting the answer 0):\n",
    "\\begin{equation}\n",
    "\\frac{2 B_{prime} l \\left(l u + l - u\\right)}{u^{2} \\left(l - 1\\right)}.\n",
    "\\end{equation}\n",
    "\n"
   ]
  },
  {
   "cell_type": "code",
   "execution_count": null,
   "metadata": {},
   "outputs": [],
   "source": [
    "# Ok, so allocate two new functions for the partial derivative of xi with respect to z\n",
    "# Re-define our infinitesimal\n",
    "#xi = A + (((B)/(1-l))*u**(1-l))\n",
    "# Differentiate our first infinitesimal wrt z in two steps: \n",
    "# (1.) Allocate arbitrary integration constants\n",
    "A_prime, B_prime = symbols('A_prime B_prime')\n",
    "# (2.) Create our new variable\n",
    "xi_z = xi.subs(A,A_prime).subs(B,B_prime)\n",
    "# Define the travelling wave variable\n",
    "c = symbols('c',real=True)\n",
    "# Define the inhomogenous part of the ODE\n",
    "inhomo = -2*Derivative(xi_z,u).doit()+(c*Derivative(xi,u).doit()*(u**l))+((2*xi_z*l)/(u))\n",
    "# Allocate our second infinitesimal\n",
    "eta = symbols('eta',cls=Function)\n",
    "# Now, solve our second inhomogeneous ODE\n",
    "eta_sol = dsolve(Derivative(eta(u),u,2)-((l*Derivative(eta(u),u))/(u))+((l*eta(u))/(u**2))+inhomo,eta(u))\n",
    "print(latex(eta_sol,mode='equation'))\n",
    "# Again, rename our arbitrary constants to two new functions\n",
    "C, D = symbols('C D')\n",
    "# Rename our coefficients\n",
    "eta_sol = Eq(eta_sol.lhs,simplify(eta_sol.rhs))\n",
    "eta_sol = Eq(eta_sol.lhs,eta_sol.rhs.subs(C1,C).subs(C2,D))\n",
    "# Print our second equation\n",
    "print(latex(eta_sol,mode='equation').replace(\"\\\\begin{equation}\",\"\\\\begin{equation}\\n\").replace(\"\\\\end{equation}\",\"\\n\\\\end{equation}\").replace(\"A_{prime}\",\"A'(z)\").replace(\"B_{prime}\",\"B'(z)\").replace(\"C\",\"C(z)\").replace(\"D\",\"D(z)\").replace(\"\\\\eta{\\\\left(u \\\\right)}\",\"\\\\eta{\\\\left(z,u \\\\right)}\"))"
   ]
  },
  {
   "cell_type": "markdown",
   "metadata": {},
   "source": [
    "So this is pretty remarkable, as it turns out that *SymPy* can indeed solve our determining equations! This is the general form of our second infinitesimal:\n",
    "\n",
    "\\begin{equation}\n",
    "\\eta{\\left(z,u \\right)} = \\frac{\\left(2 A'(z) l u \\left(l - 2\\right) \\left(l^{2} - 2 l + 1\\right) e^{l \\log{\\left(u \\right)}} \\log{\\left(u \\right)} - B c u^{2} \\left(l - 1\\right)^{2} \\left(l^{2} - 2 l + 1\\right) e^{l \\log{\\left(u \\right)}} - B'(z) u^{2} \\left(l - 2\\right) \\left(l - 1\\right) \\left(2 l - 1\\right) + \\left(l - 2\\right) \\left(l - 1\\right) \\left(C(z) u + D(z) e^{l \\log{\\left(u \\right)}}\\right) \\left(l^{2} - 2 l + 1\\right) e^{l \\log{\\left(u \\right)}}\\right) e^{- l \\log{\\left(u \\right)}}}{\\left(l - 2\\right) \\left(l - 1\\right) \\left(l^{2} - 2 l + 1\\right)}\n",
    "\\end{equation}\n",
    "where $C,D\\in\\mathcal{C}^{\\infty}(\\mathbb{R})$ are two new arbitrary functions. Now, this equation is rather messy, so I took myself the liberty of simplifying it. I claim that this tangent can in fact be written as follows:\n",
    "\n",
    "\\begin{equation}\n",
    "\\begin{split}\n",
    "\\eta{(z,u)}&=2A'(z)\\left(\\frac{\\ell}{\\ell-1}\\right)u\\ln(u)-cB(z)\\left(\\frac{\\ell-1}{\\ell-2}\\right)u^2\\\\\n",
    "&-B'(z)\\left(\\dfrac{2\\ell-1}{\\left(\\ell-1\\right)^2}\\right)u^2+C(z)u+D(z)u^{\\ell}.\n",
    "\\end{split}\n",
    "\\label{eq:eta}\n",
    "\\end{equation}\n",
    "Let's check if this actually holds though..."
   ]
  },
  {
   "cell_type": "code",
   "execution_count": null,
   "metadata": {},
   "outputs": [],
   "source": [
    "# Define our proposed solution\n",
    "eta = 2*A_prime*((l)/(l-1))*u*log(u)-c*B*((l-1)/(l-2))*(u**2)-B_prime*((2*l-1)/((l-1)**2))*(u**2)+C*u+(D*(u**l))\n",
    "eta_temp = eta_sol.rhs\n",
    "# Check if it solves our determining equation at hand\n",
    "print(\"Check if solution satisfies our determining equation by plugging it into the determining equation. If so we should get the value 0 back:\")\n",
    "print(simplify(Derivative(eta,u,2).doit()-((l*Derivative(eta,u).doit())/(u))+((l*eta/(u**2))+inhomo)))\n",
    "print(simplify(Derivative(eta_temp,u,2).doit()-((l*Derivative(eta_temp,u).doit())/(u))+((l*eta_temp/(u**2))+inhomo)))"
   ]
  },
  {
   "cell_type": "markdown",
   "metadata": {},
   "source": [
    "So something is not quite right... So I took the decision to try to solve it in Wolphram Alpha instead. And here we get a completely different answer, namely the following:\n",
    "\n",
    "\\begin{equation}\n",
    "\\begin{split}\n",
    "\\eta(z,u)&=\\frac{cB(z)}{2}\\left(\\dfrac{\\ell}{(\\ell-2)(\\ell-1)}\\right)u^2-cB(z)\\left(\\dfrac{1}{(\\ell-2)(\\ell-1)}\\right)u^2\\\\\n",
    "&+2A'(z)u+\\frac{C(z)}{\\ell+1}u^{\\ell+1}+D(z)+\\frac{2B'(z)}{(\\ell-2)(\\ell-1)}u^{2-l}\\\\\n",
    "&+\\frac{\\ell}{\\ell+1}\\ln\\left((\\ell+1)u\\right).\n",
    "\\end{split}\n",
    "\\end{equation}\n",
    "So let's see if this one works instead..."
   ]
  },
  {
   "cell_type": "code",
   "execution_count": null,
   "metadata": {},
   "outputs": [],
   "source": [
    "# Define our inhomogeneity\n",
    "A_prime, B_prime = symbols('A_prime B_prime')\n",
    "# (2.) Create our new variable\n",
    "xi_z = xi.subs(A,A_prime).subs(B,B_prime)\n",
    "# Define the travelling wave variable\n",
    "c = symbols('c',real=True)\n",
    "# Define the inhomogenous part of the ODE\n",
    "#inhomo = -2*Derivative(xi_z,u).doit()+(c*Derivative(xi,u).doit()*(u**l))+((2*xi_z*l)/(u))\n",
    "inhomo = c*B+((2*l)/(u))*A_prime+2*(u**(-l))*((2*l-1)/(1-l))*B_prime\n",
    "# Again, rename our arbitrary constants to two new functions\n",
    "C, D = symbols('C D')\n",
    "# Construct our major tangent\n",
    "eta = (c*B/2)*((l)/((l-2)*(l-1)))*u**2\n",
    "eta+= -c*B*((1)/((l-2)*(l-1)))*u**2\n",
    "eta+=2*A_prime*u+((C)/(l+1))*(u**(l+1))+D\n",
    "eta+=((2*B_prime)/((l-2)*(l-1)))*(u**(2-l))\n",
    "eta+=((l)/(l+1))*log((l+1)*u)\n",
    "print(\"Check if solution satisfies our determining equation by plugging it into the determining equation. If so we should get the value 0 back:\")\n",
    "print(simplify(Derivative(eta,u,2).doit()-((l*Derivative(eta,u).doit())/(u))+((l*eta/(u**2))+inhomo)))"
   ]
  },
  {
   "cell_type": "markdown",
   "metadata": {},
   "source": [
    "# Determining equation 3\n",
    "Ok, thus far we have landed at the following infinitesimals:\n",
    "\\begin{align}\n",
    "\\xi{\\left(z,u \\right)} &= A(z) + \\frac{B(z)}{u},\\\\\n",
    "\\eta{\\left(z,u \\right)} &= - \\frac{A'(z) c u^{4}}{3} - B'(z) c u^{3} - B'(z) + C(z) u + D(z) u^{2}.\\\\\n",
    "\\end{align}\n",
    "\n",
    "Next, we want to use following PDE\n",
    "$$2\\eta_{zu}-\\xi_{zz}+cu^2\\xi_{z}+3\\xi_{u}u^3(1-u)-\\dfrac{4\\eta_z}{u}+2cu\\eta=0$$\n",
    "in order to get equations that we can solve for the four unknown functions $A,B,C,D\\in\\mathcal{C}^{\\infty}(\\mathbb{R})$. So what we can do here is to plug in our unknown functions, and the we see that the above equation entails finding the roots of a polynomial in u. Hence, the equation decomposes into a set of subequations which we can solve individually. "
   ]
  },
  {
   "cell_type": "code",
   "execution_count": null,
   "metadata": {},
   "outputs": [],
   "source": [
    "# Define some new constants\n",
    "A_bis, B_bis, C_prime, D_prime = symbols('A_bis B_bis C_prime D_prime')\n",
    "# Define our partial derivative of eta with respect to z\n",
    "eta_z = eta_sol.rhs.subs(A_prime,A_bis).subs(B_prime,B_bis).subs(C,C_prime).subs(D,D_prime)\n",
    "# Define our second derivative of xi\n",
    "xi_zz = xi_sol.rhs.subs(A,A_bis).subs(B,B_bis)\n",
    "# Now we can define our determining equation at hand\n",
    "det_eq_3 = 2*Derivative(eta_z,u).doit()-xi_zz+c*(u**2)*xi_z+3*Derivative(xi_sol.rhs,u).doit()*(u**3)*(1-u)-((4*eta_z)/(u))+2*c*u*eta_sol.rhs\n",
    "\n",
    "print(latex(det_eq_3,mode='equation').replace(\"\\\\begin{equation}\",\"\\\\begin{equation}\\n\").replace(\"\\\\end{equation}\",\"=0.\\n\\\\end{equation}\").replace(\"A\",\"A(z)\").replace(\"B\",\"B(z)\").replace(\"C\",\"C(z)\").replace(\"D\",\"D(z)\").replace(\"A(z)_{prime}\",\"A'(z)\").replace(\"A(z)_{bis}\",\"A''(z)\").replace(\"B(z)_{prime}\",\"B'(z)\").replace(\"B(z)_{bis}\",\"B''(z)\").replace(\"C(z)_{prime}\",\"C'(z)\").replace(\"D(z)_{prime}\",\"D'(z)\"))\n",
    "det_eq_3,denom = fraction(simplify(u*det_eq_3))\n",
    "det_eq_3 = expand(det_eq_3)\n",
    "print(latex(det_eq_3,mode='equation').replace(\"\\\\begin{equation}\",\"\\\\begin{equation}\\n\").replace(\"\\\\end{equation}\",\"=0\\n\\\\end{equation}\").replace(\"A\",\"A(z)\").replace(\"B\",\"B(z)\").replace(\"C\",\"C(z)\").replace(\"D\",\"D(z)\").replace(\"A(z)_{prime}\",\"A'(z)\").replace(\"A(z)_{bis}\",\"A''(z)\").replace(\"B(z)_{prime}\",\"B'(z)\").replace(\"B(z)_{bis}\",\"B''(z)\").replace(\"C(z)_{prime}\",\"C'(z)\").replace(\"D(z)_{prime}\",\"D'(z)\"))"
   ]
  },
  {
   "cell_type": "markdown",
   "metadata": {},
   "source": [
    "When substituting our infinitesimals into the third determining equation before any simplifications are made, we obtain the following equation:\n",
    "\n",
    "\\begin{equation}\n",
    "- \\frac{8 A''(z) c u^{3}}{3} - A''(z) - 3 B(z) u \\left(1 - u\\right) - 6 B''(z) c u^{2} - \\frac{B''(z)}{u} + 2 C'(z) + 4 D'(z) u + c u^{2} \\left(A'(z) + \\frac{B'(z)}{u}\\right) + 2 c u \\left(- \\frac{A'(z) c u^{4}}{3} - B'(z) c u^{3} - B'(z) + C(z) u + D(z) u^{2}\\right) - \\frac{- \\frac{4 A''(z) c u^{4}}{3} - 4 B''(z) c u^{3} - 4 B''(z) + 4 C'(z) u + 4 D'(z) u^{2}}{u}=0.\n",
    "\\end{equation}\n",
    "Now, we see that we can multiply this equation with the factor $u$ and then expand it as much as possible. This leads to the following equation\n",
    "\\begin{equation}\n",
    "- \\frac{4 A''(z) c u^{4}}{3} - A''(z) u - \\frac{2 A'(z) c^{2} u^{6}}{3} + A'(z) c u^{3} + 3 B(z) u^{3} - 3 B(z) u^{2} - 2 B''(z) c u^{3} + 3 B''(z) - 2 B'(z) c^{2} u^{5} - B'(z) c u^{2} + 2 C(z) c u^{3} - 2 C'(z) u + 2 D(z) c u^{4}=0\n",
    "\\end{equation}\n",
    "and this equation corresponds to finding the roots of a sixth order polynomial in $u$. Moreover, since the monomials $\\{1,u,u^2,u^3,u^4,u^5,u^6\\}$ are *linearly independent*, this equation decomposes into seven subequations. Let's find these subequations using SymPy!"
   ]
  },
  {
   "cell_type": "code",
   "execution_count": null,
   "metadata": {},
   "outputs": [],
   "source": [
    "# Define the monomials\n",
    "M = [simplify(u/u), u, u**2, u**3, u**4, u**5, u**6]\n",
    "# Allocate memory for our sub equations\n",
    "sub_eq_det_eq = []\n",
    "# Loop over the monomials and extract the corresponding sub equations\n",
    "for index,monomial in enumerate(M):\n",
    "    if index == 0:\n",
    "        sub_eq_det_eq.append((monomial,det_eq_3.subs(u,0)))\n",
    "    else:\n",
    "        sub_eq_det_eq.append((monomial,det_eq_3.coeff(monomial).subs(u,0)))\n",
    "# Print the equations\n",
    "print(\"\\\\begin{align}\")\n",
    "for index,equation in enumerate(sub_eq_det_eq):\n",
    "    if index == len(sub_eq_det_eq)-1:\n",
    "        print(\"%s:&%s=0.\\\\\\\\\"%(latex(equation[0]),latex(equation[1]).replace(\"A\",\"A(z)\").replace(\"B\",\"B(z)\").replace(\"C\",\"C(z)\").replace(\"D\",\"D(z)\").replace(\"A(z)_{prime}\",\"A'(z)\").replace(\"A(z)_{bis}\",\"A''(z)\").replace(\"B(z)_{prime}\",\"B'(z)\").replace(\"B(z)_{bis}\",\"B''(z)\").replace(\"C(z)_{prime}\",\"C'(z)\").replace(\"D(z)_{prime}\",\"D'(z)\")))\n",
    "    else:\n",
    "        print(\"%s:&%s=0,\\\\\\\\\"%(latex(equation[0]),latex(equation[1]).replace(\"A\",\"A(z)\").replace(\"B\",\"B(z)\").replace(\"C\",\"C(z)\").replace(\"D\",\"D(z)\").replace(\"A(z)_{prime}\",\"A'(z)\").replace(\"A(z)_{bis}\",\"A''(z)\").replace(\"B(z)_{prime}\",\"B'(z)\").replace(\"B(z)_{bis}\",\"B''(z)\").replace(\"C(z)_{prime}\",\"C'(z)\").replace(\"D(z)_{prime}\",\"D'(z)\")))\n",
    "print(\"\\\\end{align}\")\n"
   ]
  },
  {
   "cell_type": "markdown",
   "metadata": {},
   "source": [
    "So our seven subequations stemming from the third determining equation are given by:\n",
    "\\begin{align}\n",
    "1:&3 B''(z)=0,\\\\\n",
    "u:&- A''(z) - 2 C'(z)=0,\\\\\n",
    "u^{2}:&- 3 B(z) - B'(z) c=0,\\\\\n",
    "u^{3}:&A'(z) c + 3 B(z) - 2 B''(z) c + 2 C(z) c=0,\\\\\n",
    "u^{4}:&- \\frac{4 A''(z) c}{3} + 2 D(z) c=0,\\\\\n",
    "u^{5}:&- 2 B'(z) c^{2}=0,\\\\\n",
    "u^{6}:&- \\frac{2 A'(z) c^{2}}{3}=0.\\\\\n",
    "\\end{align}\n"
   ]
  },
  {
   "cell_type": "markdown",
   "metadata": {},
   "source": [
    "# Determining equation 4\n",
    "Ok, so we are interested in the following PDE\n",
    "$$\\eta_{zz}+(2\\xi_z-\\eta_u)u^3(1-u)cu^2\\eta_z+u^2(3-4u)\\eta=0.$$"
   ]
  },
  {
   "cell_type": "code",
   "execution_count": null,
   "metadata": {},
   "outputs": [],
   "source": []
  }
 ],
 "metadata": {
  "kernelspec": {
   "display_name": "Python 3 (ipykernel)",
   "language": "python",
   "name": "python3"
  },
  "language_info": {
   "codemirror_mode": {
    "name": "ipython",
    "version": 3
   },
   "file_extension": ".py",
   "mimetype": "text/x-python",
   "name": "python",
   "nbconvert_exporter": "python",
   "pygments_lexer": "ipython3",
   "version": "3.8.3"
  }
 },
 "nbformat": 4,
 "nbformat_minor": 4
}
