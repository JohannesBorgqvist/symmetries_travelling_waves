{
 "cells": [
  {
   "cell_type": "markdown",
   "metadata": {},
   "source": [
    "# Travelling wave symmetries for a model of epithelial cell migration\n",
    "*Date:* 2022-09-01,<br>\n",
    "*Written by:* Johannes Borgqvist.<br>\n",
    "\n",
    "We analyse the following second order travelling wave ODE \n",
    "\n",
    "$$\\dfrac{\\mathrm{d}}{\\mathrm{d}z}\\left(\\dfrac{1}{u(z)^\\ell}\\dfrac{\\mathrm{d}u}{\\mathrm{d}z}\\right)+c\\dfrac{\\mathrm{d}u}{\\mathrm{d}z}+f(u(z))=0.$$\n",
    "with $f(u)=c_0+c_1 u+c_2 u^2+c_3 u^3$ and $\\ell$ is an arbitrary index. This is a generalisation of the model in [1] that describes *cell migration in an epithelial tissue*, and this particular model is retrieved by the choices $\\ell=2$ and $f(u)=u(1-u)$. \n",
    "\n",
    "\n",
    "By denoting derivatives by $\\mathrm{d}u/\\mathrm{d}z=u'$ this ODE can be re-written as follows:\n",
    "\\begin{equation}\n",
    "    u''-\\dfrac{\\ell(u')^2}{u}+cu'u^\\ell+u^\\ell f(u)=0.\n",
    "\\end{equation}\n",
    "Now, we are interested in an infinitesimal generator of the Lie group\n",
    "$$X=\\xi(z,u)\\partial_z+\\eta(z,u)\\partial_u$$\n",
    "which has a second prolongation given by\n",
    "$$X^{(2)}=\\xi(z,u)\\partial_z+\\eta(z,u)\\partial_u+\\eta^{(1)}(z,u,u')\\partial_{u'}+\\eta^{(2)}(z,u,u',u'')\\partial_{u''}.$$\n",
    "Here, the two prolonged infinitesimals $\\eta^{(1)}$ and $\\eta^{(2)}$ are given by [2]\n",
    "\\begin{align}\n",
    "    \\eta^{(1)}(z,u,u')&=\\eta_z+(\\eta_u-\\xi_z)u'-\\xi_u\\left(u'\\right)^2,\\\\\n",
    "    \\eta^{(2)}(z,u,u',u'')&=\\eta_{zz}+(2\\eta_{zu}-\\xi_{zz})u'+\\left(\\eta_{uu}-2\\xi_{zu}\\right)\\left(u'\\right)^2-\\xi_{uu}\\left(u'\\right)^3\\nonumber\\\\\n",
    "    &+\\left\\{\\eta_u - 2\\xi_z -3\\xi_u u'\\right\\}u''.    \n",
    "\\end{align}\n",
    "\n",
    "The linearised symmetry condition for our ODE of interest is given by\n",
    "\\begin{equation}\n",
    "\\begin{split}\n",
    "    \\eta^{(2)}+\\left(cu^{\\ell}-\\dfrac{2\\ell u'}{u}\\right)\\eta^{(1)}+\\left(\\dfrac{\\ell (u')^2}{u^2}+c\\ell u^{\\ell-1}u'+u^{\\ell-1}\\left(\\ell f(u)+u\\dfrac{\\mathrm{d}f}{\\mathrm{d}u}\\right)\\right)\\eta&=0\\\\\n",
    "    \\quad\\mathrm{whenever}\\quad u''-\\dfrac{\\ell(u')^2}{u}+cu'u^\\ell+u^\\ell f(u)=0.\n",
    "\\end{split}\n",
    "    \\label{eq:lin_sym}\n",
    "\\end{equation}\n",
    "By calculating the prolonged infinitesimals $\\eta^{(1)}$ and $\\eta^{(2)}$, plugging these into this linearised symmetry condition, and then organising the resulting equation in terms of powers of $u'$ results in the following four so called *determining equations*\n",
    "\\begin{align}\n",
    "(u')^3:&\\quad\\xi_{uu}+\\dfrac{\\ell}{u}\\xi_u&=0,\\label{eq:det_eq_1}\\\\\n",
    "(u')^2:&\\quad2c\\xi_u u^{\\ell}+\\eta_{uu}-2\\xi_{zu}-\\dfrac{(\\eta_u-2\\xi_z)\\ell}{u}+\\dfrac{\\ell\\eta}{u^2}&=0,\\label{eq:det_eq_2}\\\\\n",
    "u':&\\quad cu^{\\ell}\\xi_z+3u^{\\ell}\\xi_u f(u)+2\\eta_{zu}-\\xi_{zz}-\\dfrac{2\\ell}{u}\\eta_z+c\\ell u^{\\ell-1}\\eta&=0,\\label{det_eq_3}\\\\\n",
    "1:&\\quad u^{\\ell-1}\\left(\\ell f(u)+u\\dfrac{\\mathrm{d}f}{\\mathrm{d}u}\\right)\\eta+cu^{\\ell}\\eta_z+\\eta_{zz}+u^{\\ell}f(u)(2\\xi_z-\\eta_u)&\\quad=0.\\label{det_eq_4}\n",
    "\\end{align}\n",
    "Now, we will treat these four equations systematically, and solve them one by one. We will use our friend *SymPy* to do this.\n",
    "\n",
    "**References**<br>\n",
    "[1] 2020, R.J. Murphy, P.R. Buenzli , R.E. Baker , M.J. Simpson, \"*Travelling waves in a free boundary mechanobiological model of an\n",
    "epithelial tissue*\", Applied Mathematics Letters, Elsevier.<br>\n",
    "[2] 2000, P.E. Hydon, \"*Symmetry methods for differential equations: a beginner's guide*\", Cambridge University Press, Volume 22."
   ]
  },
  {
   "cell_type": "code",
   "execution_count": 1,
   "metadata": {},
   "outputs": [],
   "source": [
    "# Import sympy which we will do all symbolic calculations in\n",
    "from sympy import *\n",
    "init_printing(use_latex='mathjax')"
   ]
  },
  {
   "cell_type": "markdown",
   "metadata": {},
   "source": [
    "# Determining equation 1\n",
    "Ok, so we are interested in the following PDE\n",
    "$$\\xi_{uu}+\\dfrac{\\ell}{u}\\xi_u=0.$$\n",
    "This one we solve by hand which gives us the following equation\n",
    "\\begin{equation}\n",
    "\\xi{(z,u)}=A(z)\\left(\\dfrac{1}{1-\\ell}\\right)u^{1-\\ell}-B(z)\n",
    "\\label{eq:xi}\n",
    "\\end{equation}\n",
    "where $A,B\\in\\mathcal{C}^{\\infty}(\\mathbb{R})$. Let's verify this solution in SymPy."
   ]
  },
  {
   "cell_type": "code",
   "execution_count": 2,
   "metadata": {},
   "outputs": [
    {
     "name": "stdout",
     "output_type": "stream",
     "text": [
      "Validation of xi tangent (expecting the answer 0):\n",
      "0.\n"
     ]
    }
   ],
   "source": [
    "# Allocate our arbitrary functions\n",
    "A, B = symbols('A B')\n",
    "# Allocate our index ell\n",
    "l = symbols('l')\n",
    "# Allocate our variable u\n",
    "u = symbols('u')\n",
    "# Define our candidate tangent\n",
    "xi = A*((1)/(1-l))*(u**(1-l))-B\n",
    "# Plug this solution into our PDE\n",
    "det_eq_xi = Derivative(xi,u,2).doit()+(l/u)*Derivative(xi,u).doit()\n",
    "# Print the solution\n",
    "print(\"Validation of xi tangent (expecting the answer 0):\")\n",
    "print(str(det_eq_xi)+\".\")"
   ]
  },
  {
   "cell_type": "markdown",
   "metadata": {},
   "source": [
    "# Determining equation 2\n",
    "Ok, so we are interested in solving the following PDE\n",
    "$$2c\\xi_u u^{\\ell}+\\eta_{uu}-2\\xi_{zu}-\\dfrac{(\\eta_u-2\\xi_z)\\ell}{u}+\\dfrac{\\ell\\eta}{u^2}=0$$\n",
    "for the unknown tangent $\\eta(z,u)$. We plugged this PDE into Wolphram Alpha, and out came the following suggested solution\n",
    "\n",
    "\\begin{equation}\n",
    "\\eta{(z,u)}=2cA(z)\\left(\\dfrac{1}{\\ell-2}\\right)u^2+A'(z)\\left(\\dfrac{2\\ell-1}{(\\ell-1)^2}\\right)u^{2-\\ell}+2B'(z)\\left(\\dfrac{\\ell}{\\ell-1}\\right)u\\ln(u)+C(z)u^{\\ell}+D(z)u\n",
    "\\label{eq:eta}\n",
    "\\end{equation}\n",
    "where $C,D\\in\\mathcal{C}^{\\infty}(\\mathbb{R})$ are two new arbitrary functions. Again, let's try to verify this solution in SymPy."
   ]
  },
  {
   "cell_type": "code",
   "execution_count": 3,
   "metadata": {
    "scrolled": true
   },
   "outputs": [
    {
     "name": "stdout",
     "output_type": "stream",
     "text": [
      "Validation of eta tangent (expecting the answer 0):\n",
      "-4*B_prime*l/u.\n"
     ]
    }
   ],
   "source": [
    "# Define two new symbols for the derivatives, and the two new arbitrary functions\n",
    "A_prime, B_prime, C, D = symbols('A_prime B_prime C D')\n",
    "# Define our travelling wave constant\n",
    "c = symbols('c')\n",
    "# Define our second tangent eta\n",
    "eta = 2*c*A*((1)/(l-2))*(u**2) + A_prime*((2*l-1)/((l-1)**3))*(u**(2-l))+2*B_prime*((l)/(l-1))*u*log(u)+C*(u**l)+D*u\n",
    "# Now, let's define our partial derivatives of xi in order to be able to define the inhomogeneous part of the PDE\n",
    "xi_z = xi.subs(A,A_prime).subs(B,B_prime)\n",
    "xi_u = A*(u**(-l))\n",
    "xi_zu = xi_u.subs(A,A_prime)\n",
    "# Inhomogenous part\n",
    "inhomo = 2*c*(u**l)*xi_u-2*xi_zu+((2*l)/(u))*xi_z\n",
    "# Now, define our PDE\n",
    "det_eq_eta = simplify(Derivative(eta,u,2).doit()-((l)/(u))*Derivative(eta,u).doit()+((l)/(u**2))*eta+inhomo)\n",
    "# Print the solution\n",
    "print(\"Validation of eta tangent (expecting the answer 0):\")\n",
    "print(str(det_eq_eta)+\".\")"
   ]
  },
  {
   "cell_type": "markdown",
   "metadata": {},
   "source": [
    "# Determining equation 3\n",
    "Ok, thus far we have landed at the following infinitesimals:\n",
    "\\begin{align}\n",
    "\\xi{(z,u)}&=A(z)\\left(\\dfrac{1}{1-\\ell}\\right)u^{1-\\ell}-B(z),\\\\\n",
    "\\eta{(z,u)}&=2cA(z)\\left(\\dfrac{1}{\\ell-2}\\right)u^2+A'(z)\\left(\\dfrac{2\\ell-1}{(\\ell-1)^2}\\right)u^{2-\\ell}+2B'(z)\\left(\\dfrac{\\ell}{\\ell-1}\\right)u\\ln(u)+C(z)u^{\\ell}+D(z)u.\\\\\n",
    "\\end{align}\n",
    "\n",
    "Next, we want to use following PDE\n",
    "$$cu^{\\ell}\\xi_z+3u^{\\ell}\\xi_u f(u)+2\\eta_{zu}-\\xi_{zz}-\\dfrac{2\\ell}{u}\\eta_z+c\\ell u^{\\ell-1}\\eta=0$$\n",
    "in order to get equations that we can solve for the four unknown functions $A,B,C,D\\in\\mathcal{C}^{\\infty}(\\mathbb{R})$. So what we can do here is to plug in our unknown functions, and the we see that the above equation entails finding the roots of a polynomial in u. Hence, the equation decomposes into a set of subequations which we can solve individually. \n",
    "\n",
    "Here, we are going to assume a general cubic reaction term\n",
    "\\begin{equation}\n",
    "f(u)=c_0+c_1 u+c_2 u^2+c_3 u^3.\n",
    "\\end{equation}\n",
    "where $c_0,c_1,c_2,c_3\\in\\mathbb{R}$ are four arbitrary constants."
   ]
  },
  {
   "cell_type": "code",
   "execution_count": 4,
   "metadata": {},
   "outputs": [
    {
     "name": "stdout",
     "output_type": "stream",
     "text": [
      "\\begin{equation}\n",
      "2 A(z) c^{2} l^{4} u^{4} u^{l} - 6 A(z) c^{2} l^{3} u^{4} u^{l} + 6 A(z) c^{2} l^{2} u^{4} u^{l} - 2 A(z) c^{2} l u^{4} u^{l} - 4 A(z) c l^{4} u^{4} + 20 A(z) c l^{3} u^{4} - 36 A(z) c l^{2} u^{4} + 28 A(z) c l u^{4} - 8 A(z) c u^{4} + 3 A(z) c_{0} l^{4} u^{3} - 15 A(z) c_{0} l^{3} u^{3} + 27 A(z) c_{0} l^{2} u^{3} - 21 A(z) c_{0} l u^{3} + 6 A(z) c_{0} u^{3} + 3 A(z) c_{1} l^{4} u^{4} - 15 A(z) c_{1} l^{3} u^{4} + 27 A(z) c_{1} l^{2} u^{4} - 21 A(z) c_{1} l u^{4} + 6 A(z) c_{1} u^{4} + 3 A(z) c_{2} l^{4} u^{5} - 15 A(z) c_{2} l^{3} u^{5} + 27 A(z) c_{2} l^{2} u^{5} - 21 A(z) c_{2} l u^{5} + 6 A(z) c_{2} u^{5} + 3 A(z) c_{3} l^{4} u^{6} - 15 A(z) c_{3} l^{3} u^{6} + 27 A(z) c_{3} l^{2} u^{6} - 21 A(z) c_{3} l u^{6} + 6 A(z) c_{3} u^{6} - 7 A''(z) l^{3} u^{4} u^{- l} + 24 A''(z) l^{2} u^{4} u^{- l} - 23 A''(z) l u^{4} u^{- l} + 6 A''(z) u^{4} u^{- l} + A'(z) c l^{3} u^{4} - A'(z) c l^{2} u^{4} - 3 A'(z) c l u^{4} + 2 A'(z) c u^{4} - 4 B''(z) l^{5} u^{3} \\ln{\\left(u \\right)} + 20 B''(z) l^{4} u^{3} \\ln{\\left(u \\right)} + 5 B''(z) l^{4} u^{3} - 36 B''(z) l^{3} u^{3} \\ln{\\left(u \\right)} - 21 B''(z) l^{3} u^{3} + 28 B''(z) l^{2} u^{3} \\ln{\\left(u \\right)} + 29 B''(z) l^{2} u^{3} - 8 B''(z) l u^{3} \\ln{\\left(u \\right)} - 15 B''(z) l u^{3} + 2 B''(z) u^{3} + 2 B'(z) c l^{5} u^{3} u^{l} \\ln{\\left(u \\right)} - 8 B'(z) c l^{4} u^{3} u^{l} \\ln{\\left(u \\right)} - B'(z) c l^{4} u^{3} u^{l} + 10 B'(z) c l^{3} u^{3} u^{l} \\ln{\\left(u \\right)} + 5 B'(z) c l^{3} u^{3} u^{l} - 4 B'(z) c l^{2} u^{3} u^{l} \\ln{\\left(u \\right)} - 9 B'(z) c l^{2} u^{3} u^{l} + 7 B'(z) c l u^{3} u^{l} - 2 B'(z) c u^{3} u^{l} + C(z) c l^{5} u^{2} u^{2 l} - 5 C(z) c l^{4} u^{2} u^{2 l} + 9 C(z) c l^{3} u^{2} u^{2 l} - 7 C(z) c l^{2} u^{2} u^{2 l} + 2 C(z) c l u^{2} u^{2 l} + D(z) c l^{5} u^{3} u^{l} - 5 D(z) c l^{4} u^{3} u^{l} + 9 D(z) c l^{3} u^{3} u^{l} - 7 D(z) c l^{2} u^{3} u^{l} + 2 D(z) c l u^{3} u^{l} - 2 D'(z) l^{5} u^{3} + 12 D'(z) l^{4} u^{3} - 28 D'(z) l^{3} u^{3} + 32 D'(z) l^{2} u^{3} - 18 D'(z) l u^{3} + 4 D'(z) u^{3}=0.\n",
      "\\end{equation}\n"
     ]
    }
   ],
   "source": [
    "# Define some new constants\n",
    "A_bis, B_bis, C_prime, D_prime = symbols('A_bis B_bis C_prime D_prime')\n",
    "# Define our partial derivative of eta with respect to z\n",
    "eta_z = eta.subs(A_prime,A_bis).subs(B_prime,B_bis).subs(C,C_prime).subs(D,D_prime)\n",
    "xi_zz = xi.subs(A,A_bis).subs(B,B_bis)\n",
    "# Define four constants \n",
    "c0, c1, c2, c3 = symbols('c0 c1 c2 c3')\n",
    "# Define our reaction term\n",
    "f = c0+c1*u+(c2*(u**2))+(c3*(u**3))\n",
    "# Define our second derivative of xi\n",
    "xi_zz = xi.subs(A,A_bis).subs(B,B_bis)\n",
    "# Now, we can define our determining equation at hand\n",
    "det_eq_3 = simplify(c*(u**l)*xi_z+3*(u**l)*Derivative(xi,u).doit()*f+2*Derivative(eta_z,u).doit()-xi_zz-((2*l)/(u))*eta_z+c*l*(u**(l-1))*eta)\n",
    "# Remove any common denominators and expand as well\n",
    "det_eq_3,denom = fraction(det_eq_3)\n",
    "#det_eq_3 = expand(det_eq_3)\n",
    "# Lastly, print the equation\n",
    "print(latex(expand(det_eq_3),mode='equation').replace(\"\\\\begin{equation}\",\"\\\\begin{equation}\\n\").replace(\"\\\\end{equation}\",\"=0.\\n\\\\end{equation}\").replace(\"A\",\"A(z)\").replace(\"B\",\"B(z)\").replace(\"C\",\"C(z)\").replace(\"D\",\"D(z)\").replace(\"A(z)_{prime}\",\"A'(z)\").replace(\"A(z)_{bis}\",\"A''(z)\").replace(\"B(z)_{prime}\",\"B'(z)\").replace(\"B(z)_{bis}\",\"B''(z)\").replace(\"C(z)_{prime}\",\"C'(z)\").replace(\"D(z)_{prime}\",\"D'(z)\").replace(\"\\\\log\",\"\\\\ln\"))"
   ]
  },
  {
   "cell_type": "markdown",
   "metadata": {},
   "source": [
    "When substituting our infinitesimals into the third determining equation before any simplifications are made, we obtain the following equation:\n",
    "\n",
    "\\begin{equation}\n",
    "8 A(z) c u^{4} \\left(l - 1\\right)^{3} - 2 A''(z) u^{4 - l} \\left(l - 2\\right)^{2} \\cdot \\left(2 l - 1\\right) + c l u^{l + 2} \\cdot \\left(2 A(z) c u^{2} \\left(l - 1\\right)^{3} + A'(z) u^{2 - l} \\left(l - 2\\right) \\left(2 l - 1\\right) + 2 B'(z) l u \\left(l - 2\\right) \\left(l - 1\\right)^{2} \\log{\\left(u \\right)} + \\left(l - 2\\right) \\left(l - 1\\right)^{3} \\left(C(z) u^{l} + D(z) u\\right)\\right) - 2 l u^{2} \\cdot \\left(2 A(z) c u^{2} \\left(l - 1\\right)^{3} + A''(z) u^{2 - l} \\left(l - 2\\right) \\left(2 l - 1\\right) + 2 B''(z) l u \\left(l - 2\\right) \\left(l - 1\\right)^{2} \\log{\\left(u \\right)} + \\left(l - 2\\right) \\left(l - 1\\right)^{3} \\left(C'(z) u^{l} + D'(z) u\\right)\\right) + u^{3} \\left(- B''(z) + 2 D'(z)\\right) \\left(l - 2\\right) \\left(l - 1\\right)^{3} + u^{3} \\left(l - 2\\right) \\left(l - 1\\right)^{2} \\left(A''(z) u^{1 - l} + 4 B''(z) l \\log{\\left(u \\right)} + 4 B''(z) l - c u^{l} \\left(A'(z) u^{1 - l} - B'(z) \\left(l - 1\\right)\\right)\\right) + u^{2} \\left(l - 2\\right) \\left(l - 1\\right)^{3} \\cdot \\left(3 A(z) u \\left(c_{0} + c_{1} u + c_{2} u^{2} + c_{3} u^{3}\\right) + 2 C'(z) l u^{l}\\right)=0.\n",
    "\\end{equation}\n",
    "So, I think what we will do now is to treat the cases l=0,1,2, and plug in these values of l into \n",
    "\n",
    "Let's see if we can split this up w.r.t. to the 11 first monomials. "
   ]
  },
  {
   "cell_type": "code",
   "execution_count": 5,
   "metadata": {},
   "outputs": [
    {
     "name": "stdout",
     "output_type": "stream",
     "text": [
      "Equation log:\n",
      "\\begin{equation}\n",
      "- 4 B''(z) l^{5} u^{3} + 20 B''(z) l^{4} u^{3} - 36 B''(z) l^{3} u^{3} + 28 B''(z) l^{2} u^{3} - 8 B''(z) l u^{3} + 2 B'(z) c l^{5} u^{3} u^{l} - 8 B'(z) c l^{4} u^{3} u^{l} + 10 B'(z) c l^{3} u^{3} u^{l} - 4 B'(z) c l^{2} u^{3} u^{l}=0.\n",
      "\\end{equation}\n",
      "Equation without log:\n",
      "\\begin{equation}\n",
      "2 A(z) c^{2} l^{4} u^{4} u^{l} - 6 A(z) c^{2} l^{3} u^{4} u^{l} + 6 A(z) c^{2} l^{2} u^{4} u^{l} - 2 A(z) c^{2} l u^{4} u^{l} - 4 A(z) c l^{4} u^{4} + 20 A(z) c l^{3} u^{4} - 36 A(z) c l^{2} u^{4} + 28 A(z) c l u^{4} - 8 A(z) c u^{4} + 3 A(z) c_{0} l^{4} u^{3} - 15 A(z) c_{0} l^{3} u^{3} + 27 A(z) c_{0} l^{2} u^{3} - 21 A(z) c_{0} l u^{3} + 6 A(z) c_{0} u^{3} + 3 A(z) c_{1} l^{4} u^{4} - 15 A(z) c_{1} l^{3} u^{4} + 27 A(z) c_{1} l^{2} u^{4} - 21 A(z) c_{1} l u^{4} + 6 A(z) c_{1} u^{4} + 3 A(z) c_{2} l^{4} u^{5} - 15 A(z) c_{2} l^{3} u^{5} + 27 A(z) c_{2} l^{2} u^{5} - 21 A(z) c_{2} l u^{5} + 6 A(z) c_{2} u^{5} + 3 A(z) c_{3} l^{4} u^{6} - 15 A(z) c_{3} l^{3} u^{6} + 27 A(z) c_{3} l^{2} u^{6} - 21 A(z) c_{3} l u^{6} + 6 A(z) c_{3} u^{6} - 7 A''(z) l^{3} u^{4} u^{- l} + 24 A''(z) l^{2} u^{4} u^{- l} - 23 A''(z) l u^{4} u^{- l} + 6 A''(z) u^{4} u^{- l} + A'(z) c l^{3} u^{4} - A'(z) c l^{2} u^{4} - 3 A'(z) c l u^{4} + 2 A'(z) c u^{4} + 5 B''(z) l^{4} u^{3} - 21 B''(z) l^{3} u^{3} + 29 B''(z) l^{2} u^{3} - 15 B''(z) l u^{3} + 2 B''(z) u^{3} - B'(z) c l^{4} u^{3} u^{l} + 5 B'(z) c l^{3} u^{3} u^{l} - 9 B'(z) c l^{2} u^{3} u^{l} + 7 B'(z) c l u^{3} u^{l} - 2 B'(z) c u^{3} u^{l} + C(z) c l^{5} u^{2} u^{2 l} - 5 C(z) c l^{4} u^{2} u^{2 l} + 9 C(z) c l^{3} u^{2} u^{2 l} - 7 C(z) c l^{2} u^{2} u^{2 l} + 2 C(z) c l u^{2} u^{2 l} + D(z) c l^{5} u^{3} u^{l} - 5 D(z) c l^{4} u^{3} u^{l} + 9 D(z) c l^{3} u^{3} u^{l} - 7 D(z) c l^{2} u^{3} u^{l} + 2 D(z) c l u^{3} u^{l} - 2 D'(z) l^{5} u^{3} + 12 D'(z) l^{4} u^{3} - 28 D'(z) l^{3} u^{3} + 32 D'(z) l^{2} u^{3} - 18 D'(z) l u^{3} + 4 D'(z) u^{3}=0.\n",
      "\\end{equation}\n"
     ]
    }
   ],
   "source": [
    "# Divide the equation into two parts: the one with logs and the one without logs\n",
    "det_eq_3_log = expand(det_eq_3).coeff(log(u))\n",
    "# No logs\n",
    "det_eq_3_no_log = expand(expand(det_eq_3) - det_eq_3_log*log(u))\n",
    "# Print these equations\n",
    "print(\"Equation log:\")\n",
    "print(latex(det_eq_3_log,mode='equation').replace(\"\\\\begin{equation}\",\"\\\\begin{equation}\\n\").replace(\"\\\\end{equation}\",\"=0.\\n\\\\end{equation}\").replace(\"A\",\"A(z)\").replace(\"B\",\"B(z)\").replace(\"C\",\"C(z)\").replace(\"D\",\"D(z)\").replace(\"A(z)_{prime}\",\"A'(z)\").replace(\"A(z)_{bis}\",\"A''(z)\").replace(\"B(z)_{prime}\",\"B'(z)\").replace(\"B(z)_{bis}\",\"B''(z)\").replace(\"C(z)_{prime}\",\"C'(z)\").replace(\"D(z)_{prime}\",\"D'(z)\"))\n",
    "print(\"Equation without log:\")\n",
    "print(latex(det_eq_3_no_log,mode='equation').replace(\"\\\\begin{equation}\",\"\\\\begin{equation}\\n\").replace(\"\\\\end{equation}\",\"=0.\\n\\\\end{equation}\").replace(\"A\",\"A(z)\").replace(\"B\",\"B(z)\").replace(\"C\",\"C(z)\").replace(\"D\",\"D(z)\").replace(\"A(z)_{prime}\",\"A'(z)\").replace(\"A(z)_{bis}\",\"A''(z)\").replace(\"B(z)_{prime}\",\"B'(z)\").replace(\"B(z)_{bis}\",\"B''(z)\").replace(\"C(z)_{prime}\",\"C'(z)\").replace(\"D(z)_{prime}\",\"D'(z)\"))"
   ]
  },
  {
   "cell_type": "markdown",
   "metadata": {},
   "source": [
    "Equation log:\n",
    "\\begin{equation}\n",
    "- 4 B''(z) l^{5} u^{3} + 20 B''(z) l^{4} u^{3} - 36 B''(z) l^{3} u^{3} + 28 B''(z) l^{2} u^{3} - 8 B''(z) l u^{3} + 2 B'(z) c l^{5} u^{3} u^{l} - 8 B'(z) c l^{4} u^{3} u^{l} + 10 B'(z) c l^{3} u^{3} u^{l} - 4 B'(z) c l^{2} u^{3} u^{l}=0.\n",
    "\\end{equation}\n",
    "Equation without log:\n",
    "\\begin{equation}\n",
    "2 A(z) c^{2} l^{4} u^{4} u^{l} - 6 A(z) c^{2} l^{3} u^{4} u^{l} + 6 A(z) c^{2} l^{2} u^{4} u^{l} - 2 A(z) c^{2} l u^{4} u^{l} - 4 A(z) c l^{4} u^{4} + 20 A(z) c l^{3} u^{4} - 36 A(z) c l^{2} u^{4} + 28 A(z) c l u^{4} - 8 A(z) c u^{4} + 3 A(z) c_{0} l^{4} u^{3} - 15 A(z) c_{0} l^{3} u^{3} + 27 A(z) c_{0} l^{2} u^{3} - 21 A(z) c_{0} l u^{3} + 6 A(z) c_{0} u^{3} + 3 A(z) c_{1} l^{4} u^{4} - 15 A(z) c_{1} l^{3} u^{4} + 27 A(z) c_{1} l^{2} u^{4} - 21 A(z) c_{1} l u^{4} + 6 A(z) c_{1} u^{4} + 3 A(z) c_{2} l^{4} u^{5} - 15 A(z) c_{2} l^{3} u^{5} + 27 A(z) c_{2} l^{2} u^{5} - 21 A(z) c_{2} l u^{5} + 6 A(z) c_{2} u^{5} + 3 A(z) c_{3} l^{4} u^{6} - 15 A(z) c_{3} l^{3} u^{6} + 27 A(z) c_{3} l^{2} u^{6} - 21 A(z) c_{3} l u^{6} + 6 A(z) c_{3} u^{6} - 7 A''(z) l^{3} u^{4} u^{- l} + 24 A''(z) l^{2} u^{4} u^{- l} - 23 A''(z) l u^{4} u^{- l} + 6 A''(z) u^{4} u^{- l} + A'(z) c l^{3} u^{4} - A'(z) c l^{2} u^{4} - 3 A'(z) c l u^{4} + 2 A'(z) c u^{4} + 3 B''(z) l^{4} u^{3} - 11 B''(z) l^{3} u^{3} + 11 B''(z) l^{2} u^{3} - B''(z) l u^{3} - 2 B''(z) u^{3} + B'(z) c l^{4} u^{3} u^{l} - 5 B'(z) c l^{3} u^{3} u^{l} + 9 B'(z) c l^{2} u^{3} u^{l} - 7 B'(z) c l u^{3} u^{l} + 2 B'(z) c u^{3} u^{l} + C(z) c l^{5} u^{2} u^{2 l} - 5 C(z) c l^{4} u^{2} u^{2 l} + 9 C(z) c l^{3} u^{2} u^{2 l} - 7 C(z) c l^{2} u^{2} u^{2 l} + 2 C(z) c l u^{2} u^{2 l} + D(z) c l^{5} u^{3} u^{l} - 5 D(z) c l^{4} u^{3} u^{l} + 9 D(z) c l^{3} u^{3} u^{l} - 7 D(z) c l^{2} u^{3} u^{l} + 2 D(z) c l u^{3} u^{l} - 2 D'(z) l^{5} u^{3} + 12 D'(z) l^{4} u^{3} - 28 D'(z) l^{3} u^{3} + 32 D'(z) l^{2} u^{3} - 18 D'(z) l u^{3} + 4 D'(z) u^{3}=0.\n",
    "\\end{equation}\n",
    "Ok, so now we can try to sort these equations for different values of $l$, specifically $l=0,1,2$. Then, we'll see what the resulting determining equations will look like."
   ]
  },
  {
   "cell_type": "code",
   "execution_count": 6,
   "metadata": {},
   "outputs": [],
   "source": [
    "# Allocate memory for the monomials\n",
    "monomials = [u**index for index in range(21)]\n",
    "# Define three lists for the cases l = 0,1,2 \n",
    "det_eq_3_l_0 = []\n",
    "det_eq_3_l_1 = []\n",
    "det_eq_3_l_2 = []\n",
    "# Begin with the log list and add equations to our three lists\n",
    "for monomial in monomials:\n",
    "    if det_eq_3_log.subs(l,0).coeff(monomial).subs(u,0)!=0:\n",
    "        det_eq_3_l_0.append((monomial*log(u),det_eq_3_log.subs(l,0).coeff(monomial).subs(u,0)))\n",
    "    elif det_eq_3_log.subs(l,1).coeff(monomial).subs(u,0)!=0:\n",
    "        det_eq_3_l_1.append((monomial*log(u),det_eq_3_log.subs(l,1).coeff(monomial).subs(u,0)))\n",
    "    elif det_eq_3_log.subs(l,2).coeff(monomial).subs(u,0)!=0:\n",
    "        det_eq_3_l_2.append((monomial*log(u),det_eq_3_log.subs(l,2).coeff(monomial).subs(u,0)))    \n",
    "# Next, we re-do this analysis for the equations without logs\n",
    "for monomial in monomials:\n",
    "    if det_eq_3_no_log.subs(l,0).coeff(monomial).subs(u,0)!=0:\n",
    "        det_eq_3_l_0.append((monomial,det_eq_3_no_log.subs(l,0).coeff(monomial).subs(u,0)))\n",
    "    elif det_eq_3_no_log.subs(l,1).coeff(monomial).subs(u,0)!=0:\n",
    "        det_eq_3_l_1.append((monomial,det_eq_3_no_log.subs(l,1).coeff(monomial).subs(u,0)))\n",
    "    elif det_eq_3_no_log.subs(l,2).coeff(monomial).subs(u,0)!=0:\n",
    "        det_eq_3_l_2.append((monomial,det_eq_3_no_log.subs(l,2).coeff(monomial).subs(u,0)))    \n",
    "#---------------------------------------------------------------------------------\n",
    "# m=0\n",
    "#---------------------------------------------------------------------------------\n",
    "# Loop through equations and save\n",
    "str_temp = \"\\\\begin{align*}\\n\"\n",
    "for index,det_eq in enumerate(det_eq_3_l_0):\n",
    "    if index == len(det_eq_3_l_0)-1:\n",
    "        str_temp += latex(det_eq[0]) + \"&:\" + latex(det_eq[1]).replace(\"A\",\"A(z)\").replace(\"B\",\"B(z)\").replace(\"C\",\"C(z)\").replace(\"D\",\"D(z)\").replace(\"A(z)_{prime}\",\"A'(z)\").replace(\"A(z)_{bis}\",\"A''(z)\").replace(\"B(z)_{prime}\",\"B'(z)\").replace(\"B(z)_{bis}\",\"B''(z)\").replace(\"C(z)_{prime}\",\"C'(z)\").replace(\"D(z)_{prime}\",\"D'(z)\") + \"&=0.\\\\\\\\\\n\"\n",
    "    else:\n",
    "        str_temp += latex(det_eq[0]) + \"&:\" + latex(det_eq[1]).replace(\"A\",\"A(z)\").replace(\"B\",\"B(z)\").replace(\"C\",\"C(z)\").replace(\"D\",\"D(z)\").replace(\"A(z)_{prime}\",\"A'(z)\").replace(\"A(z)_{bis}\",\"A''(z)\").replace(\"B(z)_{prime}\",\"B'(z)\").replace(\"B(z)_{bis}\",\"B''(z)\").replace(\"C(z)_{prime}\",\"C'(z)\").replace(\"D(z)_{prime}\",\"D'(z)\") + \"&=0,\\\\\\\\\\n\"\n",
    "str_temp += \"\\\\end{align*}\\n\"\n",
    "# Lastly print to file\n",
    "with open(\"../notes_determining_equations/Input/det_eq_3_l_0.tex\", \"w\") as f_0:\n",
    "    f_0.write(\"%s\" % str_temp)\n",
    "#---------------------------------------------------------------------------------\n",
    "# m=1\n",
    "#---------------------------------------------------------------------------------\n",
    "# Loop through equations and save\n",
    "str_temp = \"\\\\begin{align*}\\n\"\n",
    "for index,det_eq in enumerate(det_eq_3_l_1):\n",
    "    if index == len(det_eq_3_l_1)-1:\n",
    "        str_temp += latex(det_eq[0]) + \"&:\" + latex(det_eq[1]).replace(\"A\",\"A(z)\").replace(\"B\",\"B(z)\").replace(\"C\",\"C(z)\").replace(\"D\",\"D(z)\").replace(\"A(z)_{prime}\",\"A'(z)\").replace(\"A(z)_{bis}\",\"A''(z)\").replace(\"B(z)_{prime}\",\"B'(z)\").replace(\"B(z)_{bis}\",\"B''(z)\").replace(\"C(z)_{prime}\",\"C'(z)\").replace(\"D(z)_{prime}\",\"D'(z)\") + \"&=0.\\\\\\\\\\n\"\n",
    "    else:\n",
    "        str_temp += latex(det_eq[0]) + \"&:\" + latex(det_eq[1]).replace(\"A\",\"A(z)\").replace(\"B\",\"B(z)\").replace(\"C\",\"C(z)\").replace(\"D\",\"D(z)\").replace(\"A(z)_{prime}\",\"A'(z)\").replace(\"A(z)_{bis}\",\"A''(z)\").replace(\"B(z)_{prime}\",\"B'(z)\").replace(\"B(z)_{bis}\",\"B''(z)\").replace(\"C(z)_{prime}\",\"C'(z)\").replace(\"D(z)_{prime}\",\"D'(z)\") + \"&=0,\\\\\\\\\\n\"\n",
    "str_temp += \"\\\\end{align*}\\n\"\n",
    "# Lastly print to file\n",
    "with open(\"../notes_determining_equations/Input/det_eq_3_l_1.tex\", \"w\") as f_1:\n",
    "    f_1.write(\"%s\" % str_temp)\n",
    "#---------------------------------------------------------------------------------\n",
    "# m=2\n",
    "#---------------------------------------------------------------------------------\n",
    "# Loop through equations and save\n",
    "str_temp = \"\\\\begin{align*}\\n\"\n",
    "for index,det_eq in enumerate(det_eq_3_l_2):\n",
    "    if index == len(det_eq_3_l_2)-1:\n",
    "        str_temp += latex(det_eq[0]) + \"&:\" + latex(det_eq[1]).replace(\"A\",\"A(z)\").replace(\"B\",\"B(z)\").replace(\"C\",\"C(z)\").replace(\"D\",\"D(z)\").replace(\"A(z)_{prime}\",\"A'(z)\").replace(\"A(z)_{bis}\",\"A''(z)\").replace(\"B(z)_{prime}\",\"B'(z)\").replace(\"B(z)_{bis}\",\"B''(z)\").replace(\"C(z)_{prime}\",\"C'(z)\").replace(\"D(z)_{prime}\",\"D'(z)\") + \"&=0.\\\\\\\\\\n\"\n",
    "    else:\n",
    "        str_temp += latex(det_eq[0]) + \"&:\" + latex(det_eq[1]).replace(\"A\",\"A(z)\").replace(\"B\",\"B(z)\").replace(\"C\",\"C(z)\").replace(\"D\",\"D(z)\").replace(\"A(z)_{prime}\",\"A'(z)\").replace(\"A(z)_{bis}\",\"A''(z)\").replace(\"B(z)_{prime}\",\"B'(z)\").replace(\"B(z)_{bis}\",\"B''(z)\").replace(\"C(z)_{prime}\",\"C'(z)\").replace(\"D(z)_{prime}\",\"D'(z)\") + \"&=0,\\\\\\\\\\n\"\n",
    "str_temp += \"\\\\end{align*}\\n\"\n",
    "# Lastly print to file\n",
    "with open(\"../notes_determining_equations/Input/det_eq_3_l_2.tex\", \"w\") as f_2:\n",
    "    f_2.write(\"%s\" % str_temp)    \n"
   ]
  },
  {
   "cell_type": "markdown",
   "metadata": {},
   "source": [
    "Interestingly, we get two cases after analysing the third determining equation. The first case is when $\\ell=0$, and in this case we have the following constants\n",
    "$$A(z)=0\\forall z\\in\\mathbb{R}$$\n",
    "and\n",
    "$$D(z)=\\dfrac{1}{2}\\left(B'(z)+B(z)\\right)+K\\quad K\\in\\mathbb{R}.$$\n",
    "In the case when $l>0$, all of the sub equations to this determining equation is set to 0, so we gain no extra information from the third determining equation. So let's substitute this into our infinitesimals $\\eta$ and $\\xi$. "
   ]
  },
  {
   "cell_type": "code",
   "execution_count": 7,
   "metadata": {},
   "outputs": [
    {
     "name": "stdout",
     "output_type": "stream",
     "text": [
      "Infinitesimals resulting from the value $\\ell=0$\n",
      "\\begin{equation}\n",
      "\\xi(z,u)=- B(z),\n",
      "\\end{equation}\n",
      "\\begin{equation}\n",
      "\\eta(z,u)=C(z) + u \\left(0.5 B(z) + 0.5 B'(z) + K\\right)\\quad K\\in\\mathbb{R}.\n",
      "\\end{equation}\n"
     ]
    }
   ],
   "source": [
    "# Allocate an arbitrary integration constant\n",
    "K = symbols('K')\n",
    "# Substitute everything into our infinitesimals\n",
    "xi_0 = xi.subs(l,0).subs(A,0).subs(A_prime,0).subs(D,(1/2)*(B_prime+B)+K)\n",
    "eta_0 = eta.subs(l,0).subs(A,0).subs(A_prime,0).subs(D,(1/2)*(B_prime+B)+K)\n",
    "# Print these equations\n",
    "print(\"Infinitesimals resulting from the value $\\ell=0$\")\n",
    "print(latex(xi_0,mode='equation').replace(\"\\\\begin{equation}\",\"\\\\begin{equation}\\n\\\\xi(z,u)=\").replace(\"\\\\end{equation}\",\",\\n\\\\end{equation}\").replace(\"l\",\"\\ell\").replace(\"B_prime\",\"B'(z)\").replace(\"B\",\"B(z)\").replace(\"C\",\"C(z)\"))\n",
    "print(latex(eta_0,mode='equation').replace(\"\\\\begin{equation}\",\"\\\\begin{equation}\\n\\\\eta(z,u)=\").replace(\"\\\\end{equation}\",\"\\\\quad K\\\\in\\\\mathbb{R}.\\n\\\\end{equation}\").replace(\"l\",\"\\ell\").replace(\"\\\\\\\\elleft\",\"\\\\left\").replace(\"B_{prime}\",\"B'(z)\").replace(\"B\",\"B(z)\").replace(\"B(z)'\",\"B'\").replace(\"C\",\"C(z)\"))\n"
   ]
  },
  {
   "cell_type": "markdown",
   "metadata": {},
   "source": [
    "Infinitesimals resulting from the value $\\ell=0$\n",
    "\\begin{equation}\n",
    "\\xi(z,u)=- B(z),\n",
    "\\end{equation}\n",
    "\\begin{equation}\n",
    "\\eta(z,u)=C(z) + u \\left(0.5 B(z) + 0.5 B'(z) + K\\right)\\quad K\\in\\mathbb{R}.\n",
    "\\end{equation}\n",
    "\n",
    "# Fourth determining equation\n",
    "Ok, so thus far we have the following infinitesimals when $l=0$\n",
    "\\begin{align}\n",
    "\\xi(z,u)&=- B(z),\\\\\n",
    "\\eta(z,u)&=C(z) + u \\left(0.5 B(z) + 0.5 B'(z) + K\\right)\\quad K\\in\\mathbb{R},\n",
    "\\end{align}\n",
    "and the following infinitesimals when $l>0$\n",
    "\\begin{align}\n",
    "\\xi{(z,u)}&=A(z)\\left(\\dfrac{1}{1-\\ell}\\right)u^{1-\\ell}-B(z),\\\\\n",
    "\\eta{(z,u)}&=2cA(z)\\left(\\dfrac{1}{\\ell-2}\\right)u^2+A'(z)\\left(\\dfrac{2\\ell-1}{(\\ell-1)^2}\\right)u^{2-\\ell}+2B'(z)\\left(\\dfrac{\\ell}{\\ell-1}\\right)u\\ln(u)+C(z)u^{\\ell}+D(z)u.\\\\\n",
    "\\end{align}\n",
    "Now, we consider our last equation that is given by\n",
    "\\begin{equation}\n",
    "u^{\\ell-1}\\left(\\ell f(u)+u\\dfrac{\\mathrm{d}f}{\\mathrm{d}u}\\right)\\eta+cu^{\\ell}\\eta_z+\\eta_{zz}+u^{\\ell}f(u)(2\\xi_z-\\eta_u)=0.\n",
    "\\end{equation}\n",
    "## Special case $\\ell=0$\n",
    "Let's start with the case when $\\ell=0$."
   ]
  },
  {
   "cell_type": "code",
   "execution_count": 8,
   "metadata": {},
   "outputs": [
    {
     "name": "stdout",
     "output_type": "stream",
     "text": [
      "The fourth determining equation in the case when $l=0$:\n",
      "\\begin{equation}\n",
      "- 0.5 B(z) c_{0} + 0.5 B(z) c_{2} u^{2} + 1.0 B(z) c_{3} u^{3} + 0.5 B''(z) c u + 0.5 B''(z) u + 0.5 B'(z) c u - 2.5 B'(z) c_{0} - 2.0 B'(z) c_{1} u - 1.5 B'(z) c_{2} u^{2} - 1.0 B'(z) c_{3} u^{3} + 0.5 B'''(z) u + C(z) c_{1} + 2 C(z) c_{2} u + 3 C(z) c_{3} u^{2} + C''(z) + C'(z) c - K c_{0} + K c_{2} u^{2} + 2 K c_{3} u^{3}=0\\quad K\\in\\mathbb{R}.\n",
      "\\end{equation}\n"
     ]
    }
   ],
   "source": [
    "# Define new symbols\n",
    "B_three, C_bis = symbols('B_three C_bis')\n",
    "# Calculate our partial derivatives\n",
    "eta_0_zz = eta_0.subs(B_prime,B_three).subs(C,C_bis).subs(B,B_bis).subs(K,0)\n",
    "eta_0_z = eta_0.subs(B_prime,B_bis).subs(C,C_prime).subs(B,B_prime).subs(K,0)\n",
    "xi_0_z = xi_0.subs(B,B_prime)\n",
    "eta_0_u = Derivative(eta_0,u).doit()\n",
    "# Calculate the constant term\n",
    "constant_term = (u**(l-1))*((l*f+u*Derivative(f,u).doit()))*eta_0\n",
    "# Assemble the fourth determining equation\n",
    "det_eq_4_l_0 = constant_term + c*(u**l)*eta_0_z+eta_0_zz+(u**l)*f*(2*xi_0_z-eta_0_u)\n",
    "# Insert the value l=0\n",
    "det_eq_4_l_0 = expand(det_eq_4_l_0.subs(l,0))\n",
    "print(\"The fourth determining equation in the case when $l=0$:\")\n",
    "print(latex(det_eq_4_l_0,mode='equation').replace(\"\\\\begin{equation}\",\"\\\\begin{equation}\\n\").replace(\"\\\\end{equation}\",\"=0\\\\quad K\\\\in\\\\mathbb{R}.\\n\\\\end{equation}\").replace(\"l\",\"\\ell\").replace(\"\\\\\\\\elleft\",\"\\\\left\").replace(\"B_{prime}\",\"B'(z)\").replace(\"B_{bis}\",\"B''(z)\").replace(\"B_{three}\",\"B'''(z)\").replace(\"B\",\"B(z)\").replace(\"B(z)'\",\"B'\").replace(\"B(z)''\",\"B''\").replace(\"B(z)'''\",\"B'''\").replace(\"C_{prime}\",\"C'(z)\").replace(\"C_{bis}\",\"C''(z)\").replace(\"C\",\"C(z)\").replace(\"C(z)'\",\"C'\").replace(\"C(z)''\",\"C''\"))"
   ]
  },
  {
   "cell_type": "markdown",
   "metadata": {},
   "source": [
    "The fourth determining equation in the case when $l=0$:\n",
    "\\begin{equation}\n",
    "- 0.5 B(z) c_{0} + 0.5 B(z) c_{2} u^{2} + 1.0 B(z) c_{3} u^{3} + 0.5 B''(z) c u + 0.5 B''(z) u + 0.5 B'(z) c u - 2.5 B'(z) c_{0} - 2.0 B'(z) c_{1} u - 1.5 B'(z) c_{2} u^{2} - 1.0 B'(z) c_{3} u^{3} + 0.5 B'''(z) u + C(z) c_{1} + 2 C(z) c_{2} u + 3 C(z) c_{3} u^{2} + C''(z) + C'(z) c - K c_{0} + K c_{2} u^{2} + 2 K c_{3} u^{3}=0\\quad K\\in\\mathbb{R}.\n",
    "\\end{equation}\n",
    "Now, we will sort this equation, w.r.t. the monomials $\\{1,u,u^2,u^3\\}$. \n"
   ]
  },
  {
   "cell_type": "code",
   "execution_count": 10,
   "metadata": {},
   "outputs": [],
   "source": [
    "# Define three lists for the cases l = 0,1,2 \n",
    "det_eq_4_l_0_list = []\n",
    "# Save all smaller equations which this equation decomposes into\n",
    "for monomial in monomials:\n",
    "    if det_eq_4_l_0.coeff(monomial).subs(u,0)!=0:\n",
    "        det_eq_4_l_0_list.append((monomial,det_eq_4_l_0.subs(l,0).coeff(monomial).subs(u,0)))\n",
    "#---------------------------------------------------------------------------------\n",
    "# Determining equation 4, l=0\n",
    "#---------------------------------------------------------------------------------\n",
    "# Loop through equations and save\n",
    "str_temp = \"\\\\begin{align*}\\n\"\n",
    "for index,det_eq in enumerate(det_eq_4_l_0_list):\n",
    "    if index == len(det_eq_4_l_0_list)-1:\n",
    "        str_temp += latex(det_eq[0]) + \"&:\" + latex(det_eq[1]).replace(\"A\",\"A(z)\").replace(\"B\",\"B(z)\").replace(\"C\",\"C(z)\").replace(\"D\",\"D(z)\").replace(\"A(z)_{prime}\",\"A'(z)\").replace(\"A(z)_{bis}\",\"A''(z)\").replace(\"B(z)_{prime}\",\"B'(z)\").replace(\"B(z)_{bis}\",\"B''(z)\").replace(\"B(z)_{three}\",\"B'''(z)\").replace(\"C(z)_{prime}\",\"C'(z)\").replace(\"C(z)_{bis}\",\"C''(z)\").replace(\"D(z)_{prime}\",\"D'(z)\") + \"&=0.\\\\\\\\\\n\"\n",
    "    else:\n",
    "        str_temp += latex(det_eq[0]) + \"&:\" + latex(det_eq[1]).replace(\"A\",\"A(z)\").replace(\"B\",\"B(z)\").replace(\"C\",\"C(z)\").replace(\"D\",\"D(z)\").replace(\"A(z)_{prime}\",\"A'(z)\").replace(\"A(z)_{bis}\",\"A''(z)\").replace(\"B(z)_{prime}\",\"B'(z)\").replace(\"B(z)_{bis}\",\"B''(z)\").replace(\"B(z)_{three}\",\"B'''(z)\").replace(\"C(z)_{prime}\",\"C'(z)\").replace(\"C(z)_{bis}\",\"C''(z)\").replace(\"D(z)_{prime}\",\"D'(z)\") + \"&=0,\\\\\\\\\\n\"\n",
    "str_temp += \"\\\\end{align*}\\n\"\n",
    "# Lastly print to file\n",
    "with open(\"../notes_determining_equations/Input/det_eq_4_l_0.tex\", \"w\") as f_2:\n",
    "    f_2.write(\"%s\" % str_temp)          "
   ]
  },
  {
   "cell_type": "code",
   "execution_count": null,
   "metadata": {},
   "outputs": [],
   "source": []
  }
 ],
 "metadata": {
  "kernelspec": {
   "display_name": "Python 3",
   "language": "python",
   "name": "python3"
  },
  "language_info": {
   "codemirror_mode": {
    "name": "ipython",
    "version": 3
   },
   "file_extension": ".py",
   "mimetype": "text/x-python",
   "name": "python",
   "nbconvert_exporter": "python",
   "pygments_lexer": "ipython3",
   "version": "3.8.8"
  }
 },
 "nbformat": 4,
 "nbformat_minor": 4
}
