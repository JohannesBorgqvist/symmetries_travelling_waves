{
 "cells": [
  {
   "cell_type": "markdown",
   "metadata": {},
   "source": [
    "# Symmetries of the growth model with the Allee effect\n",
    "*Date:* 2023-04-12,<br>\n",
    "*Written by:* Johannes,<br>\n",
    "Consider a model of collective cell migration with an Allee effect:\n",
    "\\begin{equation}\n",
    "u_{zz}+cu_{z}+u(u-p)(1-u)=0\\,,\\quad p\\in(0,1/2).\n",
    "  \\label{eq:Allee}\n",
    "\\end{equation}\n",
    "Now, this equation has an analytical solution given by\n",
    "\\begin{equation}\n",
    "  u{(z)}=\\frac{1}{1+a\\exp(z/\\sqrt{2})}\\,,\\quad{c}=\\frac{1-2p}{\\sqrt{2}}\\,.\n",
    "  \\label{eq:solution_Allee}\n",
    "\\end{equation}\n",
    "where $a$ is determined by the initial condition. Let's see if we can validate this solution using SymPy.\n",
    "\n",
    "\n",
    "\n",
    "\n",
    "\n"
   ]
  },
  {
   "cell_type": "code",
   "execution_count": 1,
   "metadata": {},
   "outputs": [
    {
     "name": "stdout",
     "output_type": "stream",
     "text": [
      "0\n"
     ]
    }
   ],
   "source": [
    "# Import SymPy\n",
    "from sympy import *\n",
    "# Allocate our independent variable\n",
    "z = symbols('z')\n",
    "# Allocate our dependent variable\n",
    "u_ana = Function('u_ana')(z)\n",
    "# Allocate our parameters\n",
    "a, p = symbols('a p')\n",
    "# Define our analytical solution\n",
    "u_ana = 1/(1+a*exp(z/sqrt(2)))\n",
    "# Define our second order ODE\n",
    "Allee_ODE = Derivative(u_ana,z,2).doit()\n",
    "Allee_ODE += ((1-2*p)/(sqrt(2)))*Derivative(u_ana,z,1).doit()\n",
    "Allee_ODE += u_ana*(1-u_ana)*(u_ana-p)\n",
    "# Check if this really is our beloved solution then\n",
    "print(simplify(Allee_ODE))"
   ]
  },
  {
   "cell_type": "markdown",
   "metadata": {},
   "source": [
    "Now, our main task is to find the symmetries corresponding to the above analytical solution.\n",
    "\n",
    "Let's see if we can find the symmetries by solving the linearised symmetry condition:\n",
    "\\begin{equation}\n",
    "  \\eta^{(2)}+\\frac{1-2p}{\\sqrt{2}}\\eta^{(1)}+(-3u^{2}+2(p+1)u-p)\\eta=0\\quad\\textrm{whenever}\\quad u_{zz}+\\left(\\frac{1-2p}{\\sqrt{2}}\\right)u_{z}+u(u-p)(1-u)=0\n",
    "  \\label{eq:lin_sym}\n",
    "\\end{equation}\n",
    "where the prolonged infinitesimals are given by:\n",
    "\\begin{align}\n",
    "    \\eta^{(1)}(z,u,u_{z})=&\\eta_z+(\\eta_u-\\xi_z)u_{z}-\\xi_u\\left(u_{z}\\right)^2,\\label{eq:eta_1}\\\\\n",
    "    \\eta^{(2)}(z,u,u_{z},u_{zz})=&\\eta_{zz}+(2\\eta_{zu}-\\xi_{zz})u_{z}+\\left(\\eta_{uu}-2\\xi_{zu}\\right)\\left(u_{z}\\right)^2-\\xi_{uu}\\left(u_{z}\\right)^3\\nonumber\\\\\n",
    "    &+\\left\\{\\eta_u - 2\\xi_z -3\\xi_u u_{z}\\right\\}u_{zz}.\\label{eq:eta_2}    \n",
    "\\end{align}\n",
    "Inspired by Feng, let's see if we can find any symmetries of the type \n",
    "$$\\xi=c_{1}\\exp\\left(z/\\sqrt{2}\\right)$$\n",
    "and \n",
    "$$\\eta=\\exp\\left(z/\\sqrt{2}\\right)(c_{2}u+c_{3}).$$"
   ]
  },
  {
   "cell_type": "code",
   "execution_count": 2,
   "metadata": {},
   "outputs": [
    {
     "name": "stdout",
     "output_type": "stream",
     "text": [
      "\\begin{equation}\n",
      "6 p u^{2} u_{z} \\frac{\\partial}{\\partial u} \\xi{\\left(z,u \\right)} - 2 p u^{2} \\frac{\\partial}{\\partial u} \\eta{\\left(z,u \\right)} + 4 p u^{2} \\frac{\\partial}{\\partial z} \\xi{\\left(z,u \\right)} - 6 p u u_{z} \\frac{\\partial}{\\partial u} \\xi{\\left(z,u \\right)} + 4 p u \\eta{\\left(z,u \\right)} + 2 p u \\frac{\\partial}{\\partial u} \\eta{\\left(z,u \\right)} - 4 p u \\frac{\\partial}{\\partial z} \\xi{\\left(z,u \\right)} - 4 \\sqrt{2} p u_{z}^{2} \\frac{\\partial}{\\partial u} \\xi{\\left(z,u \\right)} - 2 \\sqrt{2} p u_{z} \\frac{\\partial}{\\partial z} \\xi{\\left(z,u \\right)} - 2 p \\eta{\\left(z,u \\right)} - 2 \\sqrt{2} p \\frac{\\partial}{\\partial z} \\eta{\\left(z,u \\right)} - 6 u^{3} u_{z} \\frac{\\partial}{\\partial u} \\xi{\\left(z,u \\right)} + 2 u^{3} \\frac{\\partial}{\\partial u} \\eta{\\left(z,u \\right)} - 4 u^{3} \\frac{\\partial}{\\partial z} \\xi{\\left(z,u \\right)} + 6 u^{2} u_{z} \\frac{\\partial}{\\partial u} \\xi{\\left(z,u \\right)} - 6 u^{2} \\eta{\\left(z,u \\right)} - 2 u^{2} \\frac{\\partial}{\\partial u} \\eta{\\left(z,u \\right)} + 4 u^{2} \\frac{\\partial}{\\partial z} \\xi{\\left(z,u \\right)} + 4 u \\eta{\\left(z,u \\right)} - 2 u_{z}^{3} \\frac{\\partial^{2}}{\\partial u^{2}} \\xi{\\left(z,u \\right)} + 2 u_{z}^{2} \\frac{\\partial^{2}}{\\partial u^{2}} \\eta{\\left(z,u \\right)} + 2 \\sqrt{2} u_{z}^{2} \\frac{\\partial}{\\partial u} \\xi{\\left(z,u \\right)} - 4 u_{z}^{2} \\frac{\\partial^{2}}{\\partial z\\partial u} \\xi{\\left(z,u \\right)} + \\sqrt{2} u_{z} \\frac{\\partial}{\\partial z} \\xi{\\left(z,u \\right)} - 2 u_{z} \\frac{\\partial^{2}}{\\partial z^{2}} \\xi{\\left(z,u \\right)} + 4 u_{z} \\frac{\\partial^{2}}{\\partial z\\partial u} \\eta{\\left(z,u \\right)} + \\sqrt{2} \\frac{\\partial}{\\partial z} \\eta{\\left(z,u \\right)} + 2 \\frac{\\partial^{2}}{\\partial z^{2}} \\eta{\\left(z,u \\right)} = 0\\,,\\label{eq:lin_sym_Allee}\n",
      "\\end{equation}\n",
      "\n"
     ]
    }
   ],
   "source": [
    "# Define our variables\n",
    "z, u = symbols('z u')\n",
    "# Define the first order derivative\n",
    "uz, uzz = symbols('uz uzz')\n",
    "# Define the Allee travelling wave ODE\n",
    "ubis = -(((1-2*p)/(sqrt(2)))*uz + u*(1-u)*(u-p))\n",
    "# Define the tangents\n",
    "xi = Function('xi')(z,u)\n",
    "eta = Function('eta')(z,u)\n",
    "# Calculate all derivatives uo to order two\n",
    "# First order derivatives\n",
    "xi_z = Derivative(xi,z,1).doit()\n",
    "xi_u = Derivative(xi,u,1).doit()\n",
    "eta_z = Derivative(eta,z,1).doit()\n",
    "eta_u = Derivative(eta,u,1).doit()\n",
    "# Second order derivatives\n",
    "xi_zu = Derivative(xi_z,u,1).doit()\n",
    "xi_zz = Derivative(xi_z,z,1).doit()\n",
    "xi_uu = Derivative(xi_u,u,1).doit()\n",
    "eta_zu = Derivative(eta_z,u,1).doit()\n",
    "eta_zz = Derivative(eta_z,z,1).doit()\n",
    "eta_uu = Derivative(eta_u,u,1).doit()\n",
    "# Define the prolonged infinitesimals\n",
    "eta_1 = eta_z + (eta_u-xi_z)*uz - xi_u*(uz**2)\n",
    "#eta_1 = Derivative(eta,z,1).doit() + (Derivative(eta,u,1).doit()-Derivative(xi,z,1).doit())*uz-Derivative(xi,u,1).doit()*(uz**2)\n",
    "# Define the second prolongation\n",
    "eta_2 = eta_zz + (2*eta_zu-xi_zz)*uz + (eta_uu - 2*xi_zu)*(uz**2) - xi_uu * (uz**3) + (eta_u - 2*xi_z - 3*xi_u*uz)*uzz\n",
    "#eta_2 = Derivative(eta,z,2).doit() + (2*Derivative(Derivative(eta,z,1).doit(),u).doit()-Derivative(xi,z,2).doit())*uz + (Derivative(eta,u,2).doit()-2*Derivative(Derivative(xi,z,1).doit(),u).doit())*(uz**2\n",
    "#)-Derivative(eta,u,2).doit()*(uz**3)+(Derivative(eta,u,1).doit()-2*Derivative(xi,z,1).doit()-3*Derivative(xi,u,1).doit()*uz)*uzz\n",
    "# Define the linearised symmetry condition\n",
    "lin_sym = eta_2 + ((1-2*p)/(sqrt(2)))*eta_1 + (-3*(u**2)+2*(p+1)*u-p)*eta\n",
    "# Update with the Allee model\n",
    "lin_sym = expand(simplify(2*lin_sym.subs(uzz,ubis)))\n",
    "# Define an equation for the linearised symmetry condition\n",
    "lin_sym_Eq = Eq(lin_sym,0)\n",
    "lin_sym_Eq_str = latex(lin_sym_Eq,mode='equation').replace(\"\\\\begin{equation}\",\"\\\\begin{equation}\\n\").replace(\"\\\\end{equation}\",\"\\,,\\label{eq:lin_sym_Allee}\\n\\\\end{equation}\\n\").replace(\"uz\",\"u_{z}\")\n",
    "print(lin_sym_Eq_str)\n",
    "#print(lin_sym)"
   ]
  },
  {
   "cell_type": "markdown",
   "metadata": {},
   "source": [
    "Our linearised symmetry condition is given by:\n",
    "\\begin{equation}\n",
    "6 p u^{2} u_{z} \\frac{\\partial}{\\partial u} \\xi{\\left(z,u \\right)} - 2 p u^{2} \\frac{\\partial}{\\partial u} \\eta{\\left(z,u \\right)} + 4 p u^{2} \\frac{\\partial}{\\partial z} \\xi{\\left(z,u \\right)} - 6 p u u_{z} \\frac{\\partial}{\\partial u} \\xi{\\left(z,u \\right)} + 4 p u \\eta{\\left(z,u \\right)} + 2 p u \\frac{\\partial}{\\partial u} \\eta{\\left(z,u \\right)} - 4 p u \\frac{\\partial}{\\partial z} \\xi{\\left(z,u \\right)} - 4 \\sqrt{2} p u_{z}^{2} \\frac{\\partial}{\\partial u} \\xi{\\left(z,u \\right)} - 2 \\sqrt{2} p u_{z} \\frac{\\partial}{\\partial z} \\xi{\\left(z,u \\right)} - 2 p \\eta{\\left(z,u \\right)} - 2 \\sqrt{2} p \\frac{\\partial}{\\partial z} \\eta{\\left(z,u \\right)} - 6 u^{3} u_{z} \\frac{\\partial}{\\partial u} \\xi{\\left(z,u \\right)} + 2 u^{3} \\frac{\\partial}{\\partial u} \\eta{\\left(z,u \\right)} - 4 u^{3} \\frac{\\partial}{\\partial z} \\xi{\\left(z,u \\right)} + 6 u^{2} u_{z} \\frac{\\partial}{\\partial u} \\xi{\\left(z,u \\right)} - 6 u^{2} \\eta{\\left(z,u \\right)} - 2 u^{2} \\frac{\\partial}{\\partial u} \\eta{\\left(z,u \\right)} + 4 u^{2} \\frac{\\partial}{\\partial z} \\xi{\\left(z,u \\right)} + 4 u \\eta{\\left(z,u \\right)} - 2 u_{z}^{3} \\frac{\\partial^{2}}{\\partial u^{2}} \\xi{\\left(z,u \\right)} + 2 u_{z}^{2} \\frac{\\partial^{2}}{\\partial u^{2}} \\eta{\\left(z,u \\right)} + 2 \\sqrt{2} u_{z}^{2} \\frac{\\partial}{\\partial u} \\xi{\\left(z,u \\right)} - 4 u_{z}^{2} \\frac{\\partial^{2}}{\\partial z\\partial u} \\xi{\\left(z,u \\right)} + \\sqrt{2} u_{z} \\frac{\\partial}{\\partial z} \\xi{\\left(z,u \\right)} - 2 u_{z} \\frac{\\partial^{2}}{\\partial z^{2}} \\xi{\\left(z,u \\right)} + 4 u_{z} \\frac{\\partial^{2}}{\\partial z\\partial u} \\eta{\\left(z,u \\right)} + \\sqrt{2} \\frac{\\partial}{\\partial z} \\eta{\\left(z,u \\right)} + 2 \\frac{\\partial^{2}}{\\partial z^{2}} \\eta{\\left(z,u \\right)} = 0\\,,\\label{eq:lin_sym_Allee}\n",
    "\\end{equation}\n",
    "which we can split up with respect to the monomials $\\{1,u_{z},u_{z}^{2},u_{z}^{3}\\}$. "
   ]
  },
  {
   "cell_type": "code",
   "execution_count": 3,
   "metadata": {},
   "outputs": [
    {
     "name": "stdout",
     "output_type": "stream",
     "text": [
      "The determining equations are:\n",
      "\\begin{align}\n",
      "u_{z}^{3}:&- 2 \\frac{\\partial^{2}}{\\partial u^{2}} \\xi{\\left(z,u \\right)}&=0\\,,\\label{eq:d_Allee_1}\\\\\n",
      "u_{z}^{2}:&- 4 \\sqrt{2} p \\frac{\\partial}{\\partial u} \\xi{\\left(z,u \\right)} + 2 \\frac{\\partial^{2}}{\\partial u^{2}} \\eta{\\left(z,u \\right)} + 2 \\sqrt{2} \\frac{\\partial}{\\partial u} \\xi{\\left(z,u \\right)} - 4 \\frac{\\partial^{2}}{\\partial z\\partial u} \\xi{\\left(z,u \\right)}&=0\\,,\\label{eq:d_Allee_2}\\\\\n",
      "u_{z}:&6 p u^{2} \\frac{\\partial}{\\partial u} \\xi{\\left(z,u \\right)} - 6 p u \\frac{\\partial}{\\partial u} \\xi{\\left(z,u \\right)} - 2 \\sqrt{2} p \\frac{\\partial}{\\partial z} \\xi{\\left(z,u \\right)} - 6 u^{3} \\frac{\\partial}{\\partial u} \\xi{\\left(z,u \\right)} + 6 u^{2} \\frac{\\partial}{\\partial u} \\xi{\\left(z,u \\right)} + \\sqrt{2} \\frac{\\partial}{\\partial z} \\xi{\\left(z,u \\right)} - 2 \\frac{\\partial^{2}}{\\partial z^{2}} \\xi{\\left(z,u \\right)} + 4 \\frac{\\partial^{2}}{\\partial z\\partial u} \\eta{\\left(z,u \\right)}&=0\\,,\\label{eq:d_Allee_3}\\\\\n",
      "1:&- 2 p u^{2} \\frac{\\partial}{\\partial u} \\eta{\\left(z,u \\right)} + 4 p u^{2} \\frac{\\partial}{\\partial z} \\xi{\\left(z,u \\right)} + 4 p u \\eta{\\left(z,u \\right)} + 2 p u \\frac{\\partial}{\\partial u} \\eta{\\left(z,u \\right)} - 4 p u \\frac{\\partial}{\\partial z} \\xi{\\left(z,u \\right)} - 2 p \\eta{\\left(z,u \\right)} - 2 \\sqrt{2} p \\frac{\\partial}{\\partial z} \\eta{\\left(z,u \\right)} + 2 u^{3} \\frac{\\partial}{\\partial u} \\eta{\\left(z,u \\right)} - 4 u^{3} \\frac{\\partial}{\\partial z} \\xi{\\left(z,u \\right)} - 6 u^{2} \\eta{\\left(z,u \\right)} - 2 u^{2} \\frac{\\partial}{\\partial u} \\eta{\\left(z,u \\right)} + 4 u^{2} \\frac{\\partial}{\\partial z} \\xi{\\left(z,u \\right)} + 4 u \\eta{\\left(z,u \\right)} + \\sqrt{2} \\frac{\\partial}{\\partial z} \\eta{\\left(z,u \\right)} + 2 \\frac{\\partial^{2}}{\\partial z^{2}} \\eta{\\left(z,u \\right)}&=0\\,.\\label{eq:d_Allee_4}\\\\\n",
      "\\end{align}\n"
     ]
    }
   ],
   "source": [
    "# Define our monomials\n",
    "monomials = [uz**4,uz**3,uz**2,uz,1]\n",
    "# Allocate memory for our determining equation\n",
    "det_eq = []\n",
    "# Loop over monomials and extract the determining equation\n",
    "for index,monomial in enumerate(monomials):\n",
    "    # Make a copy of the linearised symmetry condition\n",
    "    temp_eq = lin_sym\n",
    "    # Extract the determining equation depending on what monomial we work with\n",
    "    if monomial==1 and temp_eq.subs(uz,0)!=0:\n",
    "        det_eq.append((monomial,temp_eq.subs(uz,0)))\n",
    "    elif temp_eq.coeff(monomial).subs(uz,0)!=0:\n",
    "        det_eq.append((monomial,temp_eq.coeff(monomial).subs(uz,0)))\n",
    "# Ok, let's make a fancy LaTeX string which we can use to print the monomials\n",
    "det_eq_string = \"\\\\begin{align}\\n\"\n",
    "for index,eq_temp in enumerate(det_eq):\n",
    "    if index<len(det_eq)-1:\n",
    "        det_eq_string += latex(eq_temp[0]).replace(\"uz\",\"u_{z}\") + \":&\" + latex(eq_temp[1]) + \"&=0\\,,\\\\label{eq:d_Allee_\" + str(index+1)+ \"}\\\\\\\\\\n\"\n",
    "    else:\n",
    "        det_eq_string += latex(eq_temp[0]).replace(\"uz\",\"u_{z}\") + \":&\" + latex(eq_temp[1]) + \"&=0\\,.\\\\label{eq:d_Allee_\" + str(index+1)+ \"}\\\\\\\\\\n\"\n",
    "\n",
    "det_eq_string += \"\\\\end{align}\"            \n",
    "print(\"The determining equations are:\")\n",
    "print(det_eq_string)"
   ]
  },
  {
   "cell_type": "markdown",
   "metadata": {},
   "source": [
    "The determining equations are:\n",
    "\\begin{align}\n",
    "u_{z}^{3}:&- 2 \\frac{\\partial^{2}}{\\partial u^{2}} \\xi{\\left(z,u \\right)}&=0\\,,\\label{eq:d_Allee_1}\\\\\n",
    "u_{z}^{2}:&- 4 \\sqrt{2} p \\frac{\\partial}{\\partial u} \\xi{\\left(z,u \\right)} + 2 \\frac{\\partial^{2}}{\\partial u^{2}} \\eta{\\left(z,u \\right)} + 2 \\sqrt{2} \\frac{\\partial}{\\partial u} \\xi{\\left(z,u \\right)} - 4 \\frac{\\partial^{2}}{\\partial z\\partial u} \\xi{\\left(z,u \\right)}&=0\\,,\\label{eq:d_Allee_2}\\\\\n",
    "u_{z}:&6 p u^{2} \\frac{\\partial}{\\partial u} \\xi{\\left(z,u \\right)} - 6 p u \\frac{\\partial}{\\partial u} \\xi{\\left(z,u \\right)} - 2 \\sqrt{2} p \\frac{\\partial}{\\partial z} \\xi{\\left(z,u \\right)} - 6 u^{3} \\frac{\\partial}{\\partial u} \\xi{\\left(z,u \\right)} + 6 u^{2} \\frac{\\partial}{\\partial u} \\xi{\\left(z,u \\right)} + \\sqrt{2} \\frac{\\partial}{\\partial z} \\xi{\\left(z,u \\right)} - 2 \\frac{\\partial^{2}}{\\partial z^{2}} \\xi{\\left(z,u \\right)} + 4 \\frac{\\partial^{2}}{\\partial z\\partial u} \\eta{\\left(z,u \\right)}&=0\\,,\\label{eq:d_Allee_3}\\\\\n",
    "1:&- 2 p u^{2} \\frac{\\partial}{\\partial u} \\eta{\\left(z,u \\right)} + 4 p u^{2} \\frac{\\partial}{\\partial z} \\xi{\\left(z,u \\right)} + 4 p u \\eta{\\left(z,u \\right)} + 2 p u \\frac{\\partial}{\\partial u} \\eta{\\left(z,u \\right)} - 4 p u \\frac{\\partial}{\\partial z} \\xi{\\left(z,u \\right)} - 2 p \\eta{\\left(z,u \\right)} - 2 \\sqrt{2} p \\frac{\\partial}{\\partial z} \\eta{\\left(z,u \\right)} + 2 u^{3} \\frac{\\partial}{\\partial u} \\eta{\\left(z,u \\right)} - 4 u^{3} \\frac{\\partial}{\\partial z} \\xi{\\left(z,u \\right)} - 6 u^{2} \\eta{\\left(z,u \\right)} - 2 u^{2} \\frac{\\partial}{\\partial u} \\eta{\\left(z,u \\right)} + 4 u^{2} \\frac{\\partial}{\\partial z} \\xi{\\left(z,u \\right)} + 4 u \\eta{\\left(z,u \\right)} + \\sqrt{2} \\frac{\\partial}{\\partial z} \\eta{\\left(z,u \\right)} + 2 \\frac{\\partial^{2}}{\\partial z^{2}} \\eta{\\left(z,u \\right)}&=0\\,.\\label{eq:d_Allee_4}\\\\\n",
    "\\end{align}\n",
    "\n",
    "The first equation gives us that \n",
    "\\begin{equation}\n",
    "\\xi{(z,u)}=A(z)u+B(z)\\,,\n",
    "\\label{eq:eta}\n",
    "\\end{equation}\n",
    "and the second equation gives us that\n",
    "\\begin{equation}\n",
    "\\xi{(z,u)}=\\left(2A'(z)+\\sqrt{2}(2p-1)A(z)\\right)u^{2}+C{(z)}u+D{(z)}\\,.\n",
    "\\label{eq:xi}\n",
    "\\end{equation}"
   ]
  },
  {
   "cell_type": "code",
   "execution_count": 4,
   "metadata": {},
   "outputs": [],
   "source": [
    "# Define the arbitrary functions for the infinitesimals\n",
    "A = Function('A')(z)\n",
    "B = Function('B')(z)\n",
    "C = Function('C')(z)\n",
    "D = Function('D')(z)\n",
    "# Define some arbitrary constants instead?\n",
    "c1, c2, c3 = symbols('c1 c2 c3')\n",
    "# Define our tangents\n",
    "xi_sol = A*u+B\n",
    "eta_sol = (2*Derivative(A,z,1).doit()+sqrt(2)*(2*p-1)*A)*(u**2)+C*u+D\n",
    "# Define see if we can simplify things\n",
    "#xi_sol = (C+c1)*exp((((1-2*p)*z)/(sqrt(2))))\n",
    "#eta_sol = exp((((1-2*p)*z)/(sqrt(2))))*(c2*u+c3)"
   ]
  },
  {
   "cell_type": "markdown",
   "metadata": {},
   "source": [
    "Let's substitute these values into the third determining equation\n",
    "### Third determining equation"
   ]
  },
  {
   "cell_type": "code",
   "execution_count": 5,
   "metadata": {},
   "outputs": [
    {
     "name": "stdout",
     "output_type": "stream",
     "text": [
      "The third determining equation:\n",
      "\\begin{equation}\n",
      "6 p u^{2} A{\\left(z \\right)} - 6 p u A{\\left(z \\right)} + 14 \\sqrt{2} p u \\frac{d}{d z} A{\\left(z \\right)} - 2 \\sqrt{2} p \\frac{d}{d z} B{\\left(z \\right)} - 6 u^{3} A{\\left(z \\right)} + 6 u^{2} A{\\left(z \\right)} - 7 \\sqrt{2} u \\frac{d}{d z} A{\\left(z \\right)} + 14 u \\frac{d^{2}}{d z^{2}} A{\\left(z \\right)} + \\sqrt{2} \\frac{d}{d z} B{\\left(z \\right)} - 2 \\frac{d^{2}}{d z^{2}} B{\\left(z \\right)} + 4 \\frac{d}{d z} C{\\left(z \\right)} = 0\\,,\\label{eq:d3}\n",
      "\\end{equation}\n",
      "\n"
     ]
    }
   ],
   "source": [
    "# The third determining equation\n",
    "d_3 = det_eq[-2][1]\n",
    "# Substitute our tangents\n",
    "d_3 = simplify(d_3.subs(xi,xi_sol).subs(eta,eta_sol).doit())\n",
    "# Formulate it as an equation\n",
    "d3 = Eq(d_3,0)\n",
    "d3_str = latex(d3,mode='equation').replace(\"\\\\begin{equation}\",\"\\\\begin{equation}\\n\").replace(\"\\\\end{equation}\",\"\\,,\\label{eq:d3}\\n\\\\end{equation}\\n\")\n",
    "print(\"The third determining equation:\")\n",
    "print(d3_str)"
   ]
  },
  {
   "cell_type": "markdown",
   "metadata": {},
   "source": [
    "The third determining equation:\n",
    "\\begin{equation}\n",
    "6 p u^{2} A{\\left(z \\right)} - 6 p u A{\\left(z \\right)} + 14 \\sqrt{2} p u \\frac{d}{d z} A{\\left(z \\right)} - 2 \\sqrt{2} p \\frac{d}{d z} B{\\left(z \\right)} - 6 u^{3} A{\\left(z \\right)} + 6 u^{2} A{\\left(z \\right)} - 7 \\sqrt{2} u \\frac{d}{d z} A{\\left(z \\right)} + 14 u \\frac{d^{2}}{d z^{2}} A{\\left(z \\right)} + \\sqrt{2} \\frac{d}{d z} B{\\left(z \\right)} - 2 \\frac{d^{2}}{d z^{2}} B{\\left(z \\right)} + 4 \\frac{d}{d z} C{\\left(z \\right)} = 0\\,,\\label{eq:d3}\n",
    "\\end{equation}\n",
    "\n",
    "\n",
    "Let's split this equation up with respect to the monomials $\\{1,u,u^{2}\\}$.\n",
    "\n",
    "\n",
    "\n",
    "\n",
    "\n"
   ]
  },
  {
   "cell_type": "code",
   "execution_count": 6,
   "metadata": {},
   "outputs": [
    {
     "name": "stdout",
     "output_type": "stream",
     "text": [
      "The sub equations are:\n",
      "\\begin{align}\n",
      "- 2 \\sqrt{2} p \\frac{d}{d z} B{\\left(z \\right)} + \\sqrt{2} \\frac{d}{d z} B{\\left(z \\right)} - 2 \\frac{d^{2}}{d z^{2}} B{\\left(z \\right)} + 4 \\frac{d}{d z} C{\\left(z \\right)}&=0\\,,\\label{eq:sub_eq_1}\\\\\n",
      "- 6 p A{\\left(z \\right)} + 14 \\sqrt{2} p \\frac{d}{d z} A{\\left(z \\right)} - 7 \\sqrt{2} \\frac{d}{d z} A{\\left(z \\right)} + 14 \\frac{d^{2}}{d z^{2}} A{\\left(z \\right)}&=0\\,,\\label{eq:sub_eq_2}\\\\\n",
      "6 p A{\\left(z \\right)} + 6 A{\\left(z \\right)}&=0\\,.\\label{eq:sub_eq_3}\\\\\n",
      "\\end{align}\n"
     ]
    }
   ],
   "source": [
    "# Define our monomials\n",
    "monomials_u = [1, u, u**2]\n",
    "# Allocate memory for our sub equations\n",
    "sub_eq = []\n",
    "# Append the third determining equation \n",
    "#sub_eq.append(d3.lhs)\n",
    "# Loop over monomials and extract the determining equation\n",
    "for index,monomial in enumerate(monomials_u):\n",
    "    # Make a copy of the linearised symmetry condition\n",
    "    temp_eq = d3.lhs\n",
    "    # Extract the sub equation depending on what monomial we work with\n",
    "    if monomial==1 and temp_eq.subs(u,0)!=0:\n",
    "        sub_eq.append(temp_eq.subs(u,0))\n",
    "    elif temp_eq.coeff(monomial).subs(u,0)!=0:\n",
    "        sub_eq.append(temp_eq.coeff(monomial).subs(u,0))        \n",
    "# Ok, let's make a fancy LaTeX string which we can use to print the monomials\n",
    "sub_eq_string = \"\\\\begin{align}\\n\"\n",
    "for index, eq_temp in enumerate(sub_eq):\n",
    "    if index<len(sub_eq)-1:\n",
    "        sub_eq_string += latex(eq_temp) + \"&=0\\,,\\\\label{eq:sub_eq_\" + str(index+1)+ \"}\\\\\\\\\\n\"\n",
    "    else:\n",
    "        sub_eq_string += latex(eq_temp) + \"&=0\\,.\\\\label{eq:sub_eq_\" + str(index+1)+ \"}\\\\\\\\\\n\"\n",
    "\n",
    "sub_eq_string += \"\\\\end{align}\"            \n",
    "print(\"The sub equations are:\")\n",
    "print(sub_eq_string)"
   ]
  },
  {
   "cell_type": "markdown",
   "metadata": {},
   "source": [
    "The sub equations are:\n",
    "\\begin{align}\n",
    "- 2 \\sqrt{2} p \\frac{d}{d z} B{\\left(z \\right)} + \\sqrt{2} \\frac{d}{d z} B{\\left(z \\right)} - 2 \\frac{d^{2}}{d z^{2}} B{\\left(z \\right)} + 4 \\frac{d}{d z} C{\\left(z \\right)}&=0\\,,\\label{eq:sub_eq_1}\\\\\n",
    "- 6 p A{\\left(z \\right)} + 14 \\sqrt{2} p \\frac{d}{d z} A{\\left(z \\right)} - 7 \\sqrt{2} \\frac{d}{d z} A{\\left(z \\right)} + 14 \\frac{d^{2}}{d z^{2}} A{\\left(z \\right)}&=0\\,,\\label{eq:sub_eq_2}\\\\\n",
    "6 p A{\\left(z \\right)} + 6 A{\\left(z \\right)}&=0\\,.\\label{eq:sub_eq_3}\\\\\n",
    "\\end{align}\n",
    " which means that $A=0$. Let's see what our infinitesimals look like after this equation as well as our subequations.\n"
   ]
  },
  {
   "cell_type": "code",
   "execution_count": 7,
   "metadata": {},
   "outputs": [
    {
     "name": "stdout",
     "output_type": "stream",
     "text": [
      "The sub equations are:\n",
      "\\begin{align}\n",
      "- 2 \\sqrt{2} p \\frac{d}{d z} B{\\left(z \\right)} + \\sqrt{2} \\frac{d}{d z} B{\\left(z \\right)} - 2 \\frac{d^{2}}{d z^{2}} B{\\left(z \\right)} + 4 \\frac{d}{d z} C{\\left(z \\right)}&=0\\,,\\label{eq:sub_eq_1}\\\\\n",
      "\\end{align}\n",
      "The $\\xi$ tangent:\n",
      "\\begin{equation}\n",
      "\\xi{(z,y)}=B{\\left(z \\right)}\\,,\\label{eq:xi_candidate}\n",
      "\\end{equation}\n",
      "The $\\eta$ tangent:\n",
      "\\begin{equation}\n",
      "\\eta{(z,y)}=u C{\\left(z \\right)} + D{\\left(z \\right)}\\,.\\label{eq:eta_candidate}\n",
      "\\end{equation}\n"
     ]
    }
   ],
   "source": [
    "# Reduce the system by substituting our dear value for c1 everywhere\n",
    "sub_eq_reduced = [expand(simplify(eq_temp.subs(A,0).doit())) for eq_temp in sub_eq]\n",
    "sub_eq_reduced = [i for i in sub_eq_reduced if i!=0]\n",
    "# Ok, let's make a fancy LaTeX string which we can use to print the monomials\n",
    "sub_eq_string = \"\\\\begin{align}\\n\"\n",
    "for index, eq_temp in enumerate(sub_eq_reduced):\n",
    "    if index<len(sub_eq)-1:\n",
    "        sub_eq_string += latex(eq_temp) + \"&=0\\,,\\\\label{eq:sub_eq_\" + str(index+1)+ \"}\\\\\\\\\\n\"\n",
    "    else:\n",
    "        sub_eq_string += latex(eq_temp) + \"&=0\\,.\\\\label{eq:sub_eq_\" + str(index+1)+ \"}\\\\\\\\\\n\"\n",
    "\n",
    "sub_eq_string += \"\\\\end{align}\"            \n",
    "print(\"The sub equations are:\")\n",
    "print(sub_eq_string)\n",
    "# Substitute this into our infinitesimals as well\n",
    "xi_sol = xi_sol.subs(A,0).doit()\n",
    "eta_sol = eta_sol.subs(A,0).doit()\n",
    "# Print them in a nice Latexy way\n",
    "print(\"The $\\\\xi$ tangent:\")\n",
    "print(\"\\\\begin{equation}\\n\\\\xi{(z,y)}=%s\\,,\\\\label{eq:xi_candidate}\\n\\\\end{equation}\"%(latex(xi_sol)))\n",
    "print(\"The $\\\\eta$ tangent:\")\n",
    "print(\"\\\\begin{equation}\\n\\\\eta{(z,y)}=%s\\,.\\\\label{eq:eta_candidate}\\n\\\\end{equation}\"%(latex(eta_sol)))"
   ]
  },
  {
   "cell_type": "markdown",
   "metadata": {},
   "source": [
    "After the substitution $A=0$, we have that:<br>\n",
    "The sub equations are:\n",
    "\\begin{align}\n",
    "- 2 \\sqrt{2} p \\frac{d}{d z} B{\\left(z \\right)} + \\sqrt{2} \\frac{d}{d z} B{\\left(z \\right)} - 2 \\frac{d^{2}}{d z^{2}} B{\\left(z \\right)} + 4 \\frac{d}{d z} C{\\left(z \\right)}&=0\\,,\\label{eq:sub_eq_1}\\\\\n",
    "\\end{align}\n",
    "The $\\xi$ tangent:\n",
    "\\begin{equation}\n",
    "\\xi{(z,y)}=B{\\left(z \\right)}\\,,\\label{eq:xi_candidate}\n",
    "\\end{equation}\n",
    "The $\\eta$ tangent:\n",
    "\\begin{equation}\n",
    "\\eta{(z,y)}=u C{\\left(z \\right)} + D{\\left(z \\right)}\\,.\\label{eq:eta_candidate}\n",
    "\\end{equation}\n",
    "Let's move on to the fourth determining equation.\n",
    "## Fourth determining equation"
   ]
  },
  {
   "cell_type": "code",
   "execution_count": 8,
   "metadata": {},
   "outputs": [
    {
     "name": "stdout",
     "output_type": "stream",
     "text": [
      "The fourth determining equation:\n",
      "\\begin{equation}\n",
      "2 p u^{2} C{\\left(z \\right)} + 4 p u^{2} \\frac{d}{d z} B{\\left(z \\right)} + 4 p u D{\\left(z \\right)} - 4 p u \\frac{d}{d z} B{\\left(z \\right)} - 2 \\sqrt{2} p u \\frac{d}{d z} C{\\left(z \\right)} - 2 p D{\\left(z \\right)} - 2 \\sqrt{2} p \\frac{d}{d z} D{\\left(z \\right)} - 4 u^{3} C{\\left(z \\right)} - 4 u^{3} \\frac{d}{d z} B{\\left(z \\right)} + 2 u^{2} C{\\left(z \\right)} - 6 u^{2} D{\\left(z \\right)} + 4 u^{2} \\frac{d}{d z} B{\\left(z \\right)} + 4 u D{\\left(z \\right)} + \\sqrt{2} u \\frac{d}{d z} C{\\left(z \\right)} + 2 u \\frac{d^{2}}{d z^{2}} C{\\left(z \\right)} + \\sqrt{2} \\frac{d}{d z} D{\\left(z \\right)} + 2 \\frac{d^{2}}{d z^{2}} D{\\left(z \\right)} = 0\\,,\\label{eq:d4}\n",
      "\\end{equation}\n",
      "\n"
     ]
    }
   ],
   "source": [
    "# The third determining equation\n",
    "d_4 = det_eq[-1][1]\n",
    "# Substitute our tangents\n",
    "d_4 = simplify(d_4.subs(xi,xi_sol).subs(eta,eta_sol).doit())\n",
    "# Formulate it as an equation\n",
    "d4 = Eq(d_4,0)\n",
    "d4_str = latex(d4,mode='equation').replace(\"\\\\begin{equation}\",\"\\\\begin{equation}\\n\").replace(\"\\\\end{equation}\",\"\\,,\\label{eq:d4}\\n\\\\end{equation}\\n\")\n",
    "print(\"The fourth determining equation:\")\n",
    "print(d4_str)"
   ]
  },
  {
   "cell_type": "markdown",
   "metadata": {},
   "source": [
    "The fourth determining equation:\n",
    "\\begin{equation}\n",
    "2 p u^{2} C{\\left(z \\right)} + 4 p u^{2} \\frac{d}{d z} B{\\left(z \\right)} + 4 p u D{\\left(z \\right)} - 4 p u \\frac{d}{d z} B{\\left(z \\right)} - 2 \\sqrt{2} p u \\frac{d}{d z} C{\\left(z \\right)} - 2 p D{\\left(z \\right)} - 2 \\sqrt{2} p \\frac{d}{d z} D{\\left(z \\right)} - 4 u^{3} C{\\left(z \\right)} - 4 u^{3} \\frac{d}{d z} B{\\left(z \\right)} + 2 u^{2} C{\\left(z \\right)} - 6 u^{2} D{\\left(z \\right)} + 4 u^{2} \\frac{d}{d z} B{\\left(z \\right)} + 4 u D{\\left(z \\right)} + \\sqrt{2} u \\frac{d}{d z} C{\\left(z \\right)} + 2 u \\frac{d^{2}}{d z^{2}} C{\\left(z \\right)} + \\sqrt{2} \\frac{d}{d z} D{\\left(z \\right)} + 2 \\frac{d^{2}}{d z^{2}} D{\\left(z \\right)} = 0\\,,\\label{eq:d4}\n",
    "\\end{equation}\n",
    "Let's divide this with respect to the monomials $\\{1,u,u^{2}\\}$.\n"
   ]
  },
  {
   "cell_type": "code",
   "execution_count": 9,
   "metadata": {},
   "outputs": [
    {
     "name": "stdout",
     "output_type": "stream",
     "text": [
      "The sub equations are:\n",
      "\\begin{align}\n",
      "- 2 \\sqrt{2} p \\frac{d}{d z} B{\\left(z \\right)} + \\sqrt{2} \\frac{d}{d z} B{\\left(z \\right)} - 2 \\frac{d^{2}}{d z^{2}} B{\\left(z \\right)} + 4 \\frac{d}{d z} C{\\left(z \\right)}&=0\\,,\\label{eq:sub_eq_1}\\\\\n",
      "- 2 p D{\\left(z \\right)} - 2 \\sqrt{2} p \\frac{d}{d z} D{\\left(z \\right)} + \\sqrt{2} \\frac{d}{d z} D{\\left(z \\right)} + 2 \\frac{d^{2}}{d z^{2}} D{\\left(z \\right)}&=0\\,,\\label{eq:sub_eq_2}\\\\\n",
      "4 p D{\\left(z \\right)} - 4 p \\frac{d}{d z} B{\\left(z \\right)} - 2 \\sqrt{2} p \\frac{d}{d z} C{\\left(z \\right)} + 4 D{\\left(z \\right)} + \\sqrt{2} \\frac{d}{d z} C{\\left(z \\right)} + 2 \\frac{d^{2}}{d z^{2}} C{\\left(z \\right)}&=0\\,,\\label{eq:sub_eq_3}\\\\\n",
      "2 p C{\\left(z \\right)} + 4 p \\frac{d}{d z} B{\\left(z \\right)} + 2 C{\\left(z \\right)} - 6 D{\\left(z \\right)} + 4 \\frac{d}{d z} B{\\left(z \\right)}&=0\\,.\\label{eq:sub_eq_4}\\\\\n",
      "\\end{align}\n"
     ]
    }
   ],
   "source": [
    "# Define our monomials\n",
    "monomials_u = [1, u, u**2]\n",
    "# Append the third determining equation \n",
    "#sub_eq.append(d3.lhs)\n",
    "# Loop over monomials and extract the determining equation\n",
    "for index,monomial in enumerate(monomials_u):\n",
    "    # Make a copy of the linearised symmetry condition\n",
    "    temp_eq = d4.lhs\n",
    "    # Extract the sub equation depending on what monomial we work with\n",
    "    if monomial==1 and temp_eq.subs(u,0)!=0:\n",
    "        sub_eq_reduced.append(temp_eq.subs(u,0))\n",
    "    elif temp_eq.coeff(monomial).subs(u,0)!=0:\n",
    "        sub_eq_reduced.append(temp_eq.coeff(monomial).subs(u,0))        \n",
    "# Ok, let's make a fancy LaTeX string which we can use to print the monomials\n",
    "sub_eq_string = \"\\\\begin{align}\\n\"\n",
    "for index, eq_temp in enumerate(sub_eq_reduced):\n",
    "    if index<len(sub_eq_reduced)-1:\n",
    "        sub_eq_string += latex(eq_temp) + \"&=0\\,,\\\\label{eq:sub_eq_\" + str(index+1)+ \"}\\\\\\\\\\n\"\n",
    "    else:\n",
    "        sub_eq_string += latex(eq_temp) + \"&=0\\,.\\\\label{eq:sub_eq_\" + str(index+1)+ \"}\\\\\\\\\\n\"\n",
    "\n",
    "sub_eq_string += \"\\\\end{align}\"            \n",
    "print(\"The sub equations are:\")\n",
    "print(sub_eq_string)"
   ]
  },
  {
   "cell_type": "markdown",
   "metadata": {},
   "source": [
    "The sub equations are:\n",
    "\\begin{align}\n",
    "- 2 \\sqrt{2} p \\frac{d}{d z} B{\\left(z \\right)} + \\sqrt{2} \\frac{d}{d z} B{\\left(z \\right)} - 2 \\frac{d^{2}}{d z^{2}} B{\\left(z \\right)} + 4 \\frac{d}{d z} C{\\left(z \\right)}&=0\\,,\\label{eq:sub_eq_1}\\\\\n",
    "- 2 p D{\\left(z \\right)} - 2 \\sqrt{2} p \\frac{d}{d z} D{\\left(z \\right)} + \\sqrt{2} \\frac{d}{d z} D{\\left(z \\right)} + 2 \\frac{d^{2}}{d z^{2}} D{\\left(z \\right)}&=0\\,,\\label{eq:sub_eq_2}\\\\\n",
    "4 p D{\\left(z \\right)} - 4 p \\frac{d}{d z} B{\\left(z \\right)} - 2 \\sqrt{2} p \\frac{d}{d z} C{\\left(z \\right)} + 4 D{\\left(z \\right)} + \\sqrt{2} \\frac{d}{d z} C{\\left(z \\right)} + 2 \\frac{d^{2}}{d z^{2}} C{\\left(z \\right)}&=0\\,,\\label{eq:sub_eq_3}\\\\\n",
    "2 p C{\\left(z \\right)} + 4 p \\frac{d}{d z} B{\\left(z \\right)} + 2 C{\\left(z \\right)} - 6 D{\\left(z \\right)} + 4 \\frac{d}{d z} B{\\left(z \\right)}&=0\\,.\\label{eq:sub_eq_4}\\\\\n",
    "\\end{align}\n",
    "\n",
    "Let's see if we can solve these equations. Let's solve the second one for $D$.\n"
   ]
  },
  {
   "cell_type": "code",
   "execution_count": 10,
   "metadata": {},
   "outputs": [],
   "source": [
    "D_sol = dsolve(sub_eq_reduced[1],D)"
   ]
  },
  {
   "cell_type": "markdown",
   "metadata": {},
   "source": [
    "Let's substitute this into all equations and then reduce the system. \n"
   ]
  },
  {
   "cell_type": "code",
   "execution_count": 11,
   "metadata": {},
   "outputs": [
    {
     "name": "stdout",
     "output_type": "stream",
     "text": [
      "The sub equations are:\n",
      "\\begin{align}\n",
      "- 2 \\sqrt{2} p \\frac{d}{d z} B{\\left(z \\right)} + \\sqrt{2} \\frac{d}{d z} B{\\left(z \\right)} - 2 \\frac{d^{2}}{d z^{2}} B{\\left(z \\right)} + 4 \\frac{d}{d z} C{\\left(z \\right)}&=0\\,,\\label{eq:sub_eq_1}\\\\\n",
      "4 C_{1} p e^{- \\frac{\\sqrt{2} z}{4}} e^{\\frac{\\sqrt{2} p z}{2}} e^{- \\frac{\\sqrt{2} z \\sqrt{4 p^{2} + 4 p + 1}}{4}} + 4 C_{1} e^{- \\frac{\\sqrt{2} z}{4}} e^{\\frac{\\sqrt{2} p z}{2}} e^{- \\frac{\\sqrt{2} z \\sqrt{4 p^{2} + 4 p + 1}}{4}} + 4 C_{2} p e^{- \\frac{\\sqrt{2} z}{4}} e^{\\frac{\\sqrt{2} p z}{2}} e^{\\frac{\\sqrt{2} z \\sqrt{4 p^{2} + 4 p + 1}}{4}} + 4 C_{2} e^{- \\frac{\\sqrt{2} z}{4}} e^{\\frac{\\sqrt{2} p z}{2}} e^{\\frac{\\sqrt{2} z \\sqrt{4 p^{2} + 4 p + 1}}{4}} - 4 p \\frac{d}{d z} B{\\left(z \\right)} - 2 \\sqrt{2} p \\frac{d}{d z} C{\\left(z \\right)} + \\sqrt{2} \\frac{d}{d z} C{\\left(z \\right)} + 2 \\frac{d^{2}}{d z^{2}} C{\\left(z \\right)}&=0\\,,\\label{eq:sub_eq_2}\\\\\n",
      "- 6 C_{1} e^{- \\frac{\\sqrt{2} z}{4}} e^{\\frac{\\sqrt{2} p z}{2}} e^{- \\frac{\\sqrt{2} z \\sqrt{4 p^{2} + 4 p + 1}}{4}} - 6 C_{2} e^{- \\frac{\\sqrt{2} z}{4}} e^{\\frac{\\sqrt{2} p z}{2}} e^{\\frac{\\sqrt{2} z \\sqrt{4 p^{2} + 4 p + 1}}{4}} + 2 p C{\\left(z \\right)} + 4 p \\frac{d}{d z} B{\\left(z \\right)} + 2 C{\\left(z \\right)} + 4 \\frac{d}{d z} B{\\left(z \\right)}&=0\\,.\\label{eq:sub_eq_3}\\\\\n",
      "\\end{align}\n",
      "The $\\xi$ tangent:\n",
      "\\begin{equation}\n",
      "\\xi{(z,y)}=B{\\left(z \\right)}\\,,\\label{eq:xi_candidate}\n",
      "\\end{equation}\n",
      "The $\\eta$ tangent:\n",
      "\\begin{equation}\n",
      "\\eta{(z,y)}=u C{\\left(z \\right)} + D{\\left(z \\right)}\\,.\\label{eq:eta_candidate}\n",
      "\\end{equation}\n"
     ]
    }
   ],
   "source": [
    "# Reduce the system by substituting our dear value for c1 everywhere\n",
    "sub_eq_reduced = [expand(simplify(eq_temp.subs(D_sol.lhs,D_sol.rhs).doit())) for eq_temp in sub_eq_reduced]\n",
    "sub_eq_reduced = [i for i in sub_eq_reduced if i!=0]\n",
    "# Ok, let's make a fancy LaTeX string which we can use to print the monomials\n",
    "sub_eq_string = \"\\\\begin{align}\\n\"\n",
    "for index, eq_temp in enumerate(sub_eq_reduced):\n",
    "    if index<len(sub_eq)-1:\n",
    "        sub_eq_string += latex(eq_temp) + \"&=0\\,,\\\\label{eq:sub_eq_\" + str(index+1)+ \"}\\\\\\\\\\n\"\n",
    "    else:\n",
    "        sub_eq_string += latex(eq_temp) + \"&=0\\,.\\\\label{eq:sub_eq_\" + str(index+1)+ \"}\\\\\\\\\\n\"\n",
    "sub_eq_string += \"\\\\end{align}\"            \n",
    "print(\"The sub equations are:\")\n",
    "print(sub_eq_string)\n",
    "# Substitute this into our infinitesimals as well\n",
    "xi_sol = xi_sol.subs(A,0).doit()\n",
    "eta_sol = eta_sol.subs(A,0).doit()\n",
    "# Print them in a nice Latexy way\n",
    "print(\"The $\\\\xi$ tangent:\")\n",
    "print(\"\\\\begin{equation}\\n\\\\xi{(z,y)}=%s\\,,\\\\label{eq:xi_candidate}\\n\\\\end{equation}\"%(latex(xi_sol)))\n",
    "print(\"The $\\\\eta$ tangent:\")\n",
    "print(\"\\\\begin{equation}\\n\\\\eta{(z,y)}=%s\\,.\\\\label{eq:eta_candidate}\\n\\\\end{equation}\"%(latex(eta_sol)))"
   ]
  },
  {
   "cell_type": "markdown",
   "metadata": {},
   "source": [
    "The sub equations are:\n",
    "\\begin{align}\n",
    "- 2 \\sqrt{2} p \\frac{d}{d z} B{\\left(z \\right)} + \\sqrt{2} \\frac{d}{d z} B{\\left(z \\right)} - 2 \\frac{d^{2}}{d z^{2}} B{\\left(z \\right)} + 4 \\frac{d}{d z} C{\\left(z \\right)}&=0\\,,\\label{eq:sub_eq_1}\\\\\n",
    "4 C_{1} p e^{- \\frac{\\sqrt{2} z}{4}} e^{\\frac{\\sqrt{2} p z}{2}} e^{- \\frac{\\sqrt{2} z \\sqrt{4 p^{2} + 4 p + 1}}{4}} + 4 C_{1} e^{- \\frac{\\sqrt{2} z}{4}} e^{\\frac{\\sqrt{2} p z}{2}} e^{- \\frac{\\sqrt{2} z \\sqrt{4 p^{2} + 4 p + 1}}{4}} + 4 C_{2} p e^{- \\frac{\\sqrt{2} z}{4}} e^{\\frac{\\sqrt{2} p z}{2}} e^{\\frac{\\sqrt{2} z \\sqrt{4 p^{2} + 4 p + 1}}{4}} + 4 C_{2} e^{- \\frac{\\sqrt{2} z}{4}} e^{\\frac{\\sqrt{2} p z}{2}} e^{\\frac{\\sqrt{2} z \\sqrt{4 p^{2} + 4 p + 1}}{4}} - 4 p \\frac{d}{d z} B{\\left(z \\right)} - 2 \\sqrt{2} p \\frac{d}{d z} C{\\left(z \\right)} + \\sqrt{2} \\frac{d}{d z} C{\\left(z \\right)} + 2 \\frac{d^{2}}{d z^{2}} C{\\left(z \\right)}&=0\\,,\\label{eq:sub_eq_2}\\\\\n",
    "- 6 C_{1} e^{- \\frac{\\sqrt{2} z}{4}} e^{\\frac{\\sqrt{2} p z}{2}} e^{- \\frac{\\sqrt{2} z \\sqrt{4 p^{2} + 4 p + 1}}{4}} - 6 C_{2} e^{- \\frac{\\sqrt{2} z}{4}} e^{\\frac{\\sqrt{2} p z}{2}} e^{\\frac{\\sqrt{2} z \\sqrt{4 p^{2} + 4 p + 1}}{4}} + 2 p C{\\left(z \\right)} + 4 p \\frac{d}{d z} B{\\left(z \\right)} + 2 C{\\left(z \\right)} + 4 \\frac{d}{d z} B{\\left(z \\right)}&=0\\,.\\label{eq:sub_eq_3}\\\\\n",
    "\\end{align}\n",
    "The $\\xi$ tangent:\n",
    "\\begin{equation}\n",
    "\\xi{(z,y)}=B{\\left(z \\right)}\\,,\\label{eq:xi_candidate}\n",
    "\\end{equation}\n",
    "The $\\eta$ tangent:\n",
    "\\begin{equation}\n",
    "\\eta{(z,y)}=u C{\\left(z \\right)} + D{\\left(z \\right)}\\,.\\label{eq:eta_candidate}\n",
    "\\end{equation}\n",
    "Let's see if we can solve this without $D$, i.e. just substitute $C_{1}=C_{2}=0$. "
   ]
  },
  {
   "cell_type": "code",
   "execution_count": 12,
   "metadata": {},
   "outputs": [
    {
     "name": "stdout",
     "output_type": "stream",
     "text": [
      "The sub equations are:\n",
      "\\begin{align}\n",
      "- 2 \\sqrt{2} p \\frac{d}{d z} B{\\left(z \\right)} + \\sqrt{2} \\frac{d}{d z} B{\\left(z \\right)} - 2 \\frac{d^{2}}{d z^{2}} B{\\left(z \\right)} + 4 \\frac{d}{d z} C{\\left(z \\right)}&=0\\,,\\label{eq:sub_eq_1}\\\\\n",
      "- 4 p \\frac{d}{d z} B{\\left(z \\right)} - 2 \\sqrt{2} p \\frac{d}{d z} C{\\left(z \\right)} + \\sqrt{2} \\frac{d}{d z} C{\\left(z \\right)} + 2 \\frac{d^{2}}{d z^{2}} C{\\left(z \\right)}&=0\\,,\\label{eq:sub_eq_2}\\\\\n",
      "2 p C{\\left(z \\right)} + 4 p \\frac{d}{d z} B{\\left(z \\right)} + 2 C{\\left(z \\right)} + 4 \\frac{d}{d z} B{\\left(z \\right)}&=0\\,.\\label{eq:sub_eq_3}\\\\\n",
      "\\end{align}\n",
      "The $\\xi$ tangent:\n",
      "\\begin{equation}\n",
      "\\xi{(z,y)}=B{\\left(z \\right)}\\,,\\label{eq:xi_candidate}\n",
      "\\end{equation}\n",
      "The $\\eta$ tangent:\n",
      "\\begin{equation}\n",
      "\\eta{(z,y)}=u C{\\left(z \\right)} + D{\\left(z \\right)}\\,.\\label{eq:eta_candidate}\n",
      "\\end{equation}\n"
     ]
    }
   ],
   "source": [
    "# Allocate the two arbitrary coefficients\n",
    "C1 = symbols('C1')\n",
    "C2 = symbols('C2')\n",
    "# Reduce the system by substituting our dear value for c1 everywhere\n",
    "sub_eq_reduced = [expand(simplify(eq_temp.subs(C1,0).subs(C2,0).doit())) for eq_temp in sub_eq_reduced]\n",
    "sub_eq_reduced = [i for i in sub_eq_reduced if i!=0]\n",
    "# Ok, let's make a fancy LaTeX string which we can use to print the monomials\n",
    "sub_eq_string = \"\\\\begin{align}\\n\"\n",
    "for index, eq_temp in enumerate(sub_eq_reduced):\n",
    "    if index<len(sub_eq)-1:\n",
    "        sub_eq_string += latex(eq_temp) + \"&=0\\,,\\\\label{eq:sub_eq_\" + str(index+1)+ \"}\\\\\\\\\\n\"\n",
    "    else:\n",
    "        sub_eq_string += latex(eq_temp) + \"&=0\\,.\\\\label{eq:sub_eq_\" + str(index+1)+ \"}\\\\\\\\\\n\"\n",
    "\n",
    "sub_eq_string += \"\\\\end{align}\"            \n",
    "print(\"The sub equations are:\")\n",
    "print(sub_eq_string)\n",
    "# Substitute this into our infinitesimals as well\n",
    "xi_sol = xi_sol.subs(A,0).doit()\n",
    "eta_sol = eta_sol.subs(A,0).doit()\n",
    "# Print them in a nice Latexy way\n",
    "print(\"The $\\\\xi$ tangent:\")\n",
    "print(\"\\\\begin{equation}\\n\\\\xi{(z,y)}=%s\\,,\\\\label{eq:xi_candidate}\\n\\\\end{equation}\"%(latex(xi_sol)))\n",
    "print(\"The $\\\\eta$ tangent:\")\n",
    "print(\"\\\\begin{equation}\\n\\\\eta{(z,y)}=%s\\,.\\\\label{eq:eta_candidate}\\n\\\\end{equation}\"%(latex(eta_sol)))"
   ]
  },
  {
   "cell_type": "markdown",
   "metadata": {},
   "source": [
    "The sub equations are:\n",
    "\\begin{align}\n",
    "- 2 \\sqrt{2} p \\frac{d}{d z} B{\\left(z \\right)} + \\sqrt{2} \\frac{d}{d z} B{\\left(z \\right)} - 2 \\frac{d^{2}}{d z^{2}} B{\\left(z \\right)} + 4 \\frac{d}{d z} C{\\left(z \\right)}&=0\\,,\\label{eq:sub_eq_1}\\\\\n",
    "- 4 p \\frac{d}{d z} B{\\left(z \\right)} - 2 \\sqrt{2} p \\frac{d}{d z} C{\\left(z \\right)} + \\sqrt{2} \\frac{d}{d z} C{\\left(z \\right)} + 2 \\frac{d^{2}}{d z^{2}} C{\\left(z \\right)}&=0\\,,\\label{eq:sub_eq_2}\\\\\n",
    "2 p C{\\left(z \\right)} + 4 p \\frac{d}{d z} B{\\left(z \\right)} + 2 C{\\left(z \\right)} + 4 \\frac{d}{d z} B{\\left(z \\right)}&=0\\,.\\label{eq:sub_eq_3}\\\\\n",
    "\\end{align}\n",
    "The $\\xi$ tangent:\n",
    "\\begin{equation}\n",
    "\\xi{(z,y)}=B{\\left(z \\right)}\\,,\\label{eq:xi_candidate}\n",
    "\\end{equation}\n",
    "The $\\eta$ tangent:\n",
    "\\begin{equation}\n",
    "\\eta{(z,y)}=u C{\\left(z \\right)} + D{\\left(z \\right)}\\,.\\label{eq:eta_candidate}\n",
    "\\end{equation}\n",
    "\n"
   ]
  },
  {
   "cell_type": "code",
   "execution_count": 13,
   "metadata": {},
   "outputs": [
    {
     "name": "stdout",
     "output_type": "stream",
     "text": [
      "The sub equations are:\n",
      "\\begin{align}\n",
      "- 2 \\sqrt{2} p \\frac{d}{d z} B{\\left(z \\right)} + \\sqrt{2} \\frac{d}{d z} B{\\left(z \\right)} - 10 \\frac{d^{2}}{d z^{2}} B{\\left(z \\right)}&=0\\,,\\label{eq:sub_eq_1}\\\\\n",
      "- 4 p \\frac{d}{d z} B{\\left(z \\right)} + 4 \\sqrt{2} p \\frac{d^{2}}{d z^{2}} B{\\left(z \\right)} - 2 \\sqrt{2} \\frac{d^{2}}{d z^{2}} B{\\left(z \\right)} - 4 \\frac{d^{3}}{d z^{3}} B{\\left(z \\right)}&=0\\,,\\label{eq:sub_eq_2}\\\\\n",
      "\\end{align}\n",
      "The $\\xi$ tangent:\n",
      "\\begin{equation}\n",
      "\\xi{(z,y)}=B{\\left(z \\right)}\\,,\\label{eq:xi_candidate}\n",
      "\\end{equation}\n",
      "The $\\eta$ tangent:\n",
      "\\begin{equation}\n",
      "\\eta{(z,y)}=- 2 u \\frac{d}{d z} B{\\left(z \\right)} + D{\\left(z \\right)}\\,.\\label{eq:eta_candidate}\n",
      "\\end{equation}\n"
     ]
    }
   ],
   "source": [
    "# Extract the last equation\n",
    "C_eq = sub_eq_reduced[-1]\n",
    "# Solve the last equation for C\n",
    "C_sol = solve(C_eq,C)\n",
    "# Substitute it to the remaining equations\n",
    "# Reduce the system by substituting our dear value for c1 everywhere\n",
    "sub_eq_reduced = [expand(simplify(eq_temp.subs(C,C_sol[0]).doit())) for eq_temp in sub_eq_reduced]\n",
    "sub_eq_reduced = [i for i in sub_eq_reduced if i!=0]\n",
    "# Ok, let's make a fancy LaTeX string which we can use to print the monomials\n",
    "sub_eq_string = \"\\\\begin{align}\\n\"\n",
    "for index, eq_temp in enumerate(sub_eq_reduced):\n",
    "    if index<len(sub_eq)-1:\n",
    "        sub_eq_string += latex(eq_temp) + \"&=0\\,,\\\\label{eq:sub_eq_\" + str(index+1)+ \"}\\\\\\\\\\n\"\n",
    "    else:\n",
    "        sub_eq_string += latex(eq_temp) + \"&=0\\,.\\\\label{eq:sub_eq_\" + str(index+1)+ \"}\\\\\\\\\\n\"\n",
    "\n",
    "sub_eq_string += \"\\\\end{align}\"            \n",
    "print(\"The sub equations are:\")\n",
    "print(sub_eq_string)\n",
    "# Substitute this into our infinitesimals as well\n",
    "xi_sol = xi_sol.subs(C,C_sol[0]).doit()\n",
    "eta_sol = eta_sol.subs(C,C_sol[0]).doit()\n",
    "# Print them in a nice Latexy way\n",
    "print(\"The $\\\\xi$ tangent:\")\n",
    "print(\"\\\\begin{equation}\\n\\\\xi{(z,y)}=%s\\,,\\\\label{eq:xi_candidate}\\n\\\\end{equation}\"%(latex(xi_sol)))\n",
    "print(\"The $\\\\eta$ tangent:\")\n",
    "print(\"\\\\begin{equation}\\n\\\\eta{(z,y)}=%s\\,.\\\\label{eq:eta_candidate}\\n\\\\end{equation}\"%(latex(eta_sol)))"
   ]
  },
  {
   "cell_type": "markdown",
   "metadata": {},
   "source": [
    "The sub equations are:\n",
    "\\begin{align}\n",
    "- 2 \\sqrt{2} p \\frac{d}{d z} B{\\left(z \\right)} + \\sqrt{2} \\frac{d}{d z} B{\\left(z \\right)} - 10 \\frac{d^{2}}{d z^{2}} B{\\left(z \\right)}&=0\\,,\\label{eq:sub_eq_1}\\\\\n",
    "- 4 p \\frac{d}{d z} B{\\left(z \\right)} + 4 \\sqrt{2} p \\frac{d^{2}}{d z^{2}} B{\\left(z \\right)} - 2 \\sqrt{2} \\frac{d^{2}}{d z^{2}} B{\\left(z \\right)} - 4 \\frac{d^{3}}{d z^{3}} B{\\left(z \\right)}&=0\\,,\\label{eq:sub_eq_2}\\\\\n",
    "\\end{align}\n",
    "The $\\xi$ tangent:\n",
    "\\begin{equation}\n",
    "\\xi{(z,y)}=B{\\left(z \\right)}\\,,\\label{eq:xi_candidate}\n",
    "\\end{equation}\n",
    "The $\\eta$ tangent:\n",
    "\\begin{equation}\n",
    "\\eta{(z,y)}=- 2 u \\frac{d}{d z} B{\\left(z \\right)} + D{\\left(z \\right)}\\,.\\label{eq:eta_candidate}\n",
    "\\end{equation}\n"
   ]
  },
  {
   "cell_type": "code",
   "execution_count": 14,
   "metadata": {},
   "outputs": [
    {
     "name": "stdout",
     "output_type": "stream",
     "text": [
      "\\begin{equation}B{\\left(z \\right)} = C_{1} + C_{2} e^{\\frac{\\sqrt{2} z \\left(1 - 2 p\\right)}{10}}\\end{equation}\n",
      "\\begin{equation}B{\\left(z \\right)} = C_{3} + C_{4} e^{\\frac{\\sqrt{2} z \\left(2 p - \\sqrt{4 p^{2} - 12 p + 1} - 1\\right)}{4}} + C_{5} e^{\\frac{\\sqrt{2} z \\left(2 p + \\sqrt{4 p^{2} - 12 p + 1} - 1\\right)}{4}}\\end{equation}\n"
     ]
    }
   ],
   "source": [
    "# Let's see if we can solbe these equations and get some overlap\n",
    "b1_eq = sub_eq_reduced[0]\n",
    "b2_eq = sub_eq_reduced[1]\n",
    "# Solve these for B\n",
    "b_1 = dsolve(b1_eq,B)\n",
    "print(latex(b_1,mode='equation'))\n",
    "b_2 = dsolve(b2_eq,B)\n",
    "# Allocate new coefficients and change their names\n",
    "C3 = symbols('C3')\n",
    "C4 = symbols('C4')\n",
    "C5 = symbols('C5')\n",
    "# Update our second solution\n",
    "b_2 = Eq(b_2.lhs,b_2.rhs.subs(C3,C5).subs(C1,C3).subs(C2,C4))\n",
    "print(latex(b_2,mode='equation'))"
   ]
  },
  {
   "cell_type": "markdown",
   "metadata": {},
   "source": [
    "\\begin{equation}B{\\left(z \\right)} = C_{1} + C_{2} e^{\\frac{\\sqrt{2} z \\left(1 - 2 p\\right)}{10}}\\end{equation}\n",
    "\\begin{equation}B{\\left(z \\right)} = C_{3} + C_{4} e^{\\frac{\\sqrt{2} z \\left(2 p - \\sqrt{4 p^{2} - 12 p + 1} - 1\\right)}{4}} + C_{5} e^{\\frac{\\sqrt{2} z \\left(2 p + \\sqrt{4 p^{2} - 12 p + 1} - 1\\right)}{4}}\\end{equation}\n"
   ]
  },
  {
   "cell_type": "markdown",
   "metadata": {},
   "source": [
    "Perhaps we can find a p value where the exponents are equal? In other words, is there a solution to the following equation:\n",
    "\n",
    "\\begin{equation}\n",
    "\\dfrac{(1-2p)}{10}=\\dfrac{2p-\\sqrt{4p^{2}-12p+1}-1}{4}. \n",
    "\\label{eq:p_equation}\n",
    "\\end{equation}\n",
    "Let's try to solve it!"
   ]
  },
  {
   "cell_type": "code",
   "execution_count": 15,
   "metadata": {},
   "outputs": [
    {
     "name": "stdout",
     "output_type": "stream",
     "text": [
      "[]\n"
     ]
    }
   ],
   "source": [
    "# p equation\n",
    "p_eq = Eq(((1-2*p)/(10)),((2*p-sqrt(4*(p**2)-12*p+1)-1)/(4)))\n",
    "# p solution\n",
    "p_solution = solve(p_eq,p)\n",
    "print(p_solution)"
   ]
  },
  {
   "cell_type": "markdown",
   "metadata": {},
   "source": [
    "Ok, so that is not nice... It seems like we have no solution "
   ]
  }
 ],
 "metadata": {
  "kernelspec": {
   "display_name": "Python 3",
   "language": "python",
   "name": "python3"
  },
  "language_info": {
   "codemirror_mode": {
    "name": "ipython",
    "version": 3
   },
   "file_extension": ".py",
   "mimetype": "text/x-python",
   "name": "python",
   "nbconvert_exporter": "python",
   "pygments_lexer": "ipython3",
   "version": "3.8.8"
  }
 },
 "nbformat": 4,
 "nbformat_minor": 4
}
