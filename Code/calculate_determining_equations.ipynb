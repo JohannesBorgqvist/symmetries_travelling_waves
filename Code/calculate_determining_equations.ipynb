{
 "cells": [
  {
   "cell_type": "markdown",
   "id": "7d431fc3",
   "metadata": {},
   "source": [
    "# Calculate determining equations\n",
    "*Date:* 2022-11-10,<br>\n",
    "*Written by:* Johannes Borgqvist. <br> \n",
    "Ok, so obviously we are incapable of deriving the linearised symmetry condition by hand. So, we'll give it a go in SymPy.\n",
    "\n",
    "This is our prolonged generator:\n",
    "\\begin{equation}\n",
    "    X^{(2)}\\left(u''-\\dfrac{\\ell(u')^2}{u}+cu'u^\\ell+u^\\ell f(u)\\right)=0\\quad\\mathrm{whenever}\\quad u''-\\dfrac{\\ell(u')^2}{u}+cu'u^\\ell+u^\\ell f(u)=0.\n",
    "    \\label{eq:lin_sym_general}\n",
    "\\end{equation}\n",
    "Here, the prolonged infinitesimals $\\eta^{(1)}$ and $\\eta^{(2)}$ are given by\n",
    "\\begin{align}\n",
    "    \\eta^{(1)}(z,u,u')&=\\eta_z+(\\eta_u-\\xi_z)u'-\\xi_u\\left(u'\\right)^2,\\label{eq:prolong_1}\\\\\n",
    "    \\eta^{(2)}(z,u,u',u'')&=\\eta_{zz}+(2\\eta_{zu}-\\xi_{zz})u'+\\left(\\eta_{uu}-2\\xi_{zu}\\right)\\left(u'\\right)^2-\\xi_{uu}\\left(u'\\right)^3\\nonumber\\\\\n",
    "    &+\\left\\{\\eta_u - 2\\xi_z -3\\xi_u u'\\right\\}u''.\\label{eq:prolong_2}    \n",
    "\\end{align}\n",
    "By the linearity of $X^{(2)}$, we can re-write the linearised symmetry condition as follows\n",
    "\\begin{equation}\n",
    "\\begin{split}\n",
    "    \\eta^{(2)}+\\left(cu^{\\ell}-\\dfrac{2\\ell u'}{u}\\right)\\eta^{(1)}+\\left(\\dfrac{\\ell (u')^2}{u^2}+c\\ell u^{\\ell-1}u'+u^{\\ell-1}\\left(\\ell f(u)+u\\dfrac{\\mathrm{d}f}{\\mathrm{d}u}\\right)\\right)\\eta&=0\\\\\n",
    "    \\quad\\mathrm{whenever}\\quad u''-\\dfrac{\\ell(u')^2}{u}+cu'u^\\ell+u^\\ell f(u)=0.\n",
    "\\end{split}\n",
    "    \\label{eq:lin_sym}\n",
    "\\end{equation}\n",
    "So let's go to work!"
   ]
  },
  {
   "cell_type": "code",
   "execution_count": 10,
   "id": "072a3341",
   "metadata": {},
   "outputs": [
    {
     "name": "stdout",
     "output_type": "stream",
     "text": [
      "The determining equations\n",
      "\\begin{align*}\n",
      "\\left(u'\\right)^{3}:&- \\frac{l \\xi_{u}}{u} - \\xi_{uu}&=0\\,,\\\\\n",
      "\\left(u'\\right)^{2}:&2 c u^{l} \\xi_{u} + \\frac{\\eta l}{u^{2}} - \\frac{\\eta_{u} l}{u} + \\eta_{uu} - 2 \\xi_{zu}&=0\\,,\\\\\n",
      "\\left(u'\\right):&\\frac{c \\eta l u^{l}}{u} + c u^{l} \\xi_{z} - \\frac{2 \\eta_{z} l}{u} + 2 \\eta_{zu} + 3 f(u) u^{l} \\xi_{u} - \\xi_{zz}&=0\\,,\\\\\n",
      "1:&c \\eta_{z} u^{l} + \\frac{\\eta \\left(l\\,f(u)+u\\dfrac{\\mathrm{d}f}{\\mathrm{d}u}\\right) u^{l}}{u} - \\eta_{u} f(u) u^{l} + \\eta_{zz} + 2 f(u) u^{l} \\xi_{z}&=0\\,.\\\\\n",
      "\\end{align*}\n",
      "\n"
     ]
    }
   ],
   "source": [
    "# Import sympy\n",
    "from sympy import *\n",
    "# Define symbols\n",
    "l,u,f_term,f,c,u_prime = symbols('l u f_term f c u_prime')\n",
    "# Define the second derivative\n",
    "u_bis = (l*(u_prime**2))/u - (c*u_prime*(u**l)) - ((u**l)*(f))\n",
    "# Define all of our tangents and all of their derivatives\n",
    "eta,eta,eta_z,eta_u,eta_uu,eta_zz,eta_zu,xi,xi_z,xi_u,xi_uu,xi_zz,xi_zu = symbols('eta eta eta_z eta_u eta_uu eta_zz eta_zu xi xi_z xi_u xi_uu xi_zz xi_zu')\n",
    "# Define our prolonged tangents\n",
    "eta_1 = eta_z + (eta_u-xi_z)*u_prime - xi_u*(u_prime**2)\n",
    "eta_2 = eta_zz + (2*eta_zu-xi_zz)*u_prime + (eta_uu-2*xi_zu)*(u_prime**2) - xi_uu*(u_prime**3) + (eta_u-2*xi_z-3*xi_u*(u_prime))*u_bis\n",
    "# Define our linearised symmetry condition\n",
    "lin_sym = expand(eta_2 + (c*u**l - 2*(l*u_prime/u))*eta_1 + (((l*(u_prime**2))/(u**2))+c*l*u_prime*(u**(l-1))+(u**(l-1))*f_term)*eta)\n",
    "# Define our monomials\n",
    "monomials = [u_prime**3, u_prime**2, u_prime, 1]\n",
    "# Allocate the determining equations\n",
    "det_eq = []\n",
    "for monomial in monomials:\n",
    "    if monomial == 1:\n",
    "        det_eq.append((monomial,lin_sym.subs(u_prime,0)))\n",
    "    else:\n",
    "        det_eq.append((monomial,lin_sym.coeff(monomial)))\n",
    "# Print out our determining equations\n",
    "str_det_eq = \"\\\\begin{align*}\\n\"\n",
    "for index,eq_temp in enumerate(det_eq):\n",
    "    if index==len(det_eq)-1:\n",
    "        str_det_eq += latex(eq_temp[0]) + \":&\" + latex(eq_temp[1]) + \"&=0\\\\,.\\\\\\\\\\n\"\n",
    "    else:\n",
    "        str_det_eq += latex(eq_temp[0]) + \":&\" + latex(eq_temp[1]) + \"&=0\\\\,,\\\\\\\\\\n\"\n",
    "str_det_eq += \"\\\\end{align*}\\n\"\n",
    "str_det_eq = str_det_eq.replace(\"u_{prime}\",\"\\\\left(u'\\\\right)\").replace(\"f\",\"f(u)\").replace(\"f(u)_{term}\",\"\\\\left(l\\\\,f(u)+u\\\\dfrac{\\\\mathrm{d}f}{\\\\mathrm{d}u}\\\\right)\").replace(\"f(u)rac\",\"frac\").replace(\"lef(u)\",\"lef\")\n",
    "print(\"The determining equations\")\n",
    "print(str_det_eq)"
   ]
  },
  {
   "cell_type": "markdown",
   "id": "d9ac8f2f",
   "metadata": {},
   "source": [
    "The determining equations\n",
    "\\begin{align*}\n",
    "\\left(u'\\right)^{3}:&- \\frac{l \\xi_{u}}{u} - \\xi_{uu}&=0\\,,\\\\\n",
    "\\left(u'\\right)^{2}:&2 c u^{l} \\xi_{u} + \\frac{\\eta l}{u^{2}} - \\frac{\\eta_{u} l}{u} + \\eta_{uu} - 2 \\xi_{zu}&=0\\,,\\\\\n",
    "\\left(u'\\right):&\\frac{c \\eta l u^{l}}{u} + c u^{l} \\xi_{z} - \\frac{2 \\eta_{z} l}{u} + 2 \\eta_{zu} + 3 f(u) u^{l} \\xi_{u} - \\xi_{zz}&=0\\,,\\\\\n",
    "1:&c \\eta_{z} u^{l} + \\frac{\\eta \\left(l\\,f(u)+u\\dfrac{\\mathrm{d}f}{\\mathrm{d}u}\\right) u^{l}}{u} - \\eta_{u} f(u) u^{l} + \\eta_{zz} + 2 f(u) u^{l} \\xi_{z}&=0\\,.\\\\\n",
    "\\end{align*}\n",
    "\n",
    "\n",
    "\n"
   ]
  },
  {
   "cell_type": "code",
   "execution_count": null,
   "id": "0955cee3",
   "metadata": {},
   "outputs": [],
   "source": []
  }
 ],
 "metadata": {
  "kernelspec": {
   "display_name": "Python 3",
   "language": "python",
   "name": "python3"
  },
  "language_info": {
   "codemirror_mode": {
    "name": "ipython",
    "version": 3
   },
   "file_extension": ".py",
   "mimetype": "text/x-python",
   "name": "python",
   "nbconvert_exporter": "python",
   "pygments_lexer": "ipython3",
   "version": "3.8.8"
  }
 },
 "nbformat": 4,
 "nbformat_minor": 5
}
