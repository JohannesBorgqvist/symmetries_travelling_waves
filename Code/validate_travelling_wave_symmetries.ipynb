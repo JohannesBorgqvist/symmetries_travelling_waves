{
 "cells": [
  {
   "cell_type": "markdown",
   "id": "1abdb9aa",
   "metadata": {},
   "source": [
    "# Validate symmetries of travelling wave equations\n",
    "*Date:* 2022-11-10,<br>\n",
    "*Written by:* Johannes Borgqvist. <br> \n",
    "\n",
    "Ok, so we have the following preliminary result:\n",
    "\n",
    "The travelling wave ODE\n",
    "\n",
    "$$u''+cu'+f(u)=0,\\quad f(u)=c_0+c_1 u+c_2 u^2+c_3 u^3,\\quad c_0,c_1,c_2,c_3\\in\\mathbb{R}.$$\n",
    "\n",
    "has the following symmetry\n",
    "\n",
    "$$X_2=\\exp(r\\,z)\\left[\\left(\\dfrac{3c_3}{c_2}\\right)\\partial_z+\\left(1+\\left(\\dfrac{3c_3}{2c_2}\\right)(r+1)\\right)u\\partial_u\\right]$$\n",
    "  where $r$ solves the polynomial equation\n",
    "\\begin{equation}\n",
    "  r^3-(c^2+4c_1)r+\\left(\\frac{4c_2^2}{3c_3}-c_1(c+1)\\right)=0.\n",
    "  \\label{eq:root_equation}\n",
    "\\end{equation}\n",
    "We have generalised our symmetry condition by studying the model\n",
    "\\begin{equation}\n",
    "    u''-\\dfrac{\\ell(u')^2}{u}+cu'u^\\ell+u^\\ell f(u)=0\n",
    "    \\label{eq:travelling_wave}\n",
    "\\end{equation}\n",
    "and thus our travelling wave ODE with just diffusion is retrieved by setting $\\ell=0$. \n",
    "\n",
    "\n",
    "Let's see if this actually hold, by plugging in the infinitesimals\n",
    "$$\\xi{(z,u)}=\\left(\\dfrac{3c_3}{c_2}\\right)\\exp(r\\,z)\\,,\\quad\\eta{(z,u)}=\\exp(r\\,z)\\left(1+\\left(\\dfrac{3c_3}{2c_2}\\right)(r+1)\\right)u$$\n",
    "into the following linearised symmetry condition\n",
    "\\begin{equation}\n",
    "    X^{(2)}\\left(u''-\\dfrac{\\ell(u')^2}{u}+cu'u^\\ell+u^\\ell f(u)\\right)=0\\quad\\mathrm{whenever}\\quad u''-\\dfrac{\\ell(u')^2}{u}+cu'u^\\ell+u^\\ell f(u)=0.\n",
    "    \\label{eq:lin_sym_general}\n",
    "\\end{equation}\n",
    "Here, the prolonged infinitesimals $\\eta^{(1)}$ and $\\eta^{(2)}$ are given by\n",
    "\\begin{align}\n",
    "    \\eta^{(1)}(z,u,u')&=\\eta_z+(\\eta_u-\\xi_z)u'-\\xi_u\\left(u'\\right)^2,\\label{eq:prolong_1}\\\\\n",
    "    \\eta^{(2)}(z,u,u',u'')&=\\eta_{zz}+(2\\eta_{zu}-\\xi_{zz})u'+\\left(\\eta_{uu}-2\\xi_{zu}\\right)\\left(u'\\right)^2-\\xi_{uu}\\left(u'\\right)^3\\nonumber\\\\\n",
    "    &+\\left\\{\\eta_u - 2\\xi_z -3\\xi_u u'\\right\\}u''.\\label{eq:prolong_2}    \n",
    "\\end{align}\n",
    "By the linearity of $X^{(2)}$, we can re-write the linearised symmetry condition as follows\n",
    "\\begin{equation}\n",
    "\\begin{split}\n",
    "    \\eta^{(2)}+\\left(cu^{\\ell}-\\dfrac{2\\ell u'}{u}\\right)\\eta^{(1)}+\\left(\\dfrac{\\ell (u')^2}{u^2}+c\\ell u^{\\ell-1}u'+u^{\\ell-1}\\left(\\ell f(u)+u\\dfrac{\\mathrm{d}f}{\\mathrm{d}u}\\right)\\right)\\eta&=0\\\\\n",
    "    \\quad\\mathrm{whenever}\\quad u''-\\dfrac{\\ell(u')^2}{u}+cu'u^\\ell+u^\\ell f(u)=0.\n",
    "\\end{split}\n",
    "    \\label{eq:lin_sym}\n",
    "\\end{equation}\n",
    "So let's go to work!\n",
    "\n",
    "## Import libraries"
   ]
  },
  {
   "cell_type": "code",
   "execution_count": 1,
   "id": "17c60cc2",
   "metadata": {},
   "outputs": [],
   "source": [
    "# Import sympy\n",
    "from sympy import *"
   ]
  },
  {
   "cell_type": "markdown",
   "id": "8396df55",
   "metadata": {},
   "source": [
    "## Set up the generalised RD model"
   ]
  },
  {
   "cell_type": "code",
   "execution_count": 16,
   "id": "4e548956",
   "metadata": {},
   "outputs": [],
   "source": [
    "# Define our variables\n",
    "z, u, u_prime = symbols('z u u_prime') \n",
    "# Define our travelling wave parameters, and the polynomial parameter r\n",
    "c, r = symbols('c r')\n",
    "# Setup up our coefficients in the polynomial reaction term\n",
    "c0, c1, c2, c3 = symbols('c0 c1 c2 c3')\n",
    "# Define our cubic polynomial f\n",
    "#f = c0+c1*u+c2*u**2+c3*u**3\n",
    "f = c0+c1*u\n",
    "# Define our travelling wave ODE for u_bis\n",
    "u_bis = -c*u_prime - f\n",
    "# Define our candidate symmetries\n",
    "#----------------------------------------------------------------------------\n",
    "# Translation generator, X1\n",
    "#xi = 1\n",
    "#eta = 0\n",
    "#----------------------------------------------------------------------------\n",
    "# Generator, X2\n",
    "xi = 0\n",
    "eta = exp(0.5*(-c+sqrt(c**2-4*c1))*z)\n",
    "#----------------------------------------------------------------------------\n",
    "# Generator, X3\n",
    "#xi = 0\n",
    "#eta = exp(0.5*(-c-sqrt(c**2-4*c1))*z)\n",
    "#----------------------------------------------------------------------------"
   ]
  },
  {
   "cell_type": "markdown",
   "id": "a26b659e",
   "metadata": {},
   "source": [
    "## Define linearised symmetry condition"
   ]
  },
  {
   "cell_type": "code",
   "execution_count": 17,
   "id": "c2cc16ef",
   "metadata": {},
   "outputs": [
    {
     "name": "stdout",
     "output_type": "stream",
     "text": [
      "First prolonged infinitesimal, $\\eta^{(1)}$:\n",
      "\\begin{equation}\n",
      "\\eta^{(1)}{(z,u,u')}=0\\,.\n",
      "\\end{equation}\n",
      "Second prolonged infinitesimal, $\\eta^{(2)}$:\n",
      "\\begin{equation}\n",
      "\\eta^{(2)}{(z,u,u')}=0\\,.\n",
      "\\end{equation}\n",
      "The linearised symmetry condition is given by\n",
      "\\begin{equation}\n",
      "0=0\\,.\n",
      "\\end{equation}\n",
      "Decomposed linearised symmetry condition:\n",
      "\\begin{align}\n",
      "u:&0&=0\\,,\\\\\n",
      "u^{2}:&0&=0\\,,\\\\\n",
      "u^{3}:&0&=0\\,,\\\\\n",
      "u':&0&=0\\,\\\\\n",
      "1:&0&=0\\,.\\\\\n",
      "\\end{align}\n",
      "\n"
     ]
    }
   ],
   "source": [
    "# Calculate all derivatives that we need\n",
    "# eta\n",
    "eta_z = Derivative(eta,z,1).doit()\n",
    "eta_u = Derivative(eta,u,1).doit()\n",
    "eta_zu = Derivative(eta_z,u,1).doit()\n",
    "eta_zz = Derivative(eta_z,z,1).doit()\n",
    "eta_uu = Derivative(eta_u,u,1).doit()\n",
    "# xi\n",
    "xi_z = Derivative(xi,z,1).doit()\n",
    "xi_u = Derivative(xi,u,1).doit()\n",
    "xi_zu = Derivative(xi_z,u,1).doit()\n",
    "xi_zz = Derivative(xi_z,z,1).doit()\n",
    "xi_uu = Derivative(xi_u,u,1).doit()\n",
    "# Second prolongation\n",
    "eta_2 = eta_zz + (2*eta_zu - xi_zz)*u_prime +(eta_uu-2*xi_zu)*(u_prime**2)-xi_uu*(u_prime)**3 + (eta_u-2*xi_z-3*xi_u*u_prime)*u_bis\n",
    "eta_1 = eta_z + (eta_u-xi_z)*u_prime-xi_u*(u_prime**2)\n",
    "# Print these prolongations in LaTeX format\n",
    "print(\"First prolonged infinitesimal, $\\eta^{(1)}$:\")\n",
    "print(latex(simplify(eta_1),mode='equation').replace(\"\\\\begin{equation}\",\"\\\\begin{equation}\\n\\eta^{(1)}{(z,u,u')}=\").replace(\"\\\\end{equation}\",\"\\,.\\n\\\\end{equation}\").replace(\"u_{prime}\",\"u'\"))\n",
    "print(\"Second prolonged infinitesimal, $\\eta^{(2)}$:\")\n",
    "print(latex(simplify(eta_2),mode='equation').replace(\"\\\\begin{equation}\",\"\\\\begin{equation}\\n\\eta^{(2)}{(z,u,u')}=\").replace(\"\\\\end{equation}\",\"\\,.\\n\\\\end{equation}\").replace(\"u_{prime}\",\"u'\"))\n",
    "# Now, let's assemble our linearised symmetry condition\n",
    "lin_sym = eta_2 +c*eta_1 + Derivative(f,u).doit()*eta\n",
    "lin_sym = expand(simplify(expand(lin_sym)*(2*c2/exp(r*z))))\n",
    "# Print our linearised symmetry condition\n",
    "print(\"The linearised symmetry condition is given by\")\n",
    "print(latex(simplify(lin_sym),mode='equation').replace(\"\\\\begin{equation}\",\"\\\\begin{equation}\\n\").replace(\"\\\\end{equation}\",\"=0\\,.\\n\\\\end{equation}\").replace(\"u_{prime}\",\"u'\"))\n",
    "# Let's subdivide this into equations\n",
    "monomials = [1,u,u**2,u**3,u_prime]\n",
    "decomposed_equations = []\n",
    "for index,monomial in enumerate(monomials):\n",
    "    if index!=0:\n",
    "        decomposed_equations.append((monomial,lin_sym.coeff(monomial)))\n",
    "# Constant equation\n",
    "constant_eq = expand(lin_sym)\n",
    "for index in range(1,len(monomials)):\n",
    "    constant_eq += -monomials[index]*lin_sym.coeff(monomials[index])\n",
    "# Add the constant term as well\n",
    "decomposed_equations.append((1,expand(constant_eq)))\n",
    "print(\"Decomposed linearised symmetry condition:\")\n",
    "print(\"\\\\begin{align}\")\n",
    "for index,eq_temp in enumerate(decomposed_equations):\n",
    "    if eq_temp[0]==u_prime:\n",
    "        print(\"u':&%s&=0\\,\\\\\\\\\"%(latex(eq_temp[1])))\n",
    "    else:\n",
    "        if index == len(decomposed_equations)-1:\n",
    "            print(\"%s:&%s&=0\\,.\\\\\\\\\"%(latex(eq_temp[0]),latex(eq_temp[1])))                    \n",
    "        else:\n",
    "            print(\"%s:&%s&=0\\,,\\\\\\\\\"%(latex(eq_temp[0]),latex(eq_temp[1])))        \n",
    "print(\"\\\\end{align}\\n\")    "
   ]
  },
  {
   "cell_type": "markdown",
   "id": "447ce015",
   "metadata": {},
   "source": [
    "First prolonged infinitesimal, $\\eta^{(1)}$:\n",
    "\\begin{equation}\n",
    "\\eta^{(1)}{(z,u,u')}=0.5 \\left(- c + \\sqrt{c^{2} - 4 c_{1}}\\right) e^{- 0.5 z \\left(c - \\sqrt{c^{2} - 4 c_{1}}\\right)}\\,.\n",
    "\\end{equation}\n",
    "Second prolonged infinitesimal, $\\eta^{(2)}$:\n",
    "\\begin{equation}\n",
    "\\eta^{(2)}{(z,u,u')}=0.25 \\left(c - \\sqrt{c^{2} - 4 c_{1}}\\right)^{2} e^{- 0.5 z \\left(c - \\sqrt{c^{2} - 4 c_{1}}\\right)}\\,.\n",
    "\\end{equation}\n",
    "The linearised symmetry condition is given by\n",
    "\\begin{equation}\n",
    "0=0\\,.\n",
    "\\end{equation}\n",
    "Decomposed linearised symmetry condition:\n",
    "\\begin{align}\n",
    "u:&0&=0\\,,\\\\\n",
    "u^{2}:&0&=0\\,,\\\\\n",
    "u^{3}:&0&=0\\,,\\\\\n",
    "u':&0&=0\\,\\\\\n",
    "1:&0&=0\\,.\\\\\n",
    "\\end{align}\n",
    "\n"
   ]
  },
  {
   "cell_type": "code",
   "execution_count": 4,
   "id": "4dccee4e",
   "metadata": {},
   "outputs": [
    {
     "name": "stdout",
     "output_type": "stream",
     "text": [
      "Equation formulated as a matrix system:\n",
      "\\begin{equation}\n",
      "\\left[\\begin{matrix}3 c_{2}^{2} c_{3} & 3 c c_{2}^{2} c_{3} + 3 c_{2}^{2} c_{3} + 2 c_{2} & 3 c c_{2}^{2} c_{3} + 2 c c_{2} + 12 c_{1} c_{3} & 0\\\\0 & 0 & 3 c_{2}^{3} c_{3} + 12 c_{2} c_{3} & 3 c_{2}^{3} c_{3} + 2 c_{2}^{2}\\\\0 & 0 & 6 c_{2}^{2} c_{3}^{2} + 12 c_{3}^{2} & 6 c_{2}^{2} c_{3}^{2} + 4 c_{2} c_{3}\\\\0 & 6 c_{2}^{2} c_{3} - 6 c_{3} & 6 c c_{3} + 6 c_{2}^{2} c_{3} + 4 c_{2} & 0\\\\0 & 0 & - 3 c_{0} c_{2}^{2} c_{3} + 12 c_{0} c_{3} & - 3 c_{0} c_{2}^{2} c_{3} - 2 c_{0} c_{2}\\end{matrix}\\right]\\left[\\begin{matrix}r^{3}\\\\r^{2}\\\\r\\\\1\\end{matrix}\\right]=\\left[\\begin{matrix}0\\\\0\\\\0\\\\0\\end{matrix}\\right]\\,.\n",
      "\\end{equation}\n"
     ]
    }
   ],
   "source": [
    "# Define our monomials in r\n",
    "r_vec = Matrix([r**3, r**2, r, 1])\n",
    "# Define our right hand side\n",
    "RHS = Matrix([0, 0, 0, 0])\n",
    "# Define our matrix in the end\n",
    "matrix_rows = []\n",
    "# Define our matrix element\n",
    "for index,dec_eq in enumerate(decomposed_equations):\n",
    "    matrix_row = []\n",
    "    for r_temp in r_vec:\n",
    "        if r_temp == 1:\n",
    "            matrix_row.append(dec_eq[1].subs(r,0))\n",
    "        else:\n",
    "            matrix_row.append(dec_eq[1].coeff(r_temp))\n",
    "    # Lastly, append our current row\n",
    "    matrix_rows.append(matrix_row)\n",
    "# Now, we can define our matrix at hand\n",
    "M = Matrix(matrix_rows)\n",
    "# Lastly, we print our fantastic equation\n",
    "print(\"Equation formulated as a matrix system:\")\n",
    "str_matrix_equation = \"\\\\begin{equation}\\n\" + latex(M) + latex(r_vec) + \"=\" + latex(RHS) + \"\\,.\\n\\\\end{equation}\"\n",
    "print(str_matrix_equation)"
   ]
  },
  {
   "cell_type": "markdown",
   "id": "b0179329",
   "metadata": {},
   "source": [
    "Equation formulated as a matrix system:\n",
    "\\begin{equation}\n",
    "\\left[\\begin{matrix}3 c_{2}^{2} c_{3} & 3 c c_{2}^{2} c_{3} + 3 c_{2}^{2} c_{3} + 2 c_{2} & 3 c c_{2}^{2} c_{3} + 2 c c_{2} + 12 c_{1} c_{3} & 0\\\\0 & 0 & 3 c_{2}^{3} c_{3} + 12 c_{2} c_{3} & 3 c_{2}^{3} c_{3} + 2 c_{2}^{2}\\\\0 & 0 & 6 c_{2}^{2} c_{3}^{2} + 12 c_{3}^{2} & 6 c_{2}^{2} c_{3}^{2} + 4 c_{2} c_{3}\\\\0 & 6 c_{2}^{2} c_{3} - 6 c_{3} & 6 c c_{3} + 6 c_{2}^{2} c_{3} + 4 c_{2} & 0\\\\0 & 0 & - 3 c_{0} c_{2}^{2} c_{3} + 12 c_{0} c_{3} & - 3 c_{0} c_{2}^{2} c_{3} - 2 c_{0} c_{2}\\end{matrix}\\right]\\left[\\begin{matrix}r^{3}\\\\r^{2}\\\\r\\\\1\\end{matrix}\\right]=\\left[\\begin{matrix}0\\\\0\\\\0\\\\0\\end{matrix}\\right]\\,.\n",
    "\\end{equation}\n",
    "Ok, let's simplify this using Gaussian elimination! "
   ]
  },
  {
   "cell_type": "code",
   "execution_count": 5,
   "id": "67d10cd1",
   "metadata": {},
   "outputs": [
    {
     "name": "stdout",
     "output_type": "stream",
     "text": [
      "Equation formulated as a matrix system that has been row reduced:\n",
      "\\begin{equation}\n",
      "\\left[\\begin{matrix}1 & 0 & 0 & 0\\\\0 & 1 & 0 & 0\\\\0 & 0 & 1 & 0\\\\0 & 0 & 0 & 1\\\\0 & 0 & 0 & 0\\end{matrix}\\right]\\left[\\begin{matrix}r^{3}\\\\r^{2}\\\\r\\\\1\\end{matrix}\\right]=\\left[\\begin{matrix}0\\\\0\\\\0\\\\0\\end{matrix}\\right]\\,.\n",
      "\\end{equation}\n"
     ]
    }
   ],
   "source": [
    "# Row reduce this system\n",
    "M = M.rref()\n",
    "# Lastly, we print our fantastic equation\n",
    "print(\"Equation formulated as a matrix system that has been row reduced:\")\n",
    "str_matrix_equation = \"\\\\begin{equation}\\n\" + latex(M[0]) + latex(r_vec) + \"=\" + latex(RHS) + \"\\,.\\n\\\\end{equation}\"\n",
    "print(str_matrix_equation)"
   ]
  },
  {
   "cell_type": "markdown",
   "id": "03de2ea0",
   "metadata": {},
   "source": [
    "Equation formulated as a matrix system that has been row reduced:\n",
    "\\begin{equation}\n",
    "\\left[\\begin{matrix}1 & 0 & 0 & 0\\\\0 & 1 & 0 & 0\\\\0 & 0 & 1 & 0\\\\0 & 0 & 0 & 1\\\\0 & 0 & 0 & 0\\end{matrix}\\right]\\left[\\begin{matrix}r^{3}\\\\r^{2}\\\\r\\\\1\\end{matrix}\\right]=\\left[\\begin{matrix}0\\\\0\\\\0\\\\0\\end{matrix}\\right]\\,.\n",
    "\\end{equation}\n",
    "\n"
   ]
  },
  {
   "cell_type": "code",
   "execution_count": null,
   "id": "32d192cb",
   "metadata": {},
   "outputs": [],
   "source": []
  }
 ],
 "metadata": {
  "kernelspec": {
   "display_name": "Python 3",
   "language": "python",
   "name": "python3"
  },
  "language_info": {
   "codemirror_mode": {
    "name": "ipython",
    "version": 3
   },
   "file_extension": ".py",
   "mimetype": "text/x-python",
   "name": "python",
   "nbconvert_exporter": "python",
   "pygments_lexer": "ipython3",
   "version": "3.8.8"
  }
 },
 "nbformat": 4,
 "nbformat_minor": 5
}
