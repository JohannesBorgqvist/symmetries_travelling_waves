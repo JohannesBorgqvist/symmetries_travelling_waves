{
 "cells": [
  {
   "cell_type": "markdown",
   "metadata": {},
   "source": [
    "# Symmetries of the growth model with the Allee effect\n",
    "*Date:* 2023-04-12,<br>\n",
    "*Written by:* Johannes,<br>\n",
    "Consider a model of collective cell migration with an Allee effect:\n",
    "\\begin{equation}\n",
    "u_{zz}+cu_{z}+u(u-p)(1-u)=0\\,,\\quad p\\in(0,1/2).\n",
    "  \\label{eq:Allee}\n",
    "\\end{equation}\n",
    "Now, this equation has an analytical solution given by\n",
    "\\begin{equation}\n",
    "  u{(z)}=\\frac{1}{1+a\\exp(z/\\sqrt{2})}\\,,\\quad{c}=\\frac{1-2p}{\\sqrt{2}}\\,.\n",
    "  \\label{eq:solution_Allee}\n",
    "\\end{equation}\n",
    "where $a$ is determined by the initial condition. Let's see if we can validate this solution using SymPy.\n",
    "\n",
    "\n",
    "\n",
    "\n",
    "\n"
   ]
  },
  {
   "cell_type": "code",
   "execution_count": 1,
   "metadata": {},
   "outputs": [
    {
     "name": "stdout",
     "output_type": "stream",
     "text": [
      "0\n"
     ]
    }
   ],
   "source": [
    "# Import SymPy\n",
    "from sympy import *\n",
    "# Allocate our independent variable\n",
    "z = symbols('z')\n",
    "# Allocate our dependent variable\n",
    "u_ana = Function('u_ana')(z)\n",
    "# Allocate our parameters\n",
    "a, p = symbols('a p')\n",
    "# Define our analytical solution\n",
    "u_ana = 1/(1+a*exp(z/sqrt(2)))\n",
    "# Define our second order ODE\n",
    "Allee_ODE = Derivative(u_ana,z,2).doit()\n",
    "Allee_ODE += ((1-2*p)/(sqrt(2)))*Derivative(u_ana,z,1).doit()\n",
    "Allee_ODE += u_ana*(1-u_ana)*(u_ana-p)\n",
    "# Check if this really is our beloved solution then\n",
    "print(simplify(Allee_ODE))"
   ]
  },
  {
   "cell_type": "markdown",
   "metadata": {},
   "source": [
    "Now, our main task is to find the symmetries corresponding to the above analytical solution.\n",
    "\n",
    "Let's see if we can find the symmetries by solving the linearised symmetry condition:\n",
    "\\begin{equation}\n",
    "  \\eta^{(2)}+\\frac{1-2p}{\\sqrt{2}}\\eta^{(1)}+(-3u^{2}+2(p+1)u-p)\\eta=0\\quad\\textrm{whenever}\\quad u_{zz}+\\left(\\frac{1-2p}{\\sqrt{2}}\\right)u_{z}+u(u-p)(1-u)=0\n",
    "  \\label{eq:lin_sym}\n",
    "\\end{equation}\n",
    "where the prolonged infinitesimals are given by:\n",
    "\\begin{align}\n",
    "    \\eta^{(1)}(z,u,u_{z})=&\\eta_z+(\\eta_u-\\xi_z)u_{z}-\\xi_u\\left(u_{z}\\right)^2,\\label{eq:eta_1}\\\\\n",
    "    \\eta^{(2)}(z,u,u_{z},u_{zz})=&\\eta_{zz}+(2\\eta_{zu}-\\xi_{zz})u_{z}+\\left(\\eta_{uu}-2\\xi_{zu}\\right)\\left(u_{z}\\right)^2-\\xi_{uu}\\left(u_{z}\\right)^3\\nonumber\\\\\n",
    "    &+\\left\\{\\eta_u - 2\\xi_z -3\\xi_u u_{z}\\right\\}u_{zz}.\\label{eq:eta_2}    \n",
    "\\end{align}\n",
    "Inspired by Feng, let's see if we can find any symmetries of the type \n",
    "$$\\xi=c_{1}\\exp\\left(z/\\sqrt{2}\\right)$$\n",
    "and \n",
    "$$\\eta=\\exp\\left(z/\\sqrt{2}\\right)(c_{2}u+c_{3}).$$"
   ]
  },
  {
   "cell_type": "code",
   "execution_count": 3,
   "metadata": {},
   "outputs": [
    {
     "name": "stdout",
     "output_type": "stream",
     "text": [
      "\\begin{equation}\n",
      "4 \\sqrt{2} p^{2} u^{2} \\operatorname{c_{1}}{\\left(z \\right)} - 8 p^{2} u^{2} \\frac{d}{d z} \\operatorname{c_{1}}{\\left(z \\right)} - 4 \\sqrt{2} p u^{4} \\operatorname{c_{1}}{\\left(z \\right)} + 4 p u^{3} \\frac{d}{d z} \\operatorname{c_{1}}{\\left(z \\right)} + 6 p u^{2} u_{z} \\operatorname{c_{1}}{\\left(z \\right)} - 2 \\sqrt{2} p u^{2} \\operatorname{c_{1}}{\\left(z \\right)} + 2 p u^{2} \\operatorname{c_{3}}{\\left(z \\right)} + 8 p u^{2} \\frac{d}{d z} \\operatorname{c_{1}}{\\left(z \\right)} + 4 p u^{2} \\frac{d}{d z} \\operatorname{c_{2}}{\\left(z \\right)} - 6 p u u_{z} \\operatorname{c_{1}}{\\left(z \\right)} + 14 \\sqrt{2} p u u_{z} \\frac{d}{d z} \\operatorname{c_{1}}{\\left(z \\right)} + 4 p u \\operatorname{c_{4}}{\\left(z \\right)} - 4 p u \\frac{d}{d z} \\operatorname{c_{2}}{\\left(z \\right)} - 2 \\sqrt{2} p u \\frac{d}{d z} \\operatorname{c_{3}}{\\left(z \\right)} + 4 \\sqrt{2} p u_{z}^{2} \\operatorname{c_{1}}{\\left(z \\right)} - 2 \\sqrt{2} p u_{z} \\frac{d}{d z} \\operatorname{c_{2}}{\\left(z \\right)} - 2 p \\operatorname{c_{4}}{\\left(z \\right)} - 2 \\sqrt{2} p \\frac{d}{d z} \\operatorname{c_{4}}{\\left(z \\right)} + 2 \\sqrt{2} u^{4} \\operatorname{c_{1}}{\\left(z \\right)} - 8 u^{4} \\frac{d}{d z} \\operatorname{c_{1}}{\\left(z \\right)} - 6 u^{3} u_{z} \\operatorname{c_{1}}{\\left(z \\right)} - 4 u^{3} \\operatorname{c_{3}}{\\left(z \\right)} + 4 u^{3} \\frac{d}{d z} \\operatorname{c_{1}}{\\left(z \\right)} - 4 u^{3} \\frac{d}{d z} \\operatorname{c_{2}}{\\left(z \\right)} + 6 u^{2} u_{z} \\operatorname{c_{1}}{\\left(z \\right)} + 2 u^{2} \\operatorname{c_{3}}{\\left(z \\right)} - 6 u^{2} \\operatorname{c_{4}}{\\left(z \\right)} - 2 u^{2} \\frac{d}{d z} \\operatorname{c_{1}}{\\left(z \\right)} + 4 u^{2} \\frac{d^{3}}{d z^{3}} \\operatorname{c_{1}}{\\left(z \\right)} + 4 u^{2} \\frac{d}{d z} \\operatorname{c_{2}}{\\left(z \\right)} - 7 \\sqrt{2} u u_{z} \\frac{d}{d z} \\operatorname{c_{1}}{\\left(z \\right)} + 14 u u_{z} \\frac{d^{2}}{d z^{2}} \\operatorname{c_{1}}{\\left(z \\right)} + 4 u \\operatorname{c_{4}}{\\left(z \\right)} + \\sqrt{2} u \\frac{d}{d z} \\operatorname{c_{3}}{\\left(z \\right)} + 2 u \\frac{d^{2}}{d z^{2}} \\operatorname{c_{3}}{\\left(z \\right)} - 2 \\sqrt{2} u_{z}^{2} \\operatorname{c_{1}}{\\left(z \\right)} + 4 u_{z}^{2} \\frac{d}{d z} \\operatorname{c_{1}}{\\left(z \\right)} + \\sqrt{2} u_{z} \\frac{d}{d z} \\operatorname{c_{2}}{\\left(z \\right)} - 2 u_{z} \\frac{d^{2}}{d z^{2}} \\operatorname{c_{2}}{\\left(z \\right)} + 4 u_{z} \\frac{d}{d z} \\operatorname{c_{3}}{\\left(z \\right)} + \\sqrt{2} \\frac{d}{d z} \\operatorname{c_{4}}{\\left(z \\right)} + 2 \\frac{d^{2}}{d z^{2}} \\operatorname{c_{4}}{\\left(z \\right)} = 0\\,,\\label{eq:lin_sym_Allee}\n",
      "\\end{equation}\n",
      "\n"
     ]
    }
   ],
   "source": [
    "# Define our variables\n",
    "z, u = symbols('z u')\n",
    "# Define the first order derivative\n",
    "uz, uzz = symbols('uz uzz')\n",
    "# Define the Fisher KPP\n",
    "ubis = -(((1-2*p)/(sqrt(2)))*uz + u*(1-u)*(u-p))\n",
    "# Define arbitrary functions\n",
    "#c1, c2, c3, c4, c5, c6 = symbols('c1 c2 c3 c4 c5 c6')\n",
    "# Define functions instead\n",
    "c1 = Function('c1')(z)\n",
    "c2 = Function('c2')(z)\n",
    "c3 = Function('c3')(z)\n",
    "c4 = Function('c4')(z)\n",
    "# Define the tangents\n",
    "xi = c1*u+c2\n",
    "eta = (2*Derivative(c1,z,1).doit()+sqrt(2)*(2*p-1)*c1)*u**2+c3*u+c4\n",
    "# Calculate all derivatives uo to order two\n",
    "# First order derivatives\n",
    "xi_z = Derivative(xi,z,1).doit()\n",
    "xi_u = Derivative(xi,u,1).doit()\n",
    "eta_z = Derivative(eta,z,1).doit()\n",
    "eta_u = Derivative(eta,u,1).doit()\n",
    "# Second order derivatives\n",
    "xi_zu = Derivative(xi_z,u,1).doit()\n",
    "xi_zz = Derivative(xi_z,z,1).doit()\n",
    "xi_uu = Derivative(xi_u,u,1).doit()\n",
    "eta_zu = Derivative(eta_z,u,1).doit()\n",
    "eta_zz = Derivative(eta_z,z,1).doit()\n",
    "eta_uu = Derivative(eta_u,u,1).doit()\n",
    "# Define the prolonged infinitesimals\n",
    "eta_1 = eta_z + (eta_u-xi_z)*uz - xi_u*(uz**2)\n",
    "#eta_1 = Derivative(eta,z,1).doit() + (Derivative(eta,u,1).doit()-Derivative(xi,z,1).doit())*uz-Derivative(xi,u,1).doit()*(uz**2)\n",
    "# Define the second prolongation\n",
    "eta_2 = eta_zz + (2*eta_zu-xi_zz)*uz + (eta_uu - 2*xi_zu)*(uz**2) - xi_uu * (uz**3) + (eta_u - 2*xi_z - 3*xi_u*uz)*uzz\n",
    "#eta_2 = Derivative(eta,z,2).doit() + (2*Derivative(Derivative(eta,z,1).doit(),u).doit()-Derivative(xi,z,2).doit())*uz + (Derivative(eta,u,2).doit()-2*Derivative(Derivative(xi,z,1).doit(),u).doit())*(uz**2\n",
    "#)-Derivative(eta,u,2).doit()*(uz**3)+(Derivative(eta,u,1).doit()-2*Derivative(xi,z,1).doit()-3*Derivative(xi,u,1).doit()*uz)*uzz\n",
    "# Define the linearised symmetry condition\n",
    "lin_sym = eta_2 + ((1-2*p)/(sqrt(2)))*eta_1 + (-3*(u**2)+2*(p+1)*u-p)*eta\n",
    "# Update with the Allee model\n",
    "lin_sym = expand(simplify(2*lin_sym.subs(uzz,ubis)))\n",
    "# Define an equation for the linearised symmetry condition\n",
    "lin_sym_Eq = Eq(lin_sym,0)\n",
    "lin_sym_Eq_str = latex(lin_sym_Eq,mode='equation').replace(\"\\\\begin{equation}\",\"\\\\begin{equation}\\n\").replace(\"\\\\end{equation}\",\"\\,,\\label{eq:lin_sym_Allee}\\n\\\\end{equation}\\n\").replace(\"uz\",\"u_{z}\")\n",
    "print(lin_sym_Eq_str)\n",
    "#print(lin_sym)"
   ]
  },
  {
   "cell_type": "markdown",
   "metadata": {},
   "source": [
    "The linearised symmetry condition is given by\n",
    "\\begin{equation}\n",
    "4 \\sqrt{2} p^{2} u^{2} \\operatorname{c_{1}}{\\left(z \\right)} - 8 p^{2} u^{2} \\frac{d}{d z} \\operatorname{c_{1}}{\\left(z \\right)} - 4 \\sqrt{2} p u^{4} \\operatorname{c_{1}}{\\left(z \\right)} + 4 p u^{3} \\frac{d}{d z} \\operatorname{c_{1}}{\\left(z \\right)} + 6 p u^{2} u_{z} \\operatorname{c_{1}}{\\left(z \\right)} - 2 \\sqrt{2} p u^{2} \\operatorname{c_{1}}{\\left(z \\right)} + 2 p u^{2} \\operatorname{c_{3}}{\\left(z \\right)} + 8 p u^{2} \\frac{d}{d z} \\operatorname{c_{1}}{\\left(z \\right)} + 4 p u^{2} \\frac{d}{d z} \\operatorname{c_{2}}{\\left(z \\right)} - 6 p u u_{z} \\operatorname{c_{1}}{\\left(z \\right)} + 14 \\sqrt{2} p u u_{z} \\frac{d}{d z} \\operatorname{c_{1}}{\\left(z \\right)} + 4 p u \\operatorname{c_{4}}{\\left(z \\right)} - 4 p u \\frac{d}{d z} \\operatorname{c_{2}}{\\left(z \\right)} - 2 \\sqrt{2} p u \\frac{d}{d z} \\operatorname{c_{3}}{\\left(z \\right)} + 4 \\sqrt{2} p u_{z}^{2} \\operatorname{c_{1}}{\\left(z \\right)} - 2 \\sqrt{2} p u_{z} \\frac{d}{d z} \\operatorname{c_{2}}{\\left(z \\right)} - 2 p \\operatorname{c_{4}}{\\left(z \\right)} - 2 \\sqrt{2} p \\frac{d}{d z} \\operatorname{c_{4}}{\\left(z \\right)} + 2 \\sqrt{2} u^{4} \\operatorname{c_{1}}{\\left(z \\right)} - 8 u^{4} \\frac{d}{d z} \\operatorname{c_{1}}{\\left(z \\right)} - 6 u^{3} u_{z} \\operatorname{c_{1}}{\\left(z \\right)} - 4 u^{3} \\operatorname{c_{3}}{\\left(z \\right)} + 4 u^{3} \\frac{d}{d z} \\operatorname{c_{1}}{\\left(z \\right)} - 4 u^{3} \\frac{d}{d z} \\operatorname{c_{2}}{\\left(z \\right)} + 6 u^{2} u_{z} \\operatorname{c_{1}}{\\left(z \\right)} + 2 u^{2} \\operatorname{c_{3}}{\\left(z \\right)} - 6 u^{2} \\operatorname{c_{4}}{\\left(z \\right)} - 2 u^{2} \\frac{d}{d z} \\operatorname{c_{1}}{\\left(z \\right)} + 4 u^{2} \\frac{d^{3}}{d z^{3}} \\operatorname{c_{1}}{\\left(z \\right)} + 4 u^{2} \\frac{d}{d z} \\operatorname{c_{2}}{\\left(z \\right)} - 7 \\sqrt{2} u u_{z} \\frac{d}{d z} \\operatorname{c_{1}}{\\left(z \\right)} + 14 u u_{z} \\frac{d^{2}}{d z^{2}} \\operatorname{c_{1}}{\\left(z \\right)} + 4 u \\operatorname{c_{4}}{\\left(z \\right)} + \\sqrt{2} u \\frac{d}{d z} \\operatorname{c_{3}}{\\left(z \\right)} + 2 u \\frac{d^{2}}{d z^{2}} \\operatorname{c_{3}}{\\left(z \\right)} - 2 \\sqrt{2} u_{z}^{2} \\operatorname{c_{1}}{\\left(z \\right)} + 4 u_{z}^{2} \\frac{d}{d z} \\operatorname{c_{1}}{\\left(z \\right)} + \\sqrt{2} u_{z} \\frac{d}{d z} \\operatorname{c_{2}}{\\left(z \\right)} - 2 u_{z} \\frac{d^{2}}{d z^{2}} \\operatorname{c_{2}}{\\left(z \\right)} + 4 u_{z} \\frac{d}{d z} \\operatorname{c_{3}}{\\left(z \\right)} + \\sqrt{2} \\frac{d}{d z} \\operatorname{c_{4}}{\\left(z \\right)} + 2 \\frac{d^{2}}{d z^{2}} \\operatorname{c_{4}}{\\left(z \\right)} = 0\\,,\\label{eq:lin_sym_Allee}\n",
    "\\end{equation}\n",
    "\n",
    "\n",
    "\n",
    "\n",
    "\n",
    "\n",
    "\n",
    "\n",
    "\n",
    "\n",
    "\n",
    "which we can split up with respect to the monomials $\\{1,u_{z},u_{z}^{2},u_{z}^{3}\\}$. \n",
    "\n",
    "\n"
   ]
  },
  {
   "cell_type": "code",
   "execution_count": 4,
   "metadata": {},
   "outputs": [
    {
     "name": "stdout",
     "output_type": "stream",
     "text": [
      "The determining equations are:\n",
      "\\begin{align}\n",
      "u_{z}^{2}:&4 \\sqrt{2} p \\operatorname{c_{1}}{\\left(z \\right)} - 2 \\sqrt{2} \\operatorname{c_{1}}{\\left(z \\right)} + 4 \\frac{d}{d z} \\operatorname{c_{1}}{\\left(z \\right)}&=0\\,,\\label{eq:d_Allee_1}\\\\\n",
      "u_{z}:&6 p u^{2} \\operatorname{c_{1}}{\\left(z \\right)} - 6 p u \\operatorname{c_{1}}{\\left(z \\right)} + 14 \\sqrt{2} p u \\frac{d}{d z} \\operatorname{c_{1}}{\\left(z \\right)} - 2 \\sqrt{2} p \\frac{d}{d z} \\operatorname{c_{2}}{\\left(z \\right)} - 6 u^{3} \\operatorname{c_{1}}{\\left(z \\right)} + 6 u^{2} \\operatorname{c_{1}}{\\left(z \\right)} - 7 \\sqrt{2} u \\frac{d}{d z} \\operatorname{c_{1}}{\\left(z \\right)} + 14 u \\frac{d^{2}}{d z^{2}} \\operatorname{c_{1}}{\\left(z \\right)} + \\sqrt{2} \\frac{d}{d z} \\operatorname{c_{2}}{\\left(z \\right)} - 2 \\frac{d^{2}}{d z^{2}} \\operatorname{c_{2}}{\\left(z \\right)} + 4 \\frac{d}{d z} \\operatorname{c_{3}}{\\left(z \\right)}&=0\\,,\\label{eq:d_Allee_2}\\\\\n",
      "1:&4 \\sqrt{2} p^{2} u^{2} \\operatorname{c_{1}}{\\left(z \\right)} - 8 p^{2} u^{2} \\frac{d}{d z} \\operatorname{c_{1}}{\\left(z \\right)} - 4 \\sqrt{2} p u^{4} \\operatorname{c_{1}}{\\left(z \\right)} + 4 p u^{3} \\frac{d}{d z} \\operatorname{c_{1}}{\\left(z \\right)} - 2 \\sqrt{2} p u^{2} \\operatorname{c_{1}}{\\left(z \\right)} + 2 p u^{2} \\operatorname{c_{3}}{\\left(z \\right)} + 8 p u^{2} \\frac{d}{d z} \\operatorname{c_{1}}{\\left(z \\right)} + 4 p u^{2} \\frac{d}{d z} \\operatorname{c_{2}}{\\left(z \\right)} + 4 p u \\operatorname{c_{4}}{\\left(z \\right)} - 4 p u \\frac{d}{d z} \\operatorname{c_{2}}{\\left(z \\right)} - 2 \\sqrt{2} p u \\frac{d}{d z} \\operatorname{c_{3}}{\\left(z \\right)} - 2 p \\operatorname{c_{4}}{\\left(z \\right)} - 2 \\sqrt{2} p \\frac{d}{d z} \\operatorname{c_{4}}{\\left(z \\right)} + 2 \\sqrt{2} u^{4} \\operatorname{c_{1}}{\\left(z \\right)} - 8 u^{4} \\frac{d}{d z} \\operatorname{c_{1}}{\\left(z \\right)} - 4 u^{3} \\operatorname{c_{3}}{\\left(z \\right)} + 4 u^{3} \\frac{d}{d z} \\operatorname{c_{1}}{\\left(z \\right)} - 4 u^{3} \\frac{d}{d z} \\operatorname{c_{2}}{\\left(z \\right)} + 2 u^{2} \\operatorname{c_{3}}{\\left(z \\right)} - 6 u^{2} \\operatorname{c_{4}}{\\left(z \\right)} - 2 u^{2} \\frac{d}{d z} \\operatorname{c_{1}}{\\left(z \\right)} + 4 u^{2} \\frac{d^{3}}{d z^{3}} \\operatorname{c_{1}}{\\left(z \\right)} + 4 u^{2} \\frac{d}{d z} \\operatorname{c_{2}}{\\left(z \\right)} + 4 u \\operatorname{c_{4}}{\\left(z \\right)} + \\sqrt{2} u \\frac{d}{d z} \\operatorname{c_{3}}{\\left(z \\right)} + 2 u \\frac{d^{2}}{d z^{2}} \\operatorname{c_{3}}{\\left(z \\right)} + \\sqrt{2} \\frac{d}{d z} \\operatorname{c_{4}}{\\left(z \\right)} + 2 \\frac{d^{2}}{d z^{2}} \\operatorname{c_{4}}{\\left(z \\right)}&=0\\,.\\label{eq:d_Allee_3}\\\\\n",
      "\\end{align}\n"
     ]
    }
   ],
   "source": [
    "# Define our monomials\n",
    "monomials = [uz**3,uz**2,uz,1]\n",
    "# Allocate memory for our determining equation\n",
    "det_eq = []\n",
    "# Loop over monomials and extract the determining equation\n",
    "for index,monomial in enumerate(monomials):\n",
    "    # Make a copy of the linearised symmetry condition\n",
    "    temp_eq = lin_sym\n",
    "    # Extract the determining equation depending on what monomial we work with\n",
    "    if monomial==1 and temp_eq.subs(uz,0)!=0:\n",
    "        det_eq.append((monomial,temp_eq.subs(uz,0)))\n",
    "    elif temp_eq.coeff(monomial).subs(uz,0)!=0:\n",
    "        det_eq.append((monomial,temp_eq.coeff(monomial).subs(uz,0)))\n",
    "# Ok, let's make a fancy LaTeX string which we can use to print the monomials\n",
    "det_eq_string = \"\\\\begin{align}\\n\"\n",
    "for index,eq_temp in enumerate(det_eq):\n",
    "    if index<len(det_eq)-1:\n",
    "        det_eq_string += latex(eq_temp[0]).replace(\"uz\",\"u_{z}\") + \":&\" + latex(eq_temp[1]) + \"&=0\\,,\\\\label{eq:d_Allee_\" + str(index+1)+ \"}\\\\\\\\\\n\"\n",
    "    else:\n",
    "        det_eq_string += latex(eq_temp[0]).replace(\"uz\",\"u_{z}\") + \":&\" + latex(eq_temp[1]) + \"&=0\\,.\\\\label{eq:d_Allee_\" + str(index+1)+ \"}\\\\\\\\\\n\"\n",
    "\n",
    "det_eq_string += \"\\\\end{align}\"            \n",
    "print(\"The determining equations are:\")\n",
    "print(det_eq_string)"
   ]
  },
  {
   "cell_type": "markdown",
   "metadata": {},
   "source": [
    "The determining equations are:\n",
    "\\begin{align}\n",
    "u_{z}^{2}:&4 \\sqrt{2} p \\operatorname{c_{1}}{\\left(z \\right)} - 2 \\sqrt{2} \\operatorname{c_{1}}{\\left(z \\right)} + 4 \\frac{d}{d z} \\operatorname{c_{1}}{\\left(z \\right)}&=0\\,,\\label{eq:d_Allee_1}\\\\\n",
    "u_{z}:&6 p u^{2} \\operatorname{c_{1}}{\\left(z \\right)} - 6 p u \\operatorname{c_{1}}{\\left(z \\right)} + 14 \\sqrt{2} p u \\frac{d}{d z} \\operatorname{c_{1}}{\\left(z \\right)} - 2 \\sqrt{2} p \\frac{d}{d z} \\operatorname{c_{2}}{\\left(z \\right)} - 6 u^{3} \\operatorname{c_{1}}{\\left(z \\right)} + 6 u^{2} \\operatorname{c_{1}}{\\left(z \\right)} - 7 \\sqrt{2} u \\frac{d}{d z} \\operatorname{c_{1}}{\\left(z \\right)} + 14 u \\frac{d^{2}}{d z^{2}} \\operatorname{c_{1}}{\\left(z \\right)} + \\sqrt{2} \\frac{d}{d z} \\operatorname{c_{2}}{\\left(z \\right)} - 2 \\frac{d^{2}}{d z^{2}} \\operatorname{c_{2}}{\\left(z \\right)} + 4 \\frac{d}{d z} \\operatorname{c_{3}}{\\left(z \\right)}&=0\\,,\\label{eq:d_Allee_2}\\\\\n",
    "1:&4 \\sqrt{2} p^{2} u^{2} \\operatorname{c_{1}}{\\left(z \\right)} - 8 p^{2} u^{2} \\frac{d}{d z} \\operatorname{c_{1}}{\\left(z \\right)} - 4 \\sqrt{2} p u^{4} \\operatorname{c_{1}}{\\left(z \\right)} + 4 p u^{3} \\frac{d}{d z} \\operatorname{c_{1}}{\\left(z \\right)} - 2 \\sqrt{2} p u^{2} \\operatorname{c_{1}}{\\left(z \\right)} + 2 p u^{2} \\operatorname{c_{3}}{\\left(z \\right)} + 8 p u^{2} \\frac{d}{d z} \\operatorname{c_{1}}{\\left(z \\right)} + 4 p u^{2} \\frac{d}{d z} \\operatorname{c_{2}}{\\left(z \\right)} + 4 p u \\operatorname{c_{4}}{\\left(z \\right)} - 4 p u \\frac{d}{d z} \\operatorname{c_{2}}{\\left(z \\right)} - 2 \\sqrt{2} p u \\frac{d}{d z} \\operatorname{c_{3}}{\\left(z \\right)} - 2 p \\operatorname{c_{4}}{\\left(z \\right)} - 2 \\sqrt{2} p \\frac{d}{d z} \\operatorname{c_{4}}{\\left(z \\right)} + 2 \\sqrt{2} u^{4} \\operatorname{c_{1}}{\\left(z \\right)} - 8 u^{4} \\frac{d}{d z} \\operatorname{c_{1}}{\\left(z \\right)} - 4 u^{3} \\operatorname{c_{3}}{\\left(z \\right)} + 4 u^{3} \\frac{d}{d z} \\operatorname{c_{1}}{\\left(z \\right)} - 4 u^{3} \\frac{d}{d z} \\operatorname{c_{2}}{\\left(z \\right)} + 2 u^{2} \\operatorname{c_{3}}{\\left(z \\right)} - 6 u^{2} \\operatorname{c_{4}}{\\left(z \\right)} - 2 u^{2} \\frac{d}{d z} \\operatorname{c_{1}}{\\left(z \\right)} + 4 u^{2} \\frac{d^{3}}{d z^{3}} \\operatorname{c_{1}}{\\left(z \\right)} + 4 u^{2} \\frac{d}{d z} \\operatorname{c_{2}}{\\left(z \\right)} + 4 u \\operatorname{c_{4}}{\\left(z \\right)} + \\sqrt{2} u \\frac{d}{d z} \\operatorname{c_{3}}{\\left(z \\right)} + 2 u \\frac{d^{2}}{d z^{2}} \\operatorname{c_{3}}{\\left(z \\right)} + \\sqrt{2} \\frac{d}{d z} \\operatorname{c_{4}}{\\left(z \\right)} + 2 \\frac{d^{2}}{d z^{2}} \\operatorname{c_{4}}{\\left(z \\right)}&=0\\,.\\label{eq:d_Allee_3}\\\\\n",
    "\\end{align}\n",
    "\n",
    "\n",
    "The first equation we can solve for c1, can't we?\n"
   ]
  },
  {
   "cell_type": "code",
   "execution_count": 5,
   "metadata": {},
   "outputs": [
    {
     "name": "stdout",
     "output_type": "stream",
     "text": [
      "Eq(c1(z), C1*exp(sqrt(2)*z*(1/2 - p)))\n"
     ]
    }
   ],
   "source": [
    "# Allocate some arbitrary symbols for the solutions\n",
    "C1 = symbols('C1')\n",
    "# Solve for c2\n",
    "c1_sol = dsolve(Eq(det_eq[0][1],0), c1)\n",
    "print(c1_sol)"
   ]
  },
  {
   "cell_type": "markdown",
   "metadata": {},
   "source": [
    "Let's substitute this into  the remaining system and reduce it a bit!"
   ]
  },
  {
   "cell_type": "code",
   "execution_count": 11,
   "metadata": {},
   "outputs": [
    {
     "name": "stdout",
     "output_type": "stream",
     "text": [
      "The determining equations are:\n",
      "\\begin{align}\n",
      "6 C_{1} p u^{2} e^{\\frac{\\sqrt{2} z}{2}} e^{- \\sqrt{2} p z} - 6 C_{1} p u e^{\\frac{\\sqrt{2} z}{2}} e^{- \\sqrt{2} p z} - 6 C_{1} u^{3} e^{\\frac{\\sqrt{2} z}{2}} e^{- \\sqrt{2} p z} + 6 C_{1} u^{2} e^{\\frac{\\sqrt{2} z}{2}} e^{- \\sqrt{2} p z} - 2 \\sqrt{2} p \\frac{d}{d z} \\operatorname{c_{2}}{\\left(z \\right)} + \\sqrt{2} \\frac{d}{d z} \\operatorname{c_{2}}{\\left(z \\right)} - 2 \\frac{d^{2}}{d z^{2}} \\operatorname{c_{2}}{\\left(z \\right)} + 4 \\frac{d}{d z} \\operatorname{c_{3}}{\\left(z \\right)}&=0\\,,\\label{eq:d_Allee_reduced_1}\\\\\n",
      "- 4 \\sqrt{2} C_{1} p^{2} u^{3} e^{\\frac{\\sqrt{2} z}{2}} e^{- \\sqrt{2} p z} + 4 \\sqrt{2} C_{1} p^{2} u^{2} e^{\\frac{\\sqrt{2} z}{2}} e^{- \\sqrt{2} p z} + 4 \\sqrt{2} C_{1} p u^{4} e^{\\frac{\\sqrt{2} z}{2}} e^{- \\sqrt{2} p z} - 2 \\sqrt{2} C_{1} p u^{3} e^{\\frac{\\sqrt{2} z}{2}} e^{- \\sqrt{2} p z} - 2 \\sqrt{2} C_{1} p u^{2} e^{\\frac{\\sqrt{2} z}{2}} e^{- \\sqrt{2} p z} - 2 \\sqrt{2} C_{1} u^{4} e^{\\frac{\\sqrt{2} z}{2}} e^{- \\sqrt{2} p z} + 2 \\sqrt{2} C_{1} u^{3} e^{\\frac{\\sqrt{2} z}{2}} e^{- \\sqrt{2} p z} + 2 p u^{2} \\operatorname{c_{3}}{\\left(z \\right)} + 4 p u^{2} \\frac{d}{d z} \\operatorname{c_{2}}{\\left(z \\right)} + 4 p u \\operatorname{c_{4}}{\\left(z \\right)} - 4 p u \\frac{d}{d z} \\operatorname{c_{2}}{\\left(z \\right)} - 2 \\sqrt{2} p u \\frac{d}{d z} \\operatorname{c_{3}}{\\left(z \\right)} - 2 p \\operatorname{c_{4}}{\\left(z \\right)} - 2 \\sqrt{2} p \\frac{d}{d z} \\operatorname{c_{4}}{\\left(z \\right)} - 4 u^{3} \\operatorname{c_{3}}{\\left(z \\right)} - 4 u^{3} \\frac{d}{d z} \\operatorname{c_{2}}{\\left(z \\right)} + 2 u^{2} \\operatorname{c_{3}}{\\left(z \\right)} - 6 u^{2} \\operatorname{c_{4}}{\\left(z \\right)} + 4 u^{2} \\frac{d}{d z} \\operatorname{c_{2}}{\\left(z \\right)} + 4 u \\operatorname{c_{4}}{\\left(z \\right)} + \\sqrt{2} u \\frac{d}{d z} \\operatorname{c_{3}}{\\left(z \\right)} + 2 u \\frac{d^{2}}{d z^{2}} \\operatorname{c_{3}}{\\left(z \\right)} + \\sqrt{2} \\frac{d}{d z} \\operatorname{c_{4}}{\\left(z \\right)} + 2 \\frac{d^{2}}{d z^{2}} \\operatorname{c_{4}}{\\left(z \\right)}&=0\\,,\\label{eq:d_Allee_reduced_2}\\\\\n",
      "\\end{align}\n"
     ]
    }
   ],
   "source": [
    "# Reduce the system by substituting our dear value for c1 everywhere\n",
    "det_eq_reduced = [expand(simplify(eq_temp[1].subs(c1_sol.lhs,c1_sol.rhs).doit())) for eq_temp in det_eq]\n",
    "det_eq_reduced = [i for i in det_eq_reduced if i!=0]\n",
    "# Ok, let's make a fancy LaTeX string which we can use to print the monomials\n",
    "det_eq_string = \"\\\\begin{align}\\n\"\n",
    "for index,eq_temp in enumerate(det_eq_reduced):\n",
    "    if index<len(det_eq)-1:\n",
    "        det_eq_string += latex(eq_temp) + \"&=0\\,,\\\\label{eq:d_Allee_reduced_\" + str(index+1)+ \"}\\\\\\\\\\n\"\n",
    "    else:\n",
    "        det_eq_string += latex(eq_temp) + \"&=0\\,.\\\\label{eq:d_Allee_reduced_\" + str(index+1)+ \"}\\\\\\\\\\n\"\n",
    "\n",
    "det_eq_string += \"\\\\end{align}\"            \n",
    "print(\"The determining equations are:\")\n",
    "print(det_eq_string)"
   ]
  },
  {
   "cell_type": "markdown",
   "metadata": {},
   "source": [
    "The determining equations are:\n",
    "\\begin{align}\n",
    "6 C_{1} p u^{2} e^{\\frac{\\sqrt{2} z}{2}} e^{- \\sqrt{2} p z} - 6 C_{1} p u e^{\\frac{\\sqrt{2} z}{2}} e^{- \\sqrt{2} p z} - 6 C_{1} u^{3} e^{\\frac{\\sqrt{2} z}{2}} e^{- \\sqrt{2} p z} + 6 C_{1} u^{2} e^{\\frac{\\sqrt{2} z}{2}} e^{- \\sqrt{2} p z} - 2 \\sqrt{2} p \\frac{d}{d z} \\operatorname{c_{2}}{\\left(z \\right)} + \\sqrt{2} \\frac{d}{d z} \\operatorname{c_{2}}{\\left(z \\right)} - 2 \\frac{d^{2}}{d z^{2}} \\operatorname{c_{2}}{\\left(z \\right)} + 4 \\frac{d}{d z} \\operatorname{c_{3}}{\\left(z \\right)}&=0\\,,\\label{eq:d_Allee_reduced_1}\\\\\n",
    "- 4 \\sqrt{2} C_{1} p^{2} u^{3} e^{\\frac{\\sqrt{2} z}{2}} e^{- \\sqrt{2} p z} + 4 \\sqrt{2} C_{1} p^{2} u^{2} e^{\\frac{\\sqrt{2} z}{2}} e^{- \\sqrt{2} p z} + 4 \\sqrt{2} C_{1} p u^{4} e^{\\frac{\\sqrt{2} z}{2}} e^{- \\sqrt{2} p z} - 2 \\sqrt{2} C_{1} p u^{3} e^{\\frac{\\sqrt{2} z}{2}} e^{- \\sqrt{2} p z} - 2 \\sqrt{2} C_{1} p u^{2} e^{\\frac{\\sqrt{2} z}{2}} e^{- \\sqrt{2} p z} - 2 \\sqrt{2} C_{1} u^{4} e^{\\frac{\\sqrt{2} z}{2}} e^{- \\sqrt{2} p z} + 2 \\sqrt{2} C_{1} u^{3} e^{\\frac{\\sqrt{2} z}{2}} e^{- \\sqrt{2} p z} + 2 p u^{2} \\operatorname{c_{3}}{\\left(z \\right)} + 4 p u^{2} \\frac{d}{d z} \\operatorname{c_{2}}{\\left(z \\right)} + 4 p u \\operatorname{c_{4}}{\\left(z \\right)} - 4 p u \\frac{d}{d z} \\operatorname{c_{2}}{\\left(z \\right)} - 2 \\sqrt{2} p u \\frac{d}{d z} \\operatorname{c_{3}}{\\left(z \\right)} - 2 p \\operatorname{c_{4}}{\\left(z \\right)} - 2 \\sqrt{2} p \\frac{d}{d z} \\operatorname{c_{4}}{\\left(z \\right)} - 4 u^{3} \\operatorname{c_{3}}{\\left(z \\right)} - 4 u^{3} \\frac{d}{d z} \\operatorname{c_{2}}{\\left(z \\right)} + 2 u^{2} \\operatorname{c_{3}}{\\left(z \\right)} - 6 u^{2} \\operatorname{c_{4}}{\\left(z \\right)} + 4 u^{2} \\frac{d}{d z} \\operatorname{c_{2}}{\\left(z \\right)} + 4 u \\operatorname{c_{4}}{\\left(z \\right)} + \\sqrt{2} u \\frac{d}{d z} \\operatorname{c_{3}}{\\left(z \\right)} + 2 u \\frac{d^{2}}{d z^{2}} \\operatorname{c_{3}}{\\left(z \\right)} + \\sqrt{2} \\frac{d}{d z} \\operatorname{c_{4}}{\\left(z \\right)} + 2 \\frac{d^{2}}{d z^{2}} \\operatorname{c_{4}}{\\left(z \\right)}&=0\\,,\\label{eq:d_Allee_reduced_2}\\\\\n",
    "\\end{align}\n",
    "Let's split up these equations with respect to the monomials $\\{1,u,u^{2},u^{3}\\}$."
   ]
  },
  {
   "cell_type": "code",
   "execution_count": 12,
   "metadata": {},
   "outputs": [
    {
     "name": "stdout",
     "output_type": "stream",
     "text": [
      "The sub equations are:\n",
      "\\begin{align}\n",
      "- 2 \\sqrt{2} p \\frac{d}{d z} \\operatorname{c_{2}}{\\left(z \\right)} + \\sqrt{2} \\frac{d}{d z} \\operatorname{c_{2}}{\\left(z \\right)} - 2 \\frac{d^{2}}{d z^{2}} \\operatorname{c_{2}}{\\left(z \\right)} + 4 \\frac{d}{d z} \\operatorname{c_{3}}{\\left(z \\right)}&=0\\,,\\label{eq:sub_eq_1}\\\\\n",
      "- 6 C_{1} p e^{\\frac{\\sqrt{2} z}{2}} e^{- \\sqrt{2} p z}&=0\\,,\\label{eq:sub_eq_2}\\\\\n",
      "6 C_{1} p e^{\\frac{\\sqrt{2} z}{2}} e^{- \\sqrt{2} p z} + 6 C_{1} e^{\\frac{\\sqrt{2} z}{2}} e^{- \\sqrt{2} p z}&=0\\,,\\label{eq:sub_eq_3}\\\\\n",
      "- 6 C_{1} e^{\\frac{\\sqrt{2} z}{2}} e^{- \\sqrt{2} p z}&=0\\,,\\label{eq:sub_eq_4}\\\\\n",
      "- 2 p \\operatorname{c_{4}}{\\left(z \\right)} - 2 \\sqrt{2} p \\frac{d}{d z} \\operatorname{c_{4}}{\\left(z \\right)} + \\sqrt{2} \\frac{d}{d z} \\operatorname{c_{4}}{\\left(z \\right)} + 2 \\frac{d^{2}}{d z^{2}} \\operatorname{c_{4}}{\\left(z \\right)}&=0\\,.\\label{eq:sub_eq_5}\\\\\n",
      "4 p \\operatorname{c_{4}}{\\left(z \\right)} - 4 p \\frac{d}{d z} \\operatorname{c_{2}}{\\left(z \\right)} - 2 \\sqrt{2} p \\frac{d}{d z} \\operatorname{c_{3}}{\\left(z \\right)} + 4 \\operatorname{c_{4}}{\\left(z \\right)} + \\sqrt{2} \\frac{d}{d z} \\operatorname{c_{3}}{\\left(z \\right)} + 2 \\frac{d^{2}}{d z^{2}} \\operatorname{c_{3}}{\\left(z \\right)}&=0\\,.\\label{eq:sub_eq_6}\\\\\n",
      "4 \\sqrt{2} C_{1} p^{2} e^{\\frac{\\sqrt{2} z}{2}} e^{- \\sqrt{2} p z} - 2 \\sqrt{2} C_{1} p e^{\\frac{\\sqrt{2} z}{2}} e^{- \\sqrt{2} p z} + 2 p \\operatorname{c_{3}}{\\left(z \\right)} + 4 p \\frac{d}{d z} \\operatorname{c_{2}}{\\left(z \\right)} + 2 \\operatorname{c_{3}}{\\left(z \\right)} - 6 \\operatorname{c_{4}}{\\left(z \\right)} + 4 \\frac{d}{d z} \\operatorname{c_{2}}{\\left(z \\right)}&=0\\,.\\label{eq:sub_eq_7}\\\\\n",
      "- 4 \\sqrt{2} C_{1} p^{2} e^{\\frac{\\sqrt{2} z}{2}} e^{- \\sqrt{2} p z} - 2 \\sqrt{2} C_{1} p e^{\\frac{\\sqrt{2} z}{2}} e^{- \\sqrt{2} p z} + 2 \\sqrt{2} C_{1} e^{\\frac{\\sqrt{2} z}{2}} e^{- \\sqrt{2} p z} - 4 \\operatorname{c_{3}}{\\left(z \\right)} - 4 \\frac{d}{d z} \\operatorname{c_{2}}{\\left(z \\right)}&=0\\,.\\label{eq:sub_eq_8}\\\\\n",
      "\\end{align}\n"
     ]
    }
   ],
   "source": [
    "# Define our monomials\n",
    "monomials_u = [1, u, u**2, u**3]\n",
    "# Allocate memory for our sub equations\n",
    "sub_eq = []\n",
    "# Loop over the remaining determining equation and add all coefficients in front of the monomials\n",
    "for d_index in range(0,2):\n",
    "    # Loop over monomials and extract the determining equation\n",
    "    for index,monomial in enumerate(monomials_u):\n",
    "        # Make a copy of the linearised symmetry condition\n",
    "        temp_eq = det_eq_reduced[d_index]\n",
    "        # Extract the sub equation depending on what monomial we work with\n",
    "        if monomial==1 and temp_eq.subs(u,0)!=0:\n",
    "            sub_eq.append(temp_eq.subs(u,0))\n",
    "        elif temp_eq.coeff(monomial).subs(u,0)!=0:\n",
    "            sub_eq.append(temp_eq.coeff(monomial).subs(u,0))        \n",
    "# Ok, let's make a fancy LaTeX string which we can use to print the monomials\n",
    "sub_eq_string = \"\\\\begin{align}\\n\"\n",
    "for index, eq_temp in enumerate(sub_eq):\n",
    "    if index<len(monomials_u):\n",
    "        sub_eq_string += latex(eq_temp) + \"&=0\\,,\\\\label{eq:sub_eq_\" + str(index+1)+ \"}\\\\\\\\\\n\"\n",
    "    else:\n",
    "        sub_eq_string += latex(eq_temp) + \"&=0\\,.\\\\label{eq:sub_eq_\" + str(index+1)+ \"}\\\\\\\\\\n\"\n",
    "sub_eq_string += \"\\\\end{align}\"            \n",
    "print(\"The sub equations are:\")\n",
    "print(sub_eq_string)"
   ]
  },
  {
   "cell_type": "markdown",
   "metadata": {},
   "source": [
    "The sub equations are:\n",
    "\\begin{align}\n",
    "- 2 \\sqrt{2} p \\frac{d}{d z} \\operatorname{c_{2}}{\\left(z \\right)} + \\sqrt{2} \\frac{d}{d z} \\operatorname{c_{2}}{\\left(z \\right)} - 2 \\frac{d^{2}}{d z^{2}} \\operatorname{c_{2}}{\\left(z \\right)} + 4 \\frac{d}{d z} \\operatorname{c_{3}}{\\left(z \\right)}&=0\\,,\\label{eq:sub_eq_1}\\\\\n",
    "- 6 C_{1} p e^{\\frac{\\sqrt{2} z}{2}} e^{- \\sqrt{2} p z}&=0\\,,\\label{eq:sub_eq_2}\\\\\n",
    "6 C_{1} p e^{\\frac{\\sqrt{2} z}{2}} e^{- \\sqrt{2} p z} + 6 C_{1} e^{\\frac{\\sqrt{2} z}{2}} e^{- \\sqrt{2} p z}&=0\\,,\\label{eq:sub_eq_3}\\\\\n",
    "- 6 C_{1} e^{\\frac{\\sqrt{2} z}{2}} e^{- \\sqrt{2} p z}&=0\\,,\\label{eq:sub_eq_4}\\\\\n",
    "- 2 p \\operatorname{c_{4}}{\\left(z \\right)} - 2 \\sqrt{2} p \\frac{d}{d z} \\operatorname{c_{4}}{\\left(z \\right)} + \\sqrt{2} \\frac{d}{d z} \\operatorname{c_{4}}{\\left(z \\right)} + 2 \\frac{d^{2}}{d z^{2}} \\operatorname{c_{4}}{\\left(z \\right)}&=0\\,.\\label{eq:sub_eq_5}\\\\\n",
    "4 p \\operatorname{c_{4}}{\\left(z \\right)} - 4 p \\frac{d}{d z} \\operatorname{c_{2}}{\\left(z \\right)} - 2 \\sqrt{2} p \\frac{d}{d z} \\operatorname{c_{3}}{\\left(z \\right)} + 4 \\operatorname{c_{4}}{\\left(z \\right)} + \\sqrt{2} \\frac{d}{d z} \\operatorname{c_{3}}{\\left(z \\right)} + 2 \\frac{d^{2}}{d z^{2}} \\operatorname{c_{3}}{\\left(z \\right)}&=0\\,.\\label{eq:sub_eq_6}\\\\\n",
    "4 \\sqrt{2} C_{1} p^{2} e^{\\frac{\\sqrt{2} z}{2}} e^{- \\sqrt{2} p z} - 2 \\sqrt{2} C_{1} p e^{\\frac{\\sqrt{2} z}{2}} e^{- \\sqrt{2} p z} + 2 p \\operatorname{c_{3}}{\\left(z \\right)} + 4 p \\frac{d}{d z} \\operatorname{c_{2}}{\\left(z \\right)} + 2 \\operatorname{c_{3}}{\\left(z \\right)} - 6 \\operatorname{c_{4}}{\\left(z \\right)} + 4 \\frac{d}{d z} \\operatorname{c_{2}}{\\left(z \\right)}&=0\\,.\\label{eq:sub_eq_7}\\\\\n",
    "- 4 \\sqrt{2} C_{1} p^{2} e^{\\frac{\\sqrt{2} z}{2}} e^{- \\sqrt{2} p z} - 2 \\sqrt{2} C_{1} p e^{\\frac{\\sqrt{2} z}{2}} e^{- \\sqrt{2} p z} + 2 \\sqrt{2} C_{1} e^{\\frac{\\sqrt{2} z}{2}} e^{- \\sqrt{2} p z} - 4 \\operatorname{c_{3}}{\\left(z \\right)} - 4 \\frac{d}{d z} \\operatorname{c_{2}}{\\left(z \\right)}&=0\\,.\\label{eq:sub_eq_8}\\\\\n",
    "\\end{align}\n",
    "\n",
    "\n",
    "\n",
    "Here, we clearly see that $C_{1}=0$. Let's substitute this value and see what comes from it! \n"
   ]
  },
  {
   "cell_type": "code",
   "execution_count": 13,
   "metadata": {},
   "outputs": [
    {
     "name": "stdout",
     "output_type": "stream",
     "text": [
      "The reduced sub equations are:\n",
      "\\begin{align}\n",
      "- 2 \\sqrt{2} p \\frac{d}{d z} \\operatorname{c_{2}}{\\left(z \\right)} + \\sqrt{2} \\frac{d}{d z} \\operatorname{c_{2}}{\\left(z \\right)} - 2 \\frac{d^{2}}{d z^{2}} \\operatorname{c_{2}}{\\left(z \\right)} + 4 \\frac{d}{d z} \\operatorname{c_{3}}{\\left(z \\right)}&=0\\,,\\label{eq:d_Allee_reduced_again_1}\\\\\n",
      "- 2 p \\operatorname{c_{4}}{\\left(z \\right)} - 2 \\sqrt{2} p \\frac{d}{d z} \\operatorname{c_{4}}{\\left(z \\right)} + \\sqrt{2} \\frac{d}{d z} \\operatorname{c_{4}}{\\left(z \\right)} + 2 \\frac{d^{2}}{d z^{2}} \\operatorname{c_{4}}{\\left(z \\right)}&=0\\,,\\label{eq:d_Allee_reduced_again_2}\\\\\n",
      "4 p \\operatorname{c_{4}}{\\left(z \\right)} - 4 p \\frac{d}{d z} \\operatorname{c_{2}}{\\left(z \\right)} - 2 \\sqrt{2} p \\frac{d}{d z} \\operatorname{c_{3}}{\\left(z \\right)} + 4 \\operatorname{c_{4}}{\\left(z \\right)} + \\sqrt{2} \\frac{d}{d z} \\operatorname{c_{3}}{\\left(z \\right)} + 2 \\frac{d^{2}}{d z^{2}} \\operatorname{c_{3}}{\\left(z \\right)}&=0\\,.\\label{eq:d_Allee_reduced_again_3}\\\\\n",
      "2 p \\operatorname{c_{3}}{\\left(z \\right)} + 4 p \\frac{d}{d z} \\operatorname{c_{2}}{\\left(z \\right)} + 2 \\operatorname{c_{3}}{\\left(z \\right)} - 6 \\operatorname{c_{4}}{\\left(z \\right)} + 4 \\frac{d}{d z} \\operatorname{c_{2}}{\\left(z \\right)}&=0\\,.\\label{eq:d_Allee_reduced_again_4}\\\\\n",
      "- 4 \\operatorname{c_{3}}{\\left(z \\right)} - 4 \\frac{d}{d z} \\operatorname{c_{2}}{\\left(z \\right)}&=0\\,.\\label{eq:d_Allee_reduced_again_5}\\\\\n",
      "\\end{align}\n"
     ]
    }
   ],
   "source": [
    "# Reduce the system by substituting our dear value for c1 everywhere\n",
    "sub_eq_reduced = [expand(simplify(eq_temp.subs(C1,0).doit())) for eq_temp in sub_eq]\n",
    "sub_eq_reduced = [i for i in sub_eq_reduced if i!=0]\n",
    "# Ok, let's make a fancy LaTeX string which we can use to print the monomials\n",
    "sub_eq_string = \"\\\\begin{align}\\n\"\n",
    "for index,eq_temp in enumerate(sub_eq_reduced):\n",
    "    if index<len(det_eq)-1:\n",
    "        sub_eq_string += latex(eq_temp) + \"&=0\\,,\\\\label{eq:d_Allee_reduced_again_\" + str(index+1)+ \"}\\\\\\\\\\n\"\n",
    "    else:\n",
    "        sub_eq_string += latex(eq_temp) + \"&=0\\,.\\\\label{eq:d_Allee_reduced_again_\" + str(index+1)+ \"}\\\\\\\\\\n\"\n",
    "\n",
    "sub_eq_string += \"\\\\end{align}\"            \n",
    "print(\"The reduced sub equations are:\")\n",
    "print(sub_eq_string)"
   ]
  },
  {
   "cell_type": "markdown",
   "metadata": {},
   "source": [
    "The reduced sub equations are:\n",
    "\\begin{align}\n",
    "- 2 \\sqrt{2} p \\frac{d}{d z} \\operatorname{c_{2}}{\\left(z \\right)} + \\sqrt{2} \\frac{d}{d z} \\operatorname{c_{2}}{\\left(z \\right)} - 2 \\frac{d^{2}}{d z^{2}} \\operatorname{c_{2}}{\\left(z \\right)} + 4 \\frac{d}{d z} \\operatorname{c_{3}}{\\left(z \\right)}&=0\\,,\\label{eq:d_Allee_reduced_again_1}\\\\\n",
    "- 2 p \\operatorname{c_{4}}{\\left(z \\right)} - 2 \\sqrt{2} p \\frac{d}{d z} \\operatorname{c_{4}}{\\left(z \\right)} + \\sqrt{2} \\frac{d}{d z} \\operatorname{c_{4}}{\\left(z \\right)} + 2 \\frac{d^{2}}{d z^{2}} \\operatorname{c_{4}}{\\left(z \\right)}&=0\\,,\\label{eq:d_Allee_reduced_again_2}\\\\\n",
    "4 p \\operatorname{c_{4}}{\\left(z \\right)} - 4 p \\frac{d}{d z} \\operatorname{c_{2}}{\\left(z \\right)} - 2 \\sqrt{2} p \\frac{d}{d z} \\operatorname{c_{3}}{\\left(z \\right)} + 4 \\operatorname{c_{4}}{\\left(z \\right)} + \\sqrt{2} \\frac{d}{d z} \\operatorname{c_{3}}{\\left(z \\right)} + 2 \\frac{d^{2}}{d z^{2}} \\operatorname{c_{3}}{\\left(z \\right)}&=0\\,.\\label{eq:d_Allee_reduced_again_3}\\\\\n",
    "2 p \\operatorname{c_{3}}{\\left(z \\right)} + 4 p \\frac{d}{d z} \\operatorname{c_{2}}{\\left(z \\right)} + 2 \\operatorname{c_{3}}{\\left(z \\right)} - 6 \\operatorname{c_{4}}{\\left(z \\right)} + 4 \\frac{d}{d z} \\operatorname{c_{2}}{\\left(z \\right)}&=0\\,.\\label{eq:d_Allee_reduced_again_4}\\\\\n",
    "- 4 \\operatorname{c_{3}}{\\left(z \\right)} - 4 \\frac{d}{d z} \\operatorname{c_{2}}{\\left(z \\right)}&=0\\,.\\label{eq:d_Allee_reduced_again_5}\\\\\n",
    "\\end{align}\n",
    "From the last sub equation, we can get an equation for $c_3$. "
   ]
  },
  {
   "cell_type": "code",
   "execution_count": 14,
   "metadata": {},
   "outputs": [
    {
     "name": "stdout",
     "output_type": "stream",
     "text": [
      "\\begin{equation}\\operatorname{c_{3}}{\\left(z \\right)} = - \\frac{d}{d z} \\operatorname{c_{2}}{\\left(z \\right)}\\end{equation}\n"
     ]
    }
   ],
   "source": [
    "# Extract the last equation\n",
    "eq_c3 = Eq(sub_eq_reduced[-1],0)\n",
    "# Solve it for c3\n",
    "c3_sol = solve(eq_c3,c3)\n",
    "c3_eq = Eq(c3,c3_sol[0])\n",
    "print(latex(c3_eq,mode='equation'))"
   ]
  },
  {
   "cell_type": "markdown",
   "metadata": {},
   "source": [
    "This is the value for c3:\n",
    "\\begin{equation}\\operatorname{c_{3}}{\\left(z \\right)} = - \\frac{d}{d z} \\operatorname{c_{2}}{\\left(z \\right)}\\end{equation}\n",
    "Let's substitute this value into all the remaining equations and see what comes of it."
   ]
  },
  {
   "cell_type": "code",
   "execution_count": 15,
   "metadata": {},
   "outputs": [
    {
     "name": "stdout",
     "output_type": "stream",
     "text": [
      "The reduced sub equations are:\n",
      "\\begin{align}\n",
      "- 2 \\sqrt{2} p \\frac{d}{d z} \\operatorname{c_{2}}{\\left(z \\right)} + \\sqrt{2} \\frac{d}{d z} \\operatorname{c_{2}}{\\left(z \\right)} - 6 \\frac{d^{2}}{d z^{2}} \\operatorname{c_{2}}{\\left(z \\right)}&=0\\,,\\label{eq:d_Allee_reduced_again_1}\\\\\n",
      "- 2 p \\operatorname{c_{4}}{\\left(z \\right)} - 2 \\sqrt{2} p \\frac{d}{d z} \\operatorname{c_{4}}{\\left(z \\right)} + \\sqrt{2} \\frac{d}{d z} \\operatorname{c_{4}}{\\left(z \\right)} + 2 \\frac{d^{2}}{d z^{2}} \\operatorname{c_{4}}{\\left(z \\right)}&=0\\,,\\label{eq:d_Allee_reduced_again_2}\\\\\n",
      "4 p \\operatorname{c_{4}}{\\left(z \\right)} - 4 p \\frac{d}{d z} \\operatorname{c_{2}}{\\left(z \\right)} + 2 \\sqrt{2} p \\frac{d^{2}}{d z^{2}} \\operatorname{c_{2}}{\\left(z \\right)} + 4 \\operatorname{c_{4}}{\\left(z \\right)} - \\sqrt{2} \\frac{d^{2}}{d z^{2}} \\operatorname{c_{2}}{\\left(z \\right)} - 2 \\frac{d^{3}}{d z^{3}} \\operatorname{c_{2}}{\\left(z \\right)}&=0\\,.\\label{eq:d_Allee_reduced_again_3}\\\\\n",
      "2 p \\frac{d}{d z} \\operatorname{c_{2}}{\\left(z \\right)} - 6 \\operatorname{c_{4}}{\\left(z \\right)} + 2 \\frac{d}{d z} \\operatorname{c_{2}}{\\left(z \\right)}&=0\\,.\\label{eq:d_Allee_reduced_again_4}\\\\\n",
      "\\end{align}\n"
     ]
    }
   ],
   "source": [
    "# Reduce the system by substituting our dear value for c3 everywhere\n",
    "sub_eq_reduced = [expand(simplify(eq_temp.subs(c3_eq.lhs,c3_eq.rhs).doit())) for eq_temp in sub_eq_reduced]\n",
    "sub_eq_reduced = [i for i in sub_eq_reduced if i!=0]\n",
    "# Ok, let's make a fancy LaTeX string which we can use to print the monomials\n",
    "sub_eq_string = \"\\\\begin{align}\\n\"\n",
    "for index,eq_temp in enumerate(sub_eq_reduced):\n",
    "    if index<len(det_eq)-1:\n",
    "        sub_eq_string += latex(eq_temp) + \"&=0\\,,\\\\label{eq:d_Allee_reduced_again_\" + str(index+1)+ \"}\\\\\\\\\\n\"\n",
    "    else:\n",
    "        sub_eq_string += latex(eq_temp) + \"&=0\\,.\\\\label{eq:d_Allee_reduced_again_\" + str(index+1)+ \"}\\\\\\\\\\n\"\n",
    "\n",
    "sub_eq_string += \"\\\\end{align}\"            \n",
    "print(\"The reduced sub equations are:\")\n",
    "print(sub_eq_string)"
   ]
  },
  {
   "cell_type": "markdown",
   "metadata": {},
   "source": [
    "The reduced sub equations are:\n",
    "\\begin{align}\n",
    "- 2 \\sqrt{2} p \\frac{d}{d z} \\operatorname{c_{2}}{\\left(z \\right)} + \\sqrt{2} \\frac{d}{d z} \\operatorname{c_{2}}{\\left(z \\right)} - 6 \\frac{d^{2}}{d z^{2}} \\operatorname{c_{2}}{\\left(z \\right)}&=0\\,,\\label{eq:d_Allee_reduced_again_1}\\\\\n",
    "- 2 p \\operatorname{c_{4}}{\\left(z \\right)} - 2 \\sqrt{2} p \\frac{d}{d z} \\operatorname{c_{4}}{\\left(z \\right)} + \\sqrt{2} \\frac{d}{d z} \\operatorname{c_{4}}{\\left(z \\right)} + 2 \\frac{d^{2}}{d z^{2}} \\operatorname{c_{4}}{\\left(z \\right)}&=0\\,,\\label{eq:d_Allee_reduced_again_2}\\\\\n",
    "4 p \\operatorname{c_{4}}{\\left(z \\right)} - 4 p \\frac{d}{d z} \\operatorname{c_{2}}{\\left(z \\right)} + 2 \\sqrt{2} p \\frac{d^{2}}{d z^{2}} \\operatorname{c_{2}}{\\left(z \\right)} + 4 \\operatorname{c_{4}}{\\left(z \\right)} - \\sqrt{2} \\frac{d^{2}}{d z^{2}} \\operatorname{c_{2}}{\\left(z \\right)} - 2 \\frac{d^{3}}{d z^{3}} \\operatorname{c_{2}}{\\left(z \\right)}&=0\\,.\\label{eq:d_Allee_reduced_again_3}\\\\\n",
    "2 p \\frac{d}{d z} \\operatorname{c_{2}}{\\left(z \\right)} - 6 \\operatorname{c_{4}}{\\left(z \\right)} + 2 \\frac{d}{d z} \\operatorname{c_{2}}{\\left(z \\right)}&=0\\,.\\label{eq:d_Allee_reduced_again_4}\\\\\n",
    "\\end{align}\n",
    "\n",
    "Now, this is grand! We should be able to solve the first equation for $c_2$ and then the second equation for $c_4$. Then we should, in principle, be able to plug these into the remaining two equations in order to solve these for the arbitryry coefficients shouldn't we?\n",
    "### Solve ODEs for c2 and c4"
   ]
  },
  {
   "cell_type": "code",
   "execution_count": 16,
   "metadata": {},
   "outputs": [
    {
     "name": "stdout",
     "output_type": "stream",
     "text": [
      "Solution for c2:\n",
      "\\begin{equation}\\operatorname{c_{2}}{\\left(z \\right)} = C_{1} + C_{2} e^{\\frac{\\sqrt{2} z \\left(1 - 2 p\\right)}{6}}\\end{equation}\n",
      "Solution for c4:\n",
      "\\begin{equation}\\operatorname{c_{4}}{\\left(z \\right)} = C_{3} e^{\\frac{\\sqrt{2} z \\left(2 p - \\sqrt{8 p + \\left(2 p - 1\\right)^{2}} - 1\\right)}{4}} + C_{4} e^{\\frac{\\sqrt{2} z \\left(2 p + \\sqrt{8 p + \\left(2 p - 1\\right)^{2}} - 1\\right)}{4}}\\end{equation}\n"
     ]
    }
   ],
   "source": [
    "# Allocate some arbitrary symbols for the solutions\n",
    "C1, C2, C3, C4 = symbols('C1 C2 C3 C4')\n",
    "# Solve for c2\n",
    "c2_sol = dsolve(sub_eq_reduced[0], c2)\n",
    "print(\"Solution for c2:\")\n",
    "print(latex(c2_sol,mode='equation'))\n",
    "# Solve for c4\n",
    "c4_sol = dsolve(sub_eq_reduced[1], c4)\n",
    "c4_sol = Eq(c4_sol.lhs,c4_sol.rhs.subs(C1,C3).subs(C2,C4))\n",
    "print(\"Solution for c4:\")\n",
    "print(latex(c4_sol,mode='equation'))"
   ]
  },
  {
   "cell_type": "markdown",
   "metadata": {},
   "source": [
    "Solution for c2:\n",
    "\\begin{equation}\\operatorname{c_{2}}{\\left(z \\right)} = C_{1} + C_{2} e^{\\frac{\\sqrt{2} z \\left(1 - 2 p\\right)}{6}}\\end{equation}\n",
    "Solution for c4:\n",
    "\\begin{equation}\\operatorname{c_{4}}{\\left(z \\right)} = C_{3} e^{\\frac{\\sqrt{2} z \\left(2 p - \\sqrt{8 p + \\left(2 p - 1\\right)^{2}} - 1\\right)}{4}} + C_{4} e^{\\frac{\\sqrt{2} z \\left(2 p + \\sqrt{8 p + \\left(2 p - 1\\right)^{2}} - 1\\right)}{4}}\\end{equation}\n",
    "\n",
    "Let's substitute these into the remaining equations, and reduce the system further."
   ]
  },
  {
   "cell_type": "code",
   "execution_count": 17,
   "metadata": {},
   "outputs": [
    {
     "name": "stdout",
     "output_type": "stream",
     "text": [
      "The reduced sub equations are:\n",
      "\\begin{align}\n",
      "\\frac{16 \\sqrt{2} C_{2} p^{3} e^{\\frac{\\sqrt{2} z}{6}} e^{- \\frac{\\sqrt{2} p z}{3}}}{27} + \\frac{4 \\sqrt{2} C_{2} p^{2} e^{\\frac{\\sqrt{2} z}{6}} e^{- \\frac{\\sqrt{2} p z}{3}}}{9} - \\frac{2 \\sqrt{2} C_{2} p e^{\\frac{\\sqrt{2} z}{6}} e^{- \\frac{\\sqrt{2} p z}{3}}}{9} - \\frac{2 \\sqrt{2} C_{2} e^{\\frac{\\sqrt{2} z}{6}} e^{- \\frac{\\sqrt{2} p z}{3}}}{27} + 4 C_{3} p e^{- \\frac{\\sqrt{2} z}{4}} e^{\\frac{\\sqrt{2} p z}{2}} e^{- \\frac{\\sqrt{2} z \\sqrt{4 p^{2} + 4 p + 1}}{4}} + 4 C_{3} e^{- \\frac{\\sqrt{2} z}{4}} e^{\\frac{\\sqrt{2} p z}{2}} e^{- \\frac{\\sqrt{2} z \\sqrt{4 p^{2} + 4 p + 1}}{4}} + 4 C_{4} p e^{- \\frac{\\sqrt{2} z}{4}} e^{\\frac{\\sqrt{2} p z}{2}} e^{\\frac{\\sqrt{2} z \\sqrt{4 p^{2} + 4 p + 1}}{4}} + 4 C_{4} e^{- \\frac{\\sqrt{2} z}{4}} e^{\\frac{\\sqrt{2} p z}{2}} e^{\\frac{\\sqrt{2} z \\sqrt{4 p^{2} + 4 p + 1}}{4}}&=0\\,,\\label{eq:d_Allee_reduced_again_1}\\\\\n",
      "- \\frac{2 \\sqrt{2} C_{2} p^{2} e^{\\frac{\\sqrt{2} z}{6}} e^{- \\frac{\\sqrt{2} p z}{3}}}{3} - \\frac{\\sqrt{2} C_{2} p e^{\\frac{\\sqrt{2} z}{6}} e^{- \\frac{\\sqrt{2} p z}{3}}}{3} + \\frac{\\sqrt{2} C_{2} e^{\\frac{\\sqrt{2} z}{6}} e^{- \\frac{\\sqrt{2} p z}{3}}}{3} - 6 C_{3} e^{- \\frac{\\sqrt{2} z}{4}} e^{\\frac{\\sqrt{2} p z}{2}} e^{- \\frac{\\sqrt{2} z \\sqrt{4 p^{2} + 4 p + 1}}{4}} - 6 C_{4} e^{- \\frac{\\sqrt{2} z}{4}} e^{\\frac{\\sqrt{2} p z}{2}} e^{\\frac{\\sqrt{2} z \\sqrt{4 p^{2} + 4 p + 1}}{4}}&=0\\,,\\label{eq:d_Allee_reduced_again_2}\\\\\n",
      "\\end{align}\n"
     ]
    }
   ],
   "source": [
    "# Reduce the system by substituting our dear value for c4 everywhere\n",
    "sub_eq_reduced = [expand(simplify(eq_temp.subs(c2_sol.lhs,c2_sol.rhs).subs(c4_sol.lhs,c4_sol.rhs).doit())) for eq_temp in sub_eq_reduced]\n",
    "sub_eq_reduced = [i for i in sub_eq_reduced if i!=0]\n",
    "# Ok, let's make a fancy LaTeX string which we can use to print the monomials\n",
    "sub_eq_string = \"\\\\begin{align}\\n\"\n",
    "for index,eq_temp in enumerate(sub_eq_reduced):\n",
    "    if index<len(det_eq)-1:\n",
    "        sub_eq_string += latex(eq_temp) + \"&=0\\,,\\\\label{eq:d_Allee_reduced_again_\" + str(index+1)+ \"}\\\\\\\\\\n\"\n",
    "    else:\n",
    "        sub_eq_string += latex(eq_temp) + \"&=0\\,.\\\\label{eq:d_Allee_reduced_again_\" + str(index+1)+ \"}\\\\\\\\\\n\"\n",
    "\n",
    "sub_eq_string += \"\\\\end{align}\"            \n",
    "print(\"The reduced sub equations are:\")\n",
    "print(sub_eq_string)"
   ]
  },
  {
   "cell_type": "markdown",
   "metadata": {},
   "source": [
    "The reduced sub equations are:\n",
    "\\begin{align}\n",
    "\\frac{16 \\sqrt{2} C_{2} p^{3} e^{\\frac{\\sqrt{2} z}{6}} e^{- \\frac{\\sqrt{2} p z}{3}}}{27} + \\frac{4 \\sqrt{2} C_{2} p^{2} e^{\\frac{\\sqrt{2} z}{6}} e^{- \\frac{\\sqrt{2} p z}{3}}}{9} - \\frac{2 \\sqrt{2} C_{2} p e^{\\frac{\\sqrt{2} z}{6}} e^{- \\frac{\\sqrt{2} p z}{3}}}{9} - \\frac{2 \\sqrt{2} C_{2} e^{\\frac{\\sqrt{2} z}{6}} e^{- \\frac{\\sqrt{2} p z}{3}}}{27} + 4 C_{3} p e^{- \\frac{\\sqrt{2} z}{4}} e^{\\frac{\\sqrt{2} p z}{2}} e^{- \\frac{\\sqrt{2} z \\sqrt{4 p^{2} + 4 p + 1}}{4}} + 4 C_{3} e^{- \\frac{\\sqrt{2} z}{4}} e^{\\frac{\\sqrt{2} p z}{2}} e^{- \\frac{\\sqrt{2} z \\sqrt{4 p^{2} + 4 p + 1}}{4}} + 4 C_{4} p e^{- \\frac{\\sqrt{2} z}{4}} e^{\\frac{\\sqrt{2} p z}{2}} e^{\\frac{\\sqrt{2} z \\sqrt{4 p^{2} + 4 p + 1}}{4}} + 4 C_{4} e^{- \\frac{\\sqrt{2} z}{4}} e^{\\frac{\\sqrt{2} p z}{2}} e^{\\frac{\\sqrt{2} z \\sqrt{4 p^{2} + 4 p + 1}}{4}}&=0\\,,\\label{eq:d_Allee_reduced_again_1}\\\\\n",
    "- \\frac{2 \\sqrt{2} C_{2} p^{2} e^{\\frac{\\sqrt{2} z}{6}} e^{- \\frac{\\sqrt{2} p z}{3}}}{3} - \\frac{\\sqrt{2} C_{2} p e^{\\frac{\\sqrt{2} z}{6}} e^{- \\frac{\\sqrt{2} p z}{3}}}{3} + \\frac{\\sqrt{2} C_{2} e^{\\frac{\\sqrt{2} z}{6}} e^{- \\frac{\\sqrt{2} p z}{3}}}{3} - 6 C_{3} e^{- \\frac{\\sqrt{2} z}{4}} e^{\\frac{\\sqrt{2} p z}{2}} e^{- \\frac{\\sqrt{2} z \\sqrt{4 p^{2} + 4 p + 1}}{4}} - 6 C_{4} e^{- \\frac{\\sqrt{2} z}{4}} e^{\\frac{\\sqrt{2} p z}{2}} e^{\\frac{\\sqrt{2} z \\sqrt{4 p^{2} + 4 p + 1}}{4}}&=0\\,,\\label{eq:d_Allee_reduced_again_2}\\\\\n",
    "\\end{align}\n",
    "\n",
    "The only solution here is really $C_2=C_3=C_4=0$. This gives us that $c_{2}(z)=C_1$ and $c_{3}(z)=0$. This also gives us that $c_{4}(z)=0$. \n",
    "\n",
    "All in all, we are left with the translation symmetry $X_{z}=\\partial_{z}$. "
   ]
  },
  {
   "cell_type": "code",
   "execution_count": null,
   "metadata": {},
   "outputs": [],
   "source": []
  },
  {
   "cell_type": "code",
   "execution_count": null,
   "metadata": {},
   "outputs": [],
   "source": []
  }
 ],
 "metadata": {
  "kernelspec": {
   "display_name": "Python 3 (ipykernel)",
   "language": "python",
   "name": "python3"
  },
  "language_info": {
   "codemirror_mode": {
    "name": "ipython",
    "version": 3
   },
   "file_extension": ".py",
   "mimetype": "text/x-python",
   "name": "python",
   "nbconvert_exporter": "python",
   "pygments_lexer": "ipython3",
   "version": "3.8.3"
  }
 },
 "nbformat": 4,
 "nbformat_minor": 4
}
